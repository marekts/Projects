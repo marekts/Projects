{
 "cells": [
  {
   "cell_type": "code",
   "execution_count": 1,
   "metadata": {},
   "outputs": [
    {
     "name": "stderr",
     "output_type": "stream",
     "text": [
      "Using TensorFlow backend.\n"
     ]
    }
   ],
   "source": [
    "import numpy as np\n",
    "import pandas as pd\n",
    "\n",
    "from sklearn.model_selection import train_test_split\n",
    "\n",
    "from keras.models import Sequential\n",
    "from keras.layers import Dense, Dropout, Flatten, Conv2D, MaxPool2D\n",
    "from keras.applications import VGG16\n",
    "from keras.utils import np_utils\n",
    "from keras.callbacks import ModelCheckpoint, EarlyStopping\n",
    "\n",
    "import matplotlib.pyplot as plt\n",
    "%matplotlib inline"
   ]
  },
  {
   "cell_type": "code",
   "execution_count": 2,
   "metadata": {},
   "outputs": [
    {
     "name": "stdout",
     "output_type": "stream",
     "text": [
      "Train shape: (42000, 785), test shape: (28000, 784)\n"
     ]
    }
   ],
   "source": [
    "train_data = pd.read_csv('train.csv')\n",
    "test_data = pd.read_csv('test.csv')\n",
    "\n",
    "print('Train shape: {0}, test shape: {1}'.format(train_data.shape, test_data.shape))"
   ]
  },
  {
   "cell_type": "code",
   "execution_count": 3,
   "metadata": {},
   "outputs": [],
   "source": [
    "labels, data = train_data['label'].values, train_data.iloc[:, 1:].values"
   ]
  },
  {
   "cell_type": "code",
   "execution_count": 4,
   "metadata": {},
   "outputs": [
    {
     "name": "stdout",
     "output_type": "stream",
     "text": [
      "(42000, 784)\n",
      "0 255\n"
     ]
    }
   ],
   "source": [
    "print(data.shape)\n",
    "print(np.min(data), np.max(data))"
   ]
  },
  {
   "cell_type": "code",
   "execution_count": 5,
   "metadata": {
    "scrolled": true
   },
   "outputs": [
    {
     "data": {
      "image/png": "[encoded data removed]",
      "text/plain": [
       "<Figure size 1080x576 with 5 Axes>"
      ]
     },
     "metadata": {
      "needs_background": "light"
     },
     "output_type": "display_data"
    }
   ],
   "source": [
    "# Check a few digits\n",
    "\n",
    "sample_digits = np.random.randint(0, len(data), 5)\n",
    "\n",
    "fig = plt.figure(figsize=(15, 8))\n",
    "plt.subplots_adjust(0.)\n",
    "i = 1\n",
    "for x in sample_digits:\n",
    "    ax = fig.add_subplot(1, 5, i)\n",
    "    i += 1\n",
    "    ax.set_title('True value: {0}'.format(labels[x]))\n",
    "    digit = data[x].reshape(28, 28)\n",
    "    plt.imshow(digit, cmap = plt.cm.binary)"
   ]
  },
  {
   "cell_type": "code",
   "execution_count": 6,
   "metadata": {},
   "outputs": [],
   "source": [
    "# Scale train and test data from 1 to 0\n",
    "test = test_data.values\n",
    "\n",
    "if np.max(data) > 1: data = data / 255\n",
    "if np.max(test) > 1: test = test / 255\n",
    "    \n",
    "# Convert labels to categorical\n",
    "y = np_utils.to_categorical(labels)\n"
   ]
  },
  {
   "cell_type": "code",
   "execution_count": 7,
   "metadata": {},
   "outputs": [],
   "source": [
    "X_train, X_test, y_train, y_test = train_test_split(data, y, test_size=0.2, random_state=46)"
   ]
  },
  {
   "cell_type": "markdown",
   "metadata": {},
   "source": [
    "### Build  MLP models"
   ]
  },
  {
   "cell_type": "code",
   "execution_count": 8,
   "metadata": {},
   "outputs": [],
   "source": [
    "num_inputs = X_train.shape[1]\n",
    "num_outputs = y.shape[1]"
   ]
  },
  {
   "cell_type": "code",
   "execution_count": 16,
   "metadata": {
    "scrolled": false
   },
   "outputs": [
    {
     "name": "stdout",
     "output_type": "stream",
     "text": [
      "Model: \"sequential_4\"\n",
      "_________________________________________________________________\n",
      "Layer (type)                 Output Shape              Param #   \n",
      "=================================================================\n",
      "dense_10 (Dense)             (None, 512)               401920    \n",
      "_________________________________________________________________\n",
      "dense_11 (Dense)             (None, 256)               131328    \n",
      "_________________________________________________________________\n",
      "dense_12 (Dense)             (None, 10)                2570      \n",
      "=================================================================\n",
      "Total params: 535,818\n",
      "Trainable params: 535,818\n",
      "Non-trainable params: 0\n",
      "_________________________________________________________________\n"
     ]
    }
   ],
   "source": [
    "# MLP model 2 hidden layers\n",
    "first_mlp_model = Sequential([\n",
    "    Dense(512, input_dim=num_inputs, activation='relu'),\n",
    "    Dense(256, activation='relu'),\n",
    "    Dense(num_outputs, activation='softmax')\n",
    "])\n",
    "\n",
    "first_mlp_model.compile(loss='categorical_crossentropy', optimizer='adam', metrics=['accuracy'])\n",
    "first_mlp_model.summary()"
   ]
  },
  {
   "cell_type": "code",
   "execution_count": 18,
   "metadata": {},
   "outputs": [
    {
     "name": "stdout",
     "output_type": "stream",
     "text": [
      "Train on 33600 samples, validate on 8400 samples\n",
      "Epoch 1/12\n",
      " - 4s - loss: 0.0158 - accuracy: 0.9947 - val_loss: 0.1095 - val_accuracy: 0.9755\n",
      "Epoch 2/12\n",
      " - 4s - loss: 0.0066 - accuracy: 0.9980 - val_loss: 0.1039 - val_accuracy: 0.9764\n",
      "Epoch 3/12\n",
      " - 4s - loss: 0.0016 - accuracy: 0.9997 - val_loss: 0.1027 - val_accuracy: 0.9793\n",
      "Epoch 4/12\n",
      " - 4s - loss: 0.0022 - accuracy: 0.9994 - val_loss: 0.1065 - val_accuracy: 0.9782\n",
      "Epoch 5/12\n",
      " - 5s - loss: 0.0016 - accuracy: 0.9996 - val_loss: 0.0984 - val_accuracy: 0.9808\n",
      "Epoch 6/12\n",
      " - 5s - loss: 3.1465e-04 - accuracy: 1.0000 - val_loss: 0.1011 - val_accuracy: 0.9811\n",
      "Epoch 7/12\n",
      " - 5s - loss: 1.5549e-04 - accuracy: 1.0000 - val_loss: 0.1021 - val_accuracy: 0.9810\n",
      "Epoch 8/12\n",
      " - 5s - loss: 1.2341e-04 - accuracy: 1.0000 - val_loss: 0.1040 - val_accuracy: 0.9811\n",
      "Epoch 9/12\n",
      " - 5s - loss: 1.0491e-04 - accuracy: 1.0000 - val_loss: 0.1060 - val_accuracy: 0.9808\n",
      "Epoch 10/12\n",
      " - 5s - loss: 9.2128e-05 - accuracy: 1.0000 - val_loss: 0.1071 - val_accuracy: 0.9808\n",
      "Epoch 11/12\n",
      " - 5s - loss: 8.1379e-05 - accuracy: 1.0000 - val_loss: 0.1082 - val_accuracy: 0.9811\n",
      "Epoch 12/12\n",
      " - 5s - loss: 7.3365e-05 - accuracy: 1.0000 - val_loss: 0.1090 - val_accuracy: 0.9807\n"
     ]
    },
    {
     "data": {
      "text/plain": [
       "<keras.callbacks.callbacks.History at 0x1a94798150>"
      ]
     },
     "execution_count": 18,
     "metadata": {},
     "output_type": "execute_result"
    }
   ],
   "source": [
    "first_mlp_model.fit(X_train, y_train,\n",
    "         batch_size=256,\n",
    "         epochs=12,\n",
    "         verbose=2,\n",
    "         validation_data=(X_test, y_test))"
   ]
  },
  {
   "cell_type": "code",
   "execution_count": 36,
   "metadata": {},
   "outputs": [],
   "source": [
    "# MLP model 3 hidden layers and dropouts\n",
    "second_mlp_model = Sequential([\n",
    "    Dense(1024, input_dim=num_inputs, activation='relu'),\n",
    "    Dropout(0.5),\n",
    "    \n",
    "    Dense(512, activation='relu'),\n",
    "    Dropout(0.2),\n",
    "    \n",
    "    Dense(256, activation='relu'),\n",
    "    Dropout(0.2),\n",
    "    \n",
    "    Dense(num_outputs, activation='softmax')\n",
    "])\n",
    "\n",
    "second_mlp_model.compile(loss='categorical_crossentropy', optimizer='adam', metrics=['accuracy'])"
   ]
  },
  {
   "cell_type": "code",
   "execution_count": 37,
   "metadata": {},
   "outputs": [
    {
     "name": "stdout",
     "output_type": "stream",
     "text": [
      "Train on 33600 samples, validate on 8400 samples\n",
      "Epoch 1/12\n",
      " - 23s - loss: 0.4522 - accuracy: 0.8607 - val_loss: 0.1551 - val_accuracy: 0.9533\n",
      "Epoch 2/12\n",
      " - 15s - loss: 0.1743 - accuracy: 0.9460 - val_loss: 0.1116 - val_accuracy: 0.9664\n",
      "Epoch 3/12\n",
      " - 15s - loss: 0.1268 - accuracy: 0.9603 - val_loss: 0.0937 - val_accuracy: 0.9714\n",
      "Epoch 4/12\n",
      " - 15s - loss: 0.1044 - accuracy: 0.9676 - val_loss: 0.0816 - val_accuracy: 0.9758\n",
      "Epoch 5/12\n",
      " - 15s - loss: 0.0871 - accuracy: 0.9719 - val_loss: 0.0831 - val_accuracy: 0.9750\n",
      "Epoch 6/12\n",
      " - 14s - loss: 0.0745 - accuracy: 0.9754 - val_loss: 0.0823 - val_accuracy: 0.9771\n",
      "Epoch 7/12\n",
      " - 14s - loss: 0.0676 - accuracy: 0.9783 - val_loss: 0.0796 - val_accuracy: 0.9771\n",
      "Epoch 8/12\n",
      " - 14s - loss: 0.0583 - accuracy: 0.9806 - val_loss: 0.0791 - val_accuracy: 0.9769\n",
      "Epoch 9/12\n",
      " - 14s - loss: 0.0578 - accuracy: 0.9815 - val_loss: 0.0835 - val_accuracy: 0.9783\n",
      "Epoch 10/12\n",
      " - 14s - loss: 0.0497 - accuracy: 0.9835 - val_loss: 0.0777 - val_accuracy: 0.9798\n",
      "Epoch 11/12\n",
      " - 14s - loss: 0.0477 - accuracy: 0.9836 - val_loss: 0.0826 - val_accuracy: 0.9794\n",
      "Epoch 12/12\n",
      " - 14s - loss: 0.0428 - accuracy: 0.9858 - val_loss: 0.0749 - val_accuracy: 0.9811\n"
     ]
    },
    {
     "data": {
      "text/plain": [
       "<keras.callbacks.callbacks.History at 0x1a9c48ab10>"
      ]
     },
     "execution_count": 37,
     "metadata": {},
     "output_type": "execute_result"
    }
   ],
   "source": [
    "second_mlp_model.fit(X_train, y_train,\n",
    "         batch_size=256,\n",
    "         epochs=12,\n",
    "         verbose=2,\n",
    "         validation_data=(X_test, y_test))"
   ]
  },
  {
   "cell_type": "code",
   "execution_count": 38,
   "metadata": {},
   "outputs": [
    {
     "name": "stdout",
     "output_type": "stream",
     "text": [
      "8400/8400 [==============================] - 2s 235us/step\n",
      "Loss: 0.07485243178066975, Accuracy: 0.981071412563324\n"
     ]
    }
   ],
   "source": [
    "score = second_mlp_model.evaluate(X_test, y_test)\n",
    "print('Loss: {0}, Accuracy: {1}'.format(score[0], score[1]))"
   ]
  },
  {
   "cell_type": "markdown",
   "metadata": {},
   "source": [
    "### Build CNN models"
   ]
  },
  {
   "cell_type": "code",
   "execution_count": 9,
   "metadata": {},
   "outputs": [],
   "source": [
    "# Resize X and y for CNN\n",
    "X_train_resized = X_train.reshape(X_train.shape[0], 28, 28, 1)\n",
    "X_test_resized = X_test.reshape(X_test.shape[0], 28, 28, 1)\n",
    "\n",
    "input_shape = X_train_resized.shape[1:]\n"
   ]
  },
  {
   "cell_type": "code",
   "execution_count": 17,
   "metadata": {},
   "outputs": [
    {
     "name": "stdout",
     "output_type": "stream",
     "text": [
      "Test shape: (33600, 28, 28, 1), train shape: (8400, 28, 28, 1)\n"
     ]
    }
   ],
   "source": [
    "print('Test shape: {0}, train shape: {1}'.format(X_train_resized.shape, X_test_resized.shape))"
   ]
  },
  {
   "cell_type": "markdown",
   "metadata": {},
   "source": [
    "### Model 1"
   ]
  },
  {
   "cell_type": "code",
   "execution_count": 130,
   "metadata": {},
   "outputs": [
    {
     "name": "stdout",
     "output_type": "stream",
     "text": [
      "Model: \"sequential_58\"\n",
      "_________________________________________________________________\n",
      "Layer (type)                 Output Shape              Param #   \n",
      "=================================================================\n",
      "conv2d_146 (Conv2D)          (None, 26, 26, 32)        320       \n",
      "_________________________________________________________________\n",
      "max_pooling2d_97 (MaxPooling (None, 13, 13, 32)        0         \n",
      "_________________________________________________________________\n",
      "dropout_177 (Dropout)        (None, 13, 13, 32)        0         \n",
      "_________________________________________________________________\n",
      "conv2d_147 (Conv2D)          (None, 11, 11, 64)        18496     \n",
      "_________________________________________________________________\n",
      "max_pooling2d_98 (MaxPooling (None, 5, 5, 64)          0         \n",
      "_________________________________________________________________\n",
      "dropout_178 (Dropout)        (None, 5, 5, 64)          0         \n",
      "_________________________________________________________________\n",
      "flatten_44 (Flatten)         (None, 1600)              0         \n",
      "_________________________________________________________________\n",
      "dense_156 (Dense)            (None, 512)               819712    \n",
      "_________________________________________________________________\n",
      "dropout_179 (Dropout)        (None, 512)               0         \n",
      "_________________________________________________________________\n",
      "dense_157 (Dense)            (None, 10)                5130      \n",
      "=================================================================\n",
      "Total params: 843,658\n",
      "Trainable params: 843,658\n",
      "Non-trainable params: 0\n",
      "_________________________________________________________________\n",
      "Train on 33600 samples, validate on 8400 samples\n",
      "Epoch 1/15\n",
      " - 56s - loss: 0.4464 - accuracy: 0.8594 - val_loss: 0.1119 - val_accuracy: 0.9680\n",
      "Epoch 2/15\n",
      " - 55s - loss: 0.1260 - accuracy: 0.9613 - val_loss: 0.0717 - val_accuracy: 0.9792\n",
      "Epoch 3/15\n",
      " - 52s - loss: 0.0885 - accuracy: 0.9720 - val_loss: 0.0516 - val_accuracy: 0.9839\n",
      "Epoch 4/15\n",
      " - 48s - loss: 0.0679 - accuracy: 0.9790 - val_loss: 0.0467 - val_accuracy: 0.9864\n",
      "Epoch 5/15\n",
      " - 48s - loss: 0.0569 - accuracy: 0.9821 - val_loss: 0.0393 - val_accuracy: 0.9886\n",
      "Epoch 6/15\n",
      " - 48s - loss: 0.0505 - accuracy: 0.9836 - val_loss: 0.0393 - val_accuracy: 0.9880\n",
      "Epoch 7/15\n",
      " - 49s - loss: 0.0450 - accuracy: 0.9853 - val_loss: 0.0395 - val_accuracy: 0.9882\n",
      "Epoch 8/15\n",
      " - 50s - loss: 0.0395 - accuracy: 0.9871 - val_loss: 0.0351 - val_accuracy: 0.9910\n",
      "Epoch 9/15\n",
      " - 51s - loss: 0.0318 - accuracy: 0.9896 - val_loss: 0.0338 - val_accuracy: 0.9900\n",
      "Epoch 10/15\n",
      " - 50s - loss: 0.0312 - accuracy: 0.9899 - val_loss: 0.0329 - val_accuracy: 0.9900\n",
      "Epoch 11/15\n",
      " - 50s - loss: 0.0307 - accuracy: 0.9898 - val_loss: 0.0334 - val_accuracy: 0.9900\n",
      "Epoch 12/15\n",
      " - 49s - loss: 0.0260 - accuracy: 0.9911 - val_loss: 0.0328 - val_accuracy: 0.9907\n",
      "Epoch 13/15\n",
      " - 50s - loss: 0.0253 - accuracy: 0.9915 - val_loss: 0.0300 - val_accuracy: 0.9899\n",
      "Epoch 14/15\n",
      " - 48s - loss: 0.0240 - accuracy: 0.9923 - val_loss: 0.0302 - val_accuracy: 0.9918\n",
      "Epoch 15/15\n",
      " - 52s - loss: 0.0218 - accuracy: 0.9926 - val_loss: 0.0329 - val_accuracy: 0.9907\n"
     ]
    },
    {
     "data": {
      "text/plain": [
       "<keras.callbacks.callbacks.History at 0x1b5e5e9090>"
      ]
     },
     "execution_count": 130,
     "metadata": {},
     "output_type": "execute_result"
    }
   ],
   "source": [
    "# Two conv layers\n",
    "simple_cnn = Sequential([\n",
    "    Conv2D(32, kernel_size=(3,3), input_shape=input_shape, activation='relu'),\n",
    "    MaxPool2D(pool_size=(2,2)),\n",
    "    Dropout(0.3),\n",
    "    \n",
    "    Conv2D(64, kernel_size=(3,3), activation='relu'),\n",
    "    MaxPool2D(pool_size=(2,2)),\n",
    "    Dropout(0.3),\n",
    "    \n",
    "    Flatten(),\n",
    "    \n",
    "    Dense(512, activation='relu'),\n",
    "    Dropout(0.3),\n",
    "    \n",
    "    Dense(num_outputs, activation='softmax')\n",
    "])\n",
    "\n",
    "simple_cnn.compile(loss='categorical_crossentropy', optimizer='adam', metrics=['accuracy'])\n",
    "simple_cnn.summary()\n",
    "\n",
    "simple_cnn.fit(X_train_resized, y_train,\n",
    "              batch_size=256,\n",
    "              epochs=15,\n",
    "              verbose=2,\n",
    "              validation_data=(X_test_resized, y_test))"
   ]
  },
  {
   "cell_type": "markdown",
   "metadata": {},
   "source": [
    "### Model 2"
   ]
  },
  {
   "cell_type": "code",
   "execution_count": 135,
   "metadata": {},
   "outputs": [
    {
     "name": "stdout",
     "output_type": "stream",
     "text": [
      "Model: \"sequential_63\"\n",
      "_________________________________________________________________\n",
      "Layer (type)                 Output Shape              Param #   \n",
      "=================================================================\n",
      "conv2d_160 (Conv2D)          (None, 26, 26, 32)        320       \n",
      "_________________________________________________________________\n",
      "max_pooling2d_111 (MaxPoolin (None, 13, 13, 32)        0         \n",
      "_________________________________________________________________\n",
      "dropout_199 (Dropout)        (None, 13, 13, 32)        0         \n",
      "_________________________________________________________________\n",
      "conv2d_161 (Conv2D)          (None, 11, 11, 64)        18496     \n",
      "_________________________________________________________________\n",
      "max_pooling2d_112 (MaxPoolin (None, 5, 5, 64)          0         \n",
      "_________________________________________________________________\n",
      "dropout_200 (Dropout)        (None, 5, 5, 64)          0         \n",
      "_________________________________________________________________\n",
      "conv2d_162 (Conv2D)          (None, 3, 3, 128)         73856     \n",
      "_________________________________________________________________\n",
      "max_pooling2d_113 (MaxPoolin (None, 1, 1, 128)         0         \n",
      "_________________________________________________________________\n",
      "dropout_201 (Dropout)        (None, 1, 1, 128)         0         \n",
      "_________________________________________________________________\n",
      "flatten_49 (Flatten)         (None, 128)               0         \n",
      "_________________________________________________________________\n",
      "dense_169 (Dense)            (None, 1024)              132096    \n",
      "_________________________________________________________________\n",
      "dropout_202 (Dropout)        (None, 1024)              0         \n",
      "_________________________________________________________________\n",
      "dense_170 (Dense)            (None, 10)                10250     \n",
      "=================================================================\n",
      "Total params: 235,018\n",
      "Trainable params: 235,018\n",
      "Non-trainable params: 0\n",
      "_________________________________________________________________\n",
      "Train on 33600 samples, validate on 8400 samples\n",
      "Epoch 1/15\n",
      " - 54s - loss: 0.8534 - accuracy: 0.7185 - val_loss: 0.1961 - val_accuracy: 0.9396\n",
      "Epoch 2/15\n",
      " - 53s - loss: 0.2571 - accuracy: 0.9217 - val_loss: 0.1220 - val_accuracy: 0.9611\n",
      "Epoch 3/15\n",
      " - 50s - loss: 0.1819 - accuracy: 0.9444 - val_loss: 0.0926 - val_accuracy: 0.9719\n",
      "Epoch 4/15\n",
      " - 50s - loss: 0.1500 - accuracy: 0.9535 - val_loss: 0.0791 - val_accuracy: 0.9740\n",
      "Epoch 5/15\n",
      " - 51s - loss: 0.1313 - accuracy: 0.9598 - val_loss: 0.0697 - val_accuracy: 0.9768\n",
      "Epoch 6/15\n",
      " - 52s - loss: 0.1118 - accuracy: 0.9646 - val_loss: 0.0629 - val_accuracy: 0.9794\n",
      "Epoch 7/15\n",
      " - 51s - loss: 0.1023 - accuracy: 0.9683 - val_loss: 0.0598 - val_accuracy: 0.9806\n",
      "Epoch 8/15\n",
      " - 51s - loss: 0.0989 - accuracy: 0.9690 - val_loss: 0.0563 - val_accuracy: 0.9823\n",
      "Epoch 9/15\n",
      " - 50s - loss: 0.0889 - accuracy: 0.9724 - val_loss: 0.0511 - val_accuracy: 0.9846\n",
      "Epoch 10/15\n",
      " - 50s - loss: 0.0816 - accuracy: 0.9737 - val_loss: 0.0517 - val_accuracy: 0.9837\n",
      "Epoch 11/15\n",
      " - 54s - loss: 0.0791 - accuracy: 0.9760 - val_loss: 0.0462 - val_accuracy: 0.9858\n",
      "Epoch 12/15\n",
      " - 53s - loss: 0.0720 - accuracy: 0.9778 - val_loss: 0.0442 - val_accuracy: 0.9864\n",
      "Epoch 13/15\n",
      " - 51s - loss: 0.0711 - accuracy: 0.9776 - val_loss: 0.0470 - val_accuracy: 0.9858\n",
      "Epoch 14/15\n",
      " - 51s - loss: 0.0680 - accuracy: 0.9783 - val_loss: 0.0486 - val_accuracy: 0.9849\n",
      "Epoch 15/15\n",
      " - 52s - loss: 0.0676 - accuracy: 0.9775 - val_loss: 0.0460 - val_accuracy: 0.9868\n"
     ]
    },
    {
     "data": {
      "text/plain": [
       "<keras.callbacks.callbacks.History at 0x1b6e423b10>"
      ]
     },
     "execution_count": 135,
     "metadata": {},
     "output_type": "execute_result"
    }
   ],
   "source": [
    "# Three conv layers\n",
    "three_conv = Sequential([\n",
    "    Conv2D(32, kernel_size=(3,3), input_shape=input_shape, activation='relu'),\n",
    "    MaxPool2D(pool_size=(2,2)),\n",
    "    Dropout(0.3),\n",
    "    \n",
    "    Conv2D(64, kernel_size=(3,3), activation='relu'),\n",
    "    MaxPool2D(pool_size=(2,2)),\n",
    "    Dropout(0.3),\n",
    "    \n",
    "    Conv2D(128, kernel_size=(3,3), activation='relu'),\n",
    "    MaxPool2D(pool_size=(2,2)),\n",
    "    Dropout(0.3),\n",
    "    \n",
    "    Flatten(),\n",
    "    \n",
    "    Dense(1024, activation='relu'),\n",
    "    Dropout(0.3),\n",
    "    \n",
    "    Dense(num_outputs, activation='softmax')\n",
    "])\n",
    "\n",
    "three_conv.compile(loss='categorical_crossentropy', optimizer='adam', metrics=['accuracy'])\n",
    "three_conv.summary()\n",
    "\n",
    "three_conv.fit(X_train_resized, y_train,\n",
    "              batch_size=256,\n",
    "              epochs=15,\n",
    "              verbose=2,\n",
    "              validation_data=(X_test_resized, y_test))\n"
   ]
  },
  {
   "cell_type": "markdown",
   "metadata": {},
   "source": [
    "### Model 3"
   ]
  },
  {
   "cell_type": "code",
   "execution_count": 244,
   "metadata": {},
   "outputs": [
    {
     "name": "stdout",
     "output_type": "stream",
     "text": [
      "Model: \"sequential_83\"\n",
      "_________________________________________________________________\n",
      "Layer (type)                 Output Shape              Param #   \n",
      "=================================================================\n",
      "conv2d_243 (Conv2D)          (None, 26, 26, 32)        320       \n",
      "_________________________________________________________________\n",
      "conv2d_244 (Conv2D)          (None, 24, 24, 32)        9248      \n",
      "_________________________________________________________________\n",
      "max_pooling2d_150 (MaxPoolin (None, 12, 12, 32)        0         \n",
      "_________________________________________________________________\n",
      "dropout_264 (Dropout)        (None, 12, 12, 32)        0         \n",
      "_________________________________________________________________\n",
      "conv2d_245 (Conv2D)          (None, 12, 12, 64)        18496     \n",
      "_________________________________________________________________\n",
      "conv2d_246 (Conv2D)          (None, 10, 10, 64)        36928     \n",
      "_________________________________________________________________\n",
      "max_pooling2d_151 (MaxPoolin (None, 5, 5, 64)          0         \n",
      "_________________________________________________________________\n",
      "dropout_265 (Dropout)        (None, 5, 5, 64)          0         \n",
      "_________________________________________________________________\n",
      "flatten_69 (Flatten)         (None, 1600)              0         \n",
      "_________________________________________________________________\n",
      "dense_215 (Dense)            (None, 1024)              1639424   \n",
      "_________________________________________________________________\n",
      "dropout_266 (Dropout)        (None, 1024)              0         \n",
      "_________________________________________________________________\n",
      "dense_216 (Dense)            (None, 10)                10250     \n",
      "=================================================================\n",
      "Total params: 1,714,666\n",
      "Trainable params: 1,714,666\n",
      "Non-trainable params: 0\n",
      "_________________________________________________________________\n",
      "Train on 33600 samples, validate on 8400 samples\n",
      "Epoch 1/20\n",
      " - 107s - loss: 0.4115 - accuracy: 0.8674 - val_loss: 0.0844 - val_accuracy: 0.9739\n",
      "Epoch 2/20\n",
      " - 87s - loss: 0.0902 - accuracy: 0.9711 - val_loss: 0.0475 - val_accuracy: 0.9862\n",
      "Epoch 3/20\n",
      " - 94s - loss: 0.0641 - accuracy: 0.9796 - val_loss: 0.0419 - val_accuracy: 0.9879\n",
      "Epoch 4/20\n",
      " - 85s - loss: 0.0532 - accuracy: 0.9830 - val_loss: 0.0345 - val_accuracy: 0.9895\n",
      "Epoch 5/20\n",
      " - 90s - loss: 0.0439 - accuracy: 0.9864 - val_loss: 0.0352 - val_accuracy: 0.9885\n",
      "Epoch 6/20\n",
      " - 86s - loss: 0.0371 - accuracy: 0.9880 - val_loss: 0.0297 - val_accuracy: 0.9913\n",
      "Epoch 7/20\n",
      " - 86s - loss: 0.0329 - accuracy: 0.9895 - val_loss: 0.0300 - val_accuracy: 0.9905\n",
      "Epoch 8/20\n",
      " - 85s - loss: 0.0300 - accuracy: 0.9912 - val_loss: 0.0283 - val_accuracy: 0.9920\n",
      "Epoch 9/20\n",
      " - 87s - loss: 0.0268 - accuracy: 0.9917 - val_loss: 0.0278 - val_accuracy: 0.9924\n",
      "Epoch 10/20\n",
      " - 85s - loss: 0.0224 - accuracy: 0.9924 - val_loss: 0.0321 - val_accuracy: 0.9919\n",
      "Epoch 11/20\n",
      " - 87s - loss: 0.0221 - accuracy: 0.9928 - val_loss: 0.0316 - val_accuracy: 0.9915\n",
      "Epoch 12/20\n",
      " - 86s - loss: 0.0205 - accuracy: 0.9932 - val_loss: 0.0316 - val_accuracy: 0.9908\n",
      "Epoch 13/20\n",
      " - 123s - loss: 0.0180 - accuracy: 0.9940 - val_loss: 0.0363 - val_accuracy: 0.9901\n",
      "Epoch 14/20\n",
      " - 129s - loss: 0.0174 - accuracy: 0.9937 - val_loss: 0.0369 - val_accuracy: 0.9911\n",
      "Epoch 15/20\n",
      " - 100s - loss: 0.0175 - accuracy: 0.9943 - val_loss: 0.0314 - val_accuracy: 0.9914\n",
      "Epoch 16/20\n",
      " - 101s - loss: 0.0159 - accuracy: 0.9948 - val_loss: 0.0284 - val_accuracy: 0.9918\n",
      "Epoch 17/20\n",
      " - 92s - loss: 0.0128 - accuracy: 0.9955 - val_loss: 0.0347 - val_accuracy: 0.9911\n",
      "Epoch 18/20\n",
      " - 90s - loss: 0.0148 - accuracy: 0.9948 - val_loss: 0.0295 - val_accuracy: 0.9926\n",
      "Epoch 19/20\n",
      " - 85s - loss: 0.0125 - accuracy: 0.9957 - val_loss: 0.0299 - val_accuracy: 0.9918\n",
      "Epoch 20/20\n",
      " - 87s - loss: 0.0141 - accuracy: 0.9954 - val_loss: 0.0284 - val_accuracy: 0.9937\n"
     ]
    },
    {
     "data": {
      "text/plain": [
       "<keras.callbacks.callbacks.History at 0x1ba2e7d850>"
      ]
     },
     "execution_count": 244,
     "metadata": {},
     "output_type": "execute_result"
    }
   ],
   "source": [
    "# Two double conv layers\n",
    "doubled_cnn = Sequential([\n",
    "    Conv2D(32, kernel_size=(3,3), input_shape=input_shape, activation='relu'),\n",
    "    Conv2D(32, kernel_size=(3,3), activation='relu'),\n",
    "    MaxPool2D(pool_size=(2,2)),\n",
    "    Dropout(0.5),\n",
    "    \n",
    "    Conv2D(64, kernel_size=(3,3), padding='same', activation='relu'),\n",
    "    Conv2D(64, kernel_size=(3,3), activation='relu'),\n",
    "    MaxPool2D(pool_size=(2,2)),\n",
    "    Dropout(0.3),\n",
    "    \n",
    "    Flatten(),\n",
    "    \n",
    "    Dense(1024, activation='relu'),\n",
    "    Dropout(0.3),\n",
    "    \n",
    "    Dense(num_outputs, activation='softmax')\n",
    "])\n",
    "\n",
    "doubled_cnn.compile(loss='categorical_crossentropy', optimizer='adam', metrics=['accuracy'])\n",
    "doubled_cnn.summary()\n",
    "\n",
    "doubled_cnn.fit(X_train_resized, y_train,\n",
    "              batch_size=256,\n",
    "              epochs=20,\n",
    "              verbose=2,\n",
    "              validation_data=(X_test_resized, y_test))"
   ]
  },
  {
   "cell_type": "markdown",
   "metadata": {},
   "source": [
    "### Model 4"
   ]
  },
  {
   "cell_type": "code",
   "execution_count": 258,
   "metadata": {},
   "outputs": [
    {
     "name": "stdout",
     "output_type": "stream",
     "text": [
      "Model: \"sequential_92\"\n",
      "_________________________________________________________________\n",
      "Layer (type)                 Output Shape              Param #   \n",
      "=================================================================\n",
      "conv2d_298 (Conv2D)          (None, 26, 26, 32)        320       \n",
      "_________________________________________________________________\n",
      "conv2d_299 (Conv2D)          (None, 24, 24, 32)        9248      \n",
      "_________________________________________________________________\n",
      "conv2d_300 (Conv2D)          (None, 22, 22, 32)        9248      \n",
      "_________________________________________________________________\n",
      "max_pooling2d_169 (MaxPoolin (None, 11, 11, 32)        0         \n",
      "_________________________________________________________________\n",
      "dropout_293 (Dropout)        (None, 11, 11, 32)        0         \n",
      "_________________________________________________________________\n",
      "conv2d_301 (Conv2D)          (None, 11, 11, 64)        18496     \n",
      "_________________________________________________________________\n",
      "conv2d_302 (Conv2D)          (None, 9, 9, 64)          36928     \n",
      "_________________________________________________________________\n",
      "conv2d_303 (Conv2D)          (None, 7, 7, 64)          36928     \n",
      "_________________________________________________________________\n",
      "max_pooling2d_170 (MaxPoolin (None, 3, 3, 64)          0         \n",
      "_________________________________________________________________\n",
      "dropout_294 (Dropout)        (None, 3, 3, 64)          0         \n",
      "_________________________________________________________________\n",
      "flatten_78 (Flatten)         (None, 576)               0         \n",
      "_________________________________________________________________\n",
      "dense_234 (Dense)            (None, 1024)              590848    \n",
      "_________________________________________________________________\n",
      "dropout_295 (Dropout)        (None, 1024)              0         \n",
      "_________________________________________________________________\n",
      "dense_235 (Dense)            (None, 10)                10250     \n",
      "=================================================================\n",
      "Total params: 712,266\n",
      "Trainable params: 712,266\n",
      "Non-trainable params: 0\n",
      "_________________________________________________________________\n",
      "Train on 33600 samples, validate on 8400 samples\n",
      "Epoch 1/15\n",
      " - 99s - loss: 0.6898 - accuracy: 0.7711 - val_loss: 0.1394 - val_accuracy: 0.9565\n",
      "Epoch 2/15\n",
      " - 91s - loss: 0.1527 - accuracy: 0.9526 - val_loss: 0.0783 - val_accuracy: 0.9761\n",
      "Epoch 3/15\n",
      " - 92s - loss: 0.0963 - accuracy: 0.9704 - val_loss: 0.0550 - val_accuracy: 0.9835\n",
      "Epoch 4/15\n",
      " - 90s - loss: 0.0754 - accuracy: 0.9769 - val_loss: 0.0454 - val_accuracy: 0.9869\n",
      "Epoch 5/15\n",
      " - 90s - loss: 0.0682 - accuracy: 0.9786 - val_loss: 0.0475 - val_accuracy: 0.9856\n",
      "Epoch 6/15\n",
      " - 90s - loss: 0.0568 - accuracy: 0.9815 - val_loss: 0.0401 - val_accuracy: 0.9875\n",
      "Epoch 7/15\n",
      " - 90s - loss: 0.0485 - accuracy: 0.9845 - val_loss: 0.0364 - val_accuracy: 0.9887\n",
      "Epoch 8/15\n",
      " - 91s - loss: 0.0425 - accuracy: 0.9860 - val_loss: 0.0320 - val_accuracy: 0.9906\n",
      "Epoch 9/15\n",
      " - 90s - loss: 0.0387 - accuracy: 0.9875 - val_loss: 0.0328 - val_accuracy: 0.9906\n",
      "Epoch 10/15\n",
      " - 90s - loss: 0.0333 - accuracy: 0.9890 - val_loss: 0.0347 - val_accuracy: 0.9896\n",
      "Epoch 11/15\n",
      " - 91s - loss: 0.0337 - accuracy: 0.9892 - val_loss: 0.0295 - val_accuracy: 0.9906\n",
      "Epoch 12/15\n",
      " - 91s - loss: 0.0305 - accuracy: 0.9899 - val_loss: 0.0306 - val_accuracy: 0.9910\n",
      "Epoch 13/15\n",
      " - 91s - loss: 0.0276 - accuracy: 0.9909 - val_loss: 0.0290 - val_accuracy: 0.9912\n",
      "Epoch 14/15\n",
      " - 94s - loss: 0.0268 - accuracy: 0.9910 - val_loss: 0.0278 - val_accuracy: 0.9919\n",
      "Epoch 15/15\n",
      " - 91s - loss: 0.0297 - accuracy: 0.9900 - val_loss: 0.0287 - val_accuracy: 0.9919\n"
     ]
    },
    {
     "data": {
      "text/plain": [
       "<keras.callbacks.callbacks.History at 0x1bb5430e50>"
      ]
     },
     "execution_count": 258,
     "metadata": {},
     "output_type": "execute_result"
    }
   ],
   "source": [
    "# Two triple conv layers\n",
    "triple_cnn = Sequential([\n",
    "    \n",
    "    Conv2D(32, kernel_size=(3,3), input_shape=input_shape, activation='relu'),\n",
    "    Conv2D(32, kernel_size=(3,3), activation='relu'),\n",
    "    Conv2D(32, kernel_size=(3,3), activation='relu'),\n",
    "    MaxPool2D(pool_size=(2,2)),\n",
    "    Dropout(0.5),\n",
    "    \n",
    "    Conv2D(64, kernel_size=(3,3), padding='same', activation='relu'),\n",
    "    Conv2D(64, kernel_size=(3,3), activation='relu'),\n",
    "    Conv2D(64, kernel_size=(3,3), activation='relu'),\n",
    "    MaxPool2D(pool_size=(2,2)),\n",
    "    Dropout(0.3),\n",
    "    \n",
    "    Flatten(),\n",
    "    \n",
    "    Dense(1024, activation='relu'),\n",
    "    Dropout(0.3),\n",
    "    \n",
    "    Dense(num_outputs, activation='softmax')\n",
    "])\n",
    "\n",
    "triple_cnn.compile(loss='categorical_crossentropy', optimizer='adam', metrics=['accuracy'])\n",
    "triple_cnn.summary()\n",
    "\n",
    "triple_cnn.fit(X_train_resized, y_train,\n",
    "              batch_size=512,\n",
    "              epochs=15,\n",
    "              verbose=2,\n",
    "              validation_data=(X_test_resized, y_test))"
   ]
  },
  {
   "cell_type": "code",
   "execution_count": 245,
   "metadata": {},
   "outputs": [
    {
     "name": "stdout",
     "output_type": "stream",
     "text": [
      "8400/8400 [==============================] - 9s 1ms/step\n",
      "Loss: 0.028446206388842776, Accuracy: 0.9936904907226562\n"
     ]
    }
   ],
   "source": [
    "cnn_score = doubled_cnn.evaluate(X_test_resized, y_test)\n",
    "print('Loss: {0}, Accuracy: {1}'.format(cnn_score[0], cnn_score[1]))"
   ]
  },
  {
   "cell_type": "code",
   "execution_count": 246,
   "metadata": {},
   "outputs": [],
   "source": [
    "# Prediction on test part and save results in csv\n",
    "test = test.reshape(test.shape[0], 28, 28, 1)\n",
    "y_pred = doubled_cnn.predict(test)"
   ]
  },
  {
   "cell_type": "code",
   "execution_count": 247,
   "metadata": {},
   "outputs": [],
   "source": [
    "label_id = np.arange(1, test.shape[0]+1)\n",
    "\n",
    "prediction = []\n",
    "for i in range(len(label_id)):\n",
    "    prediction.append(np.argmax(y_pred[i]))\n",
    "    \n",
    "submission = pd.DataFrame({'ImageId': label_id, 'Label': prediction})"
   ]
  },
  {
   "cell_type": "code",
   "execution_count": 249,
   "metadata": {},
   "outputs": [],
   "source": [
    "submission.to_csv('predict_digits.csv', index=False)"
   ]
  }
 ],
 "metadata": {
  "kernelspec": {
   "display_name": "Python 3",
   "language": "python",
   "name": "python3"
  },
  "language_info": {
   "codemirror_mode": {
    "name": "ipython",
    "version": 3
   },
   "file_extension": ".py",
   "mimetype": "text/x-python",
   "name": "python",
   "nbconvert_exporter": "python",
   "pygments_lexer": "ipython3",
   "version": "3.7.6"
  }
 },
 "nbformat": 4,
 "nbformat_minor": 2
}
