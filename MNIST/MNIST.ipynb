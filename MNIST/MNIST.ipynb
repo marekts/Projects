{
 "cells": [
  {
   "cell_type": "code",
   "execution_count": 61,
   "metadata": {},
   "outputs": [],
   "source": [
    "import numpy as np\n",
    "import pandas as pd\n",
    "\n",
    "from sklearn.model_selection import train_test_split\n",
    "\n",
    "from keras.models import Sequential\n",
    "from keras.layers import Dense, Dropout, Flatten, Conv2D, MaxPool2D\n",
    "from keras.utils import np_utils\n",
    "\n",
    "import matplotlib.pyplot as plt\n",
    "%matplotlib inline"
   ]
  },
  {
   "cell_type": "code",
   "execution_count": 44,
   "metadata": {},
   "outputs": [
    {
     "name": "stdout",
     "output_type": "stream",
     "text": [
      "Train shape: (42000, 785), test shape: (28000, 784)\n"
     ]
    }
   ],
   "source": [
    "train_data = pd.read_csv('train.csv')\n",
    "test_data = pd.read_csv('test.csv')\n",
    "\n",
    "print('Train shape: {0}, test shape: {1}'.format(train_data.shape, test_data.shape))"
   ]
  },
  {
   "cell_type": "code",
   "execution_count": 25,
   "metadata": {},
   "outputs": [],
   "source": [
    "labels, data = train_data['label'].values, train_data.iloc[:, 1:].values"
   ]
  },
  {
   "cell_type": "code",
   "execution_count": 43,
   "metadata": {},
   "outputs": [
    {
     "name": "stdout",
     "output_type": "stream",
     "text": [
      "(42000, 784)\n",
      "0 255\n"
     ]
    }
   ],
   "source": [
    "print(data.shape)\n",
    "print(np.min(data), np.max(data))"
   ]
  },
  {
   "cell_type": "code",
   "execution_count": 34,
   "metadata": {
    "scrolled": true
   },
   "outputs": [
    {
     "data": {
      "text/plain": [
       "1"
      ]
     },
     "execution_count": 34,
     "metadata": {},
     "output_type": "execute_result"
    },
    {
     "data": {
      "image/png": "[encoded data removed]",
      "text/plain": [
       "<Figure size 432x288 with 1 Axes>"
      ]
     },
     "metadata": {
      "needs_background": "light"
     },
     "output_type": "display_data"
    }
   ],
   "source": [
    "#check a few digits\n",
    "digit = data[0].reshape(28, 28)\n",
    "plt.imshow(digit, cmap = plt.cm.binary)\n",
    "labels[0]"
   ]
  },
  {
   "cell_type": "code",
   "execution_count": 70,
   "metadata": {},
   "outputs": [],
   "source": [
    "# Scale train and test data from 1 to 0\n",
    "test = test_data.values\n",
    "\n",
    "if np.max(data) > 1: data = data / 255\n",
    "if np.max(test) > 1: test = test / 255\n",
    "    \n",
    "# Convert labels to categorical\n",
    "y = np_utils.to_categorical(labels)\n"
   ]
  },
  {
   "cell_type": "code",
   "execution_count": 74,
   "metadata": {},
   "outputs": [],
   "source": [
    "X_train, X_test, y_train, y_test = train_test_split(data, y, test_size=0.2, random_state=46)"
   ]
  },
  {
   "cell_type": "markdown",
   "metadata": {},
   "source": [
    "### Build  MLP models"
   ]
  },
  {
   "cell_type": "code",
   "execution_count": 78,
   "metadata": {},
   "outputs": [],
   "source": [
    "num_inputs = X_train.shape[1]\n",
    "num_outputs = y.shape[1]"
   ]
  },
  {
   "cell_type": "code",
   "execution_count": 84,
   "metadata": {
    "scrolled": false
   },
   "outputs": [
    {
     "name": "stdout",
     "output_type": "stream",
     "text": [
      "_________________________________________________________________\n",
      "Layer (type)                 Output Shape              Param #   \n",
      "=================================================================\n",
      "dense_7 (Dense)              (None, 512)               401920    \n",
      "_________________________________________________________________\n",
      "dense_8 (Dense)              (None, 256)               131328    \n",
      "_________________________________________________________________\n",
      "dense_9 (Dense)              (None, 10)                2570      \n",
      "=================================================================\n",
      "Total params: 535,818\n",
      "Trainable params: 535,818\n",
      "Non-trainable params: 0\n",
      "_________________________________________________________________\n"
     ]
    }
   ],
   "source": [
    "# MLP model 2 hidden layers\n",
    "model = Sequential([\n",
    "    Dense(512, input_dim=num_inputs, activation='relu'),\n",
    "    Dense(256, activation='relu'),\n",
    "    Dense(num_outputs, activation='softmax')\n",
    "])\n",
    "\n",
    "model.compile(loss='categorical_crossentropy', optimizer='adam', metrics=['accuracy'])\n",
    "model.summary()"
   ]
  },
  {
   "cell_type": "code",
   "execution_count": 85,
   "metadata": {},
   "outputs": [
    {
     "name": "stdout",
     "output_type": "stream",
     "text": [
      "Train on 33600 samples, validate on 8400 samples\n",
      "Epoch 1/10\n",
      " - 13s - loss: 0.3684 - acc: 0.8949 - val_loss: 0.1821 - val_acc: 0.9492\n",
      "Epoch 2/10\n",
      " - 5s - loss: 0.1351 - acc: 0.9593 - val_loss: 0.1233 - val_acc: 0.9619\n",
      "Epoch 3/10\n",
      " - 5s - loss: 0.0831 - acc: 0.9747 - val_loss: 0.0909 - val_acc: 0.9725\n",
      "Epoch 4/10\n",
      " - 5s - loss: 0.0534 - acc: 0.9834 - val_loss: 0.0884 - val_acc: 0.9733\n",
      "Epoch 5/10\n",
      " - 5s - loss: 0.0371 - acc: 0.9895 - val_loss: 0.0899 - val_acc: 0.9733\n",
      "Epoch 6/10\n",
      " - 5s - loss: 0.0276 - acc: 0.9919 - val_loss: 0.0867 - val_acc: 0.9739\n",
      "Epoch 7/10\n",
      " - 4s - loss: 0.0172 - acc: 0.9958 - val_loss: 0.0855 - val_acc: 0.9771\n",
      "Epoch 8/10\n",
      " - 5s - loss: 0.0128 - acc: 0.9968 - val_loss: 0.0861 - val_acc: 0.9774\n",
      "Epoch 9/10\n",
      " - 5s - loss: 0.0094 - acc: 0.9976 - val_loss: 0.0861 - val_acc: 0.9779\n",
      "Epoch 10/10\n",
      " - 5s - loss: 0.0070 - acc: 0.9985 - val_loss: 0.0862 - val_acc: 0.9781\n"
     ]
    },
    {
     "data": {
      "text/plain": [
       "<keras.callbacks.History at 0x14f801940>"
      ]
     },
     "execution_count": 85,
     "metadata": {},
     "output_type": "execute_result"
    }
   ],
   "source": [
    "model.fit(X_train, y_train,\n",
    "         batch_size=256,\n",
    "         epochs=10,\n",
    "         verbose=2,\n",
    "         validation_data=(X_test, y_test))"
   ]
  },
  {
   "cell_type": "code",
   "execution_count": 92,
   "metadata": {},
   "outputs": [],
   "source": [
    "# MLP model 3 hidden layers and dropouts\n",
    "model = Sequential([\n",
    "    Dense(1024, input_dim=num_inputs, activation='relu'),\n",
    "    Dropout(0.5),\n",
    "    \n",
    "    Dense(512, activation='relu'),\n",
    "    Dropout(0.5),\n",
    "    \n",
    "    Dense(512, activation='relu'),\n",
    "    Dropout(0.2),\n",
    "    \n",
    "    Dense(num_outputs, kernel_initializer='normal', activation='softmax')\n",
    "])\n",
    "\n",
    "model.compile(loss='categorical_crossentropy', optimizer='adam', metrics=['accuracy'])"
   ]
  },
  {
   "cell_type": "code",
   "execution_count": 93,
   "metadata": {},
   "outputs": [
    {
     "name": "stdout",
     "output_type": "stream",
     "text": [
      "Train on 33600 samples, validate on 8400 samples\n",
      "Epoch 1/10\n",
      " - 25s - loss: 0.5035 - acc: 0.8412 - val_loss: 0.1626 - val_acc: 0.9512\n",
      "Epoch 2/10\n",
      " - 20s - loss: 0.1911 - acc: 0.9404 - val_loss: 0.1234 - val_acc: 0.9620\n",
      "Epoch 3/10\n",
      " - 20s - loss: 0.1504 - acc: 0.9531 - val_loss: 0.1063 - val_acc: 0.9660\n",
      "Epoch 4/10\n",
      " - 23s - loss: 0.1216 - acc: 0.9619 - val_loss: 0.0853 - val_acc: 0.9746\n",
      "Epoch 5/10\n",
      " - 18s - loss: 0.1025 - acc: 0.9683 - val_loss: 0.0869 - val_acc: 0.9756\n",
      "Epoch 6/10\n",
      " - 19s - loss: 0.0850 - acc: 0.9741 - val_loss: 0.0826 - val_acc: 0.9767\n",
      "Epoch 7/10\n",
      " - 27s - loss: 0.0772 - acc: 0.9747 - val_loss: 0.0879 - val_acc: 0.9743\n",
      "Epoch 8/10\n",
      " - 26s - loss: 0.0768 - acc: 0.9747 - val_loss: 0.0821 - val_acc: 0.9763\n",
      "Epoch 9/10\n",
      " - 25s - loss: 0.0656 - acc: 0.9783 - val_loss: 0.0817 - val_acc: 0.9780\n",
      "Epoch 10/10\n",
      " - 22s - loss: 0.0634 - acc: 0.9788 - val_loss: 0.0773 - val_acc: 0.9782\n"
     ]
    },
    {
     "data": {
      "text/plain": [
       "<keras.callbacks.History at 0x18149be10>"
      ]
     },
     "execution_count": 93,
     "metadata": {},
     "output_type": "execute_result"
    }
   ],
   "source": [
    "model.fit(X_train, y_train,\n",
    "         batch_size=256,\n",
    "         epochs=10,\n",
    "         verbose=2,\n",
    "         validation_data=(X_test, y_test))"
   ]
  },
  {
   "cell_type": "code",
   "execution_count": 94,
   "metadata": {},
   "outputs": [
    {
     "name": "stdout",
     "output_type": "stream",
     "text": [
      "8400/8400 [==============================] - 1s 175us/step\n",
      "Loss: 0.07729828070178406, Accuracy: 0.9782142857142857\n"
     ]
    }
   ],
   "source": [
    "score = model.evaluate(X_test, y_test)\n",
    "print('Loss: {0}, Accuracy: {1}'.format(score[0], score[1]))"
   ]
  },
  {
   "cell_type": "markdown",
   "metadata": {},
   "source": [
    "### Build CNN models"
   ]
  },
  {
   "cell_type": "code",
   "execution_count": null,
   "metadata": {},
   "outputs": [],
   "source": []
  }
 ],
 "metadata": {
  "kernelspec": {
   "display_name": "Python 3",
   "language": "python",
   "name": "python3"
  },
  "language_info": {
   "codemirror_mode": {
    "name": "ipython",
    "version": 3
   },
   "file_extension": ".py",
   "mimetype": "text/x-python",
   "name": "python",
   "nbconvert_exporter": "python",
   "pygments_lexer": "ipython3",
   "version": "3.6.8"
  }
 },
 "nbformat": 4,
 "nbformat_minor": 2
}
