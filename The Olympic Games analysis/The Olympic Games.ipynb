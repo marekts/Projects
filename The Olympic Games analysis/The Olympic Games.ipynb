{
 "cells": [
  {
   "cell_type": "markdown",
   "metadata": {},
   "source": [
    "In this project I'd like dig deeper in history of the Olympic Games and show some interesting facts using pandas and matplotlib. <br> \n",
    "This is a historical dataset on the modern Olympic Games, including all the Games from Athens 1896 to Rio 2016. \n",
    "\n",
    "The columns are:\n",
    "\n",
    "ID - Unique number for each athlete <br>\n",
    "Name - Athlete's name <br>\n",
    "Sex - M or F <br>\n",
    "Age - Integer <br>\n",
    "Height - In centimeters <br>\n",
    "Weight - In kilograms <br>\n",
    "Team - Team name <br>\n",
    "NOC - National Olympic Committee 3-letter code <br>\n",
    "Games - Year and season <br>\n",
    "Year - Integer <br>\n",
    "Season - Summer or Winter <br>\n",
    "City - Host city <br>\n",
    "Sport - Sport <br>\n",
    "Event - Event <br>\n",
    "Medal - Gold, Silver, Bronze, or NA <br>"
   ]
  },
  {
   "cell_type": "code",
   "execution_count": 1,
   "metadata": {},
   "outputs": [],
   "source": [
    "import pandas as pd\n",
    "import numpy as np\n",
    "\n",
    "import matplotlib.pyplot as plt\n",
    "import seaborn as sns\n",
    "sns.set()\n",
    "\n",
    "%matplotlib inline"
   ]
  },
  {
   "cell_type": "markdown",
   "metadata": {},
   "source": [
    "## Upload data"
   ]
  },
  {
   "cell_type": "code",
   "execution_count": 2,
   "metadata": {},
   "outputs": [],
   "source": [
    "df = pd.read_csv('athlete_events.csv')"
   ]
  },
  {
   "cell_type": "code",
   "execution_count": 3,
   "metadata": {},
   "outputs": [],
   "source": [
    "country_code = pd.read_csv('noc_regions.csv')"
   ]
  },
  {
   "cell_type": "markdown",
   "metadata": {},
   "source": [
    "Let's have a look at our data."
   ]
  },
  {
   "cell_type": "code",
   "execution_count": 4,
   "metadata": {},
   "outputs": [
    {
     "name": "stdout",
     "output_type": "stream",
     "text": [
      "<class 'pandas.core.frame.DataFrame'>\n",
      "RangeIndex: 271116 entries, 0 to 271115\n",
      "Data columns (total 15 columns):\n",
      "ID        271116 non-null int64\n",
      "Name      271116 non-null object\n",
      "Sex       271116 non-null object\n",
      "Age       261642 non-null float64\n",
      "Height    210945 non-null float64\n",
      "Weight    208241 non-null float64\n",
      "Team      271116 non-null object\n",
      "NOC       271116 non-null object\n",
      "Games     271116 non-null object\n",
      "Year      271116 non-null int64\n",
      "Season    271116 non-null object\n",
      "City      271116 non-null object\n",
      "Sport     271116 non-null object\n",
      "Event     271116 non-null object\n",
      "Medal     39783 non-null object\n",
      "dtypes: float64(3), int64(2), object(10)\n",
      "memory usage: 31.0+ MB\n"
     ]
    }
   ],
   "source": [
    "df.info()"
   ]
  },
  {
   "cell_type": "code",
   "execution_count": 5,
   "metadata": {},
   "outputs": [
    {
     "name": "stdout",
     "output_type": "stream",
     "text": [
      "<class 'pandas.core.frame.DataFrame'>\n",
      "RangeIndex: 230 entries, 0 to 229\n",
      "Data columns (total 3 columns):\n",
      "NOC       230 non-null object\n",
      "region    227 non-null object\n",
      "notes     21 non-null object\n",
      "dtypes: object(3)\n",
      "memory usage: 5.5+ KB\n"
     ]
    }
   ],
   "source": [
    "country_code.info()"
   ]
  },
  {
   "cell_type": "code",
   "execution_count": 6,
   "metadata": {},
   "outputs": [
    {
     "data": {
      "text/html": [
       "<div>\n",
       "<style scoped>\n",
       "    .dataframe tbody tr th:only-of-type {\n",
       "        vertical-align: middle;\n",
       "    }\n",
       "\n",
       "    .dataframe tbody tr th {\n",
       "        vertical-align: top;\n",
       "    }\n",
       "\n",
       "    .dataframe thead th {\n",
       "        text-align: right;\n",
       "    }\n",
       "</style>\n",
       "<table border=\"1\" class=\"dataframe\">\n",
       "  <thead>\n",
       "    <tr style=\"text-align: right;\">\n",
       "      <th></th>\n",
       "      <th>ID</th>\n",
       "      <th>Age</th>\n",
       "      <th>Height</th>\n",
       "      <th>Weight</th>\n",
       "      <th>Year</th>\n",
       "    </tr>\n",
       "  </thead>\n",
       "  <tbody>\n",
       "    <tr>\n",
       "      <th>count</th>\n",
       "      <td>271116.000000</td>\n",
       "      <td>261642.000000</td>\n",
       "      <td>210945.000000</td>\n",
       "      <td>208241.000000</td>\n",
       "      <td>271116.000000</td>\n",
       "    </tr>\n",
       "    <tr>\n",
       "      <th>mean</th>\n",
       "      <td>68248.954396</td>\n",
       "      <td>25.556898</td>\n",
       "      <td>175.338970</td>\n",
       "      <td>70.702393</td>\n",
       "      <td>1978.378480</td>\n",
       "    </tr>\n",
       "    <tr>\n",
       "      <th>std</th>\n",
       "      <td>39022.286345</td>\n",
       "      <td>6.393561</td>\n",
       "      <td>10.518462</td>\n",
       "      <td>14.348020</td>\n",
       "      <td>29.877632</td>\n",
       "    </tr>\n",
       "    <tr>\n",
       "      <th>min</th>\n",
       "      <td>1.000000</td>\n",
       "      <td>10.000000</td>\n",
       "      <td>127.000000</td>\n",
       "      <td>25.000000</td>\n",
       "      <td>1896.000000</td>\n",
       "    </tr>\n",
       "    <tr>\n",
       "      <th>25%</th>\n",
       "      <td>34643.000000</td>\n",
       "      <td>21.000000</td>\n",
       "      <td>168.000000</td>\n",
       "      <td>60.000000</td>\n",
       "      <td>1960.000000</td>\n",
       "    </tr>\n",
       "    <tr>\n",
       "      <th>50%</th>\n",
       "      <td>68205.000000</td>\n",
       "      <td>24.000000</td>\n",
       "      <td>175.000000</td>\n",
       "      <td>70.000000</td>\n",
       "      <td>1988.000000</td>\n",
       "    </tr>\n",
       "    <tr>\n",
       "      <th>75%</th>\n",
       "      <td>102097.250000</td>\n",
       "      <td>28.000000</td>\n",
       "      <td>183.000000</td>\n",
       "      <td>79.000000</td>\n",
       "      <td>2002.000000</td>\n",
       "    </tr>\n",
       "    <tr>\n",
       "      <th>max</th>\n",
       "      <td>135571.000000</td>\n",
       "      <td>97.000000</td>\n",
       "      <td>226.000000</td>\n",
       "      <td>214.000000</td>\n",
       "      <td>2016.000000</td>\n",
       "    </tr>\n",
       "  </tbody>\n",
       "</table>\n",
       "</div>"
      ],
      "text/plain": [
       "                  ID            Age         Height         Weight  \\\n",
       "count  271116.000000  261642.000000  210945.000000  208241.000000   \n",
       "mean    68248.954396      25.556898     175.338970      70.702393   \n",
       "std     39022.286345       6.393561      10.518462      14.348020   \n",
       "min         1.000000      10.000000     127.000000      25.000000   \n",
       "25%     34643.000000      21.000000     168.000000      60.000000   \n",
       "50%     68205.000000      24.000000     175.000000      70.000000   \n",
       "75%    102097.250000      28.000000     183.000000      79.000000   \n",
       "max    135571.000000      97.000000     226.000000     214.000000   \n",
       "\n",
       "                Year  \n",
       "count  271116.000000  \n",
       "mean     1978.378480  \n",
       "std        29.877632  \n",
       "min      1896.000000  \n",
       "25%      1960.000000  \n",
       "50%      1988.000000  \n",
       "75%      2002.000000  \n",
       "max      2016.000000  "
      ]
     },
     "execution_count": 6,
     "metadata": {},
     "output_type": "execute_result"
    }
   ],
   "source": [
    "df.describe()"
   ]
  },
  {
   "cell_type": "code",
   "execution_count": 7,
   "metadata": {},
   "outputs": [],
   "source": [
    "df = df.merge(country_code, on='NOC')"
   ]
  },
  {
   "cell_type": "code",
   "execution_count": 8,
   "metadata": {},
   "outputs": [
    {
     "data": {
      "text/html": [
       "<div>\n",
       "<style scoped>\n",
       "    .dataframe tbody tr th:only-of-type {\n",
       "        vertical-align: middle;\n",
       "    }\n",
       "\n",
       "    .dataframe tbody tr th {\n",
       "        vertical-align: top;\n",
       "    }\n",
       "\n",
       "    .dataframe thead th {\n",
       "        text-align: right;\n",
       "    }\n",
       "</style>\n",
       "<table border=\"1\" class=\"dataframe\">\n",
       "  <thead>\n",
       "    <tr style=\"text-align: right;\">\n",
       "      <th></th>\n",
       "      <th>ID</th>\n",
       "      <th>Name</th>\n",
       "      <th>Sex</th>\n",
       "      <th>Age</th>\n",
       "      <th>Height</th>\n",
       "      <th>Weight</th>\n",
       "      <th>Team</th>\n",
       "      <th>NOC</th>\n",
       "      <th>Games</th>\n",
       "      <th>Year</th>\n",
       "      <th>Season</th>\n",
       "      <th>City</th>\n",
       "      <th>Sport</th>\n",
       "      <th>Event</th>\n",
       "      <th>Medal</th>\n",
       "      <th>region</th>\n",
       "      <th>notes</th>\n",
       "    </tr>\n",
       "  </thead>\n",
       "  <tbody>\n",
       "    <tr>\n",
       "      <th>0</th>\n",
       "      <td>1</td>\n",
       "      <td>A Dijiang</td>\n",
       "      <td>M</td>\n",
       "      <td>24.0</td>\n",
       "      <td>180.0</td>\n",
       "      <td>80.0</td>\n",
       "      <td>China</td>\n",
       "      <td>CHN</td>\n",
       "      <td>1992 Summer</td>\n",
       "      <td>1992</td>\n",
       "      <td>Summer</td>\n",
       "      <td>Barcelona</td>\n",
       "      <td>Basketball</td>\n",
       "      <td>Basketball Men's Basketball</td>\n",
       "      <td>NaN</td>\n",
       "      <td>China</td>\n",
       "      <td>NaN</td>\n",
       "    </tr>\n",
       "    <tr>\n",
       "      <th>1</th>\n",
       "      <td>2</td>\n",
       "      <td>A Lamusi</td>\n",
       "      <td>M</td>\n",
       "      <td>23.0</td>\n",
       "      <td>170.0</td>\n",
       "      <td>60.0</td>\n",
       "      <td>China</td>\n",
       "      <td>CHN</td>\n",
       "      <td>2012 Summer</td>\n",
       "      <td>2012</td>\n",
       "      <td>Summer</td>\n",
       "      <td>London</td>\n",
       "      <td>Judo</td>\n",
       "      <td>Judo Men's Extra-Lightweight</td>\n",
       "      <td>NaN</td>\n",
       "      <td>China</td>\n",
       "      <td>NaN</td>\n",
       "    </tr>\n",
       "    <tr>\n",
       "      <th>2</th>\n",
       "      <td>602</td>\n",
       "      <td>Abudoureheman</td>\n",
       "      <td>M</td>\n",
       "      <td>22.0</td>\n",
       "      <td>182.0</td>\n",
       "      <td>75.0</td>\n",
       "      <td>China</td>\n",
       "      <td>CHN</td>\n",
       "      <td>2000 Summer</td>\n",
       "      <td>2000</td>\n",
       "      <td>Summer</td>\n",
       "      <td>Sydney</td>\n",
       "      <td>Boxing</td>\n",
       "      <td>Boxing Men's Middleweight</td>\n",
       "      <td>NaN</td>\n",
       "      <td>China</td>\n",
       "      <td>NaN</td>\n",
       "    </tr>\n",
       "    <tr>\n",
       "      <th>3</th>\n",
       "      <td>1463</td>\n",
       "      <td>Ai Linuer</td>\n",
       "      <td>M</td>\n",
       "      <td>25.0</td>\n",
       "      <td>160.0</td>\n",
       "      <td>62.0</td>\n",
       "      <td>China</td>\n",
       "      <td>CHN</td>\n",
       "      <td>2004 Summer</td>\n",
       "      <td>2004</td>\n",
       "      <td>Summer</td>\n",
       "      <td>Athina</td>\n",
       "      <td>Wrestling</td>\n",
       "      <td>Wrestling Men's Lightweight, Greco-Roman</td>\n",
       "      <td>NaN</td>\n",
       "      <td>China</td>\n",
       "      <td>NaN</td>\n",
       "    </tr>\n",
       "    <tr>\n",
       "      <th>4</th>\n",
       "      <td>1464</td>\n",
       "      <td>Ai Yanhan</td>\n",
       "      <td>F</td>\n",
       "      <td>14.0</td>\n",
       "      <td>168.0</td>\n",
       "      <td>54.0</td>\n",
       "      <td>China</td>\n",
       "      <td>CHN</td>\n",
       "      <td>2016 Summer</td>\n",
       "      <td>2016</td>\n",
       "      <td>Summer</td>\n",
       "      <td>Rio de Janeiro</td>\n",
       "      <td>Swimming</td>\n",
       "      <td>Swimming Women's 200 metres Freestyle</td>\n",
       "      <td>NaN</td>\n",
       "      <td>China</td>\n",
       "      <td>NaN</td>\n",
       "    </tr>\n",
       "  </tbody>\n",
       "</table>\n",
       "</div>"
      ],
      "text/plain": [
       "     ID           Name Sex   Age  Height  Weight   Team  NOC        Games  \\\n",
       "0     1      A Dijiang   M  24.0   180.0    80.0  China  CHN  1992 Summer   \n",
       "1     2       A Lamusi   M  23.0   170.0    60.0  China  CHN  2012 Summer   \n",
       "2   602  Abudoureheman   M  22.0   182.0    75.0  China  CHN  2000 Summer   \n",
       "3  1463      Ai Linuer   M  25.0   160.0    62.0  China  CHN  2004 Summer   \n",
       "4  1464      Ai Yanhan   F  14.0   168.0    54.0  China  CHN  2016 Summer   \n",
       "\n",
       "   Year  Season            City       Sport  \\\n",
       "0  1992  Summer       Barcelona  Basketball   \n",
       "1  2012  Summer          London        Judo   \n",
       "2  2000  Summer          Sydney      Boxing   \n",
       "3  2004  Summer          Athina   Wrestling   \n",
       "4  2016  Summer  Rio de Janeiro    Swimming   \n",
       "\n",
       "                                      Event Medal region notes  \n",
       "0               Basketball Men's Basketball   NaN  China   NaN  \n",
       "1              Judo Men's Extra-Lightweight   NaN  China   NaN  \n",
       "2                 Boxing Men's Middleweight   NaN  China   NaN  \n",
       "3  Wrestling Men's Lightweight, Greco-Roman   NaN  China   NaN  \n",
       "4     Swimming Women's 200 metres Freestyle   NaN  China   NaN  "
      ]
     },
     "execution_count": 8,
     "metadata": {},
     "output_type": "execute_result"
    }
   ],
   "source": [
    "df.head(5)"
   ]
  },
  {
   "cell_type": "code",
   "execution_count": 9,
   "metadata": {},
   "outputs": [
    {
     "data": {
      "image/png": "[encoded data removed]",
      "text/plain": [
       "<Figure size 720x360 with 2 Axes>"
      ]
     },
     "metadata": {
      "needs_background": "light"
     },
     "output_type": "display_data"
    }
   ],
   "source": [
    "df[['Year', 'Age']].hist(bins=30, figsize=(10,5));"
   ]
  },
  {
   "cell_type": "markdown",
   "metadata": {},
   "source": [
    "We can see age histogram is right skewed it means that most of participants was in range 20-30 years old, but we have a couple of older members. <br>\n",
    "Count of members increase from year to year."
   ]
  },
  {
   "cell_type": "code",
   "execution_count": 10,
   "metadata": {},
   "outputs": [
    {
     "data": {
      "image/png": "[encoded data removed]",
      "text/plain": [
       "<Figure size 432x288 with 1 Axes>"
      ]
     },
     "metadata": {
      "needs_background": "light"
     },
     "output_type": "display_data"
    }
   ],
   "source": [
    "df[df['Season'] == 'Winter']['Age'].hist()\n",
    "df[df['Season'] == 'Summer']['Age'].hist(alpha=0.7);"
   ]
  },
  {
   "cell_type": "code",
   "execution_count": 11,
   "metadata": {},
   "outputs": [
    {
     "data": {
      "image/png": "[encoded data removed]",
      "text/plain": [
       "<Figure size 432x288 with 1 Axes>"
      ]
     },
     "metadata": {
      "needs_background": "light"
     },
     "output_type": "display_data"
    }
   ],
   "source": [
    "df[df['Season'] == 'Winter']['Year'].hist()\n",
    "df[df['Season'] == 'Summer']['Year'].hist(alpha=0.7);"
   ]
  },
  {
   "cell_type": "markdown",
   "metadata": {},
   "source": [
    "We can notice a big difference between amount of participants in Summer Games  and Winter Games. In Summer games attends more sportsmen than in Winter Games.\n",
    "Also, in both season amont of participants increase from year to year."
   ]
  },
  {
   "cell_type": "markdown",
   "metadata": {},
   "source": [
    "## Age"
   ]
  },
  {
   "cell_type": "markdown",
   "metadata": {},
   "source": [
    "Let's explore a few thing about participants' age. \n",
    "How was changing mean age of participants?\n",
    "And how young or how old you can be to contibute in The Olympic Games?"
   ]
  },
  {
   "cell_type": "code",
   "execution_count": 12,
   "metadata": {},
   "outputs": [
    {
     "data": {
      "text/html": [
       "<div>\n",
       "<style scoped>\n",
       "    .dataframe tbody tr th:only-of-type {\n",
       "        vertical-align: middle;\n",
       "    }\n",
       "\n",
       "    .dataframe tbody tr th {\n",
       "        vertical-align: top;\n",
       "    }\n",
       "\n",
       "    .dataframe thead tr th {\n",
       "        text-align: left;\n",
       "    }\n",
       "\n",
       "    .dataframe thead tr:last-of-type th {\n",
       "        text-align: right;\n",
       "    }\n",
       "</style>\n",
       "<table border=\"1\" class=\"dataframe\">\n",
       "  <thead>\n",
       "    <tr>\n",
       "      <th>Season</th>\n",
       "      <th colspan=\"2\" halign=\"left\">Summer</th>\n",
       "      <th colspan=\"2\" halign=\"left\">Winter</th>\n",
       "    </tr>\n",
       "    <tr>\n",
       "      <th>Sex</th>\n",
       "      <th>F</th>\n",
       "      <th>M</th>\n",
       "      <th>F</th>\n",
       "      <th>M</th>\n",
       "    </tr>\n",
       "    <tr>\n",
       "      <th>Year</th>\n",
       "      <th></th>\n",
       "      <th></th>\n",
       "      <th></th>\n",
       "      <th></th>\n",
       "    </tr>\n",
       "  </thead>\n",
       "  <tbody>\n",
       "    <tr>\n",
       "      <th>1896</th>\n",
       "      <td>NaN</td>\n",
       "      <td>23.580645</td>\n",
       "      <td>NaN</td>\n",
       "      <td>NaN</td>\n",
       "    </tr>\n",
       "    <tr>\n",
       "      <th>1900</th>\n",
       "      <td>29.791667</td>\n",
       "      <td>29.017825</td>\n",
       "      <td>NaN</td>\n",
       "      <td>NaN</td>\n",
       "    </tr>\n",
       "    <tr>\n",
       "      <th>1904</th>\n",
       "      <td>50.230769</td>\n",
       "      <td>26.396450</td>\n",
       "      <td>NaN</td>\n",
       "      <td>NaN</td>\n",
       "    </tr>\n",
       "    <tr>\n",
       "      <th>1906</th>\n",
       "      <td>23.500000</td>\n",
       "      <td>27.139959</td>\n",
       "      <td>NaN</td>\n",
       "      <td>NaN</td>\n",
       "    </tr>\n",
       "    <tr>\n",
       "      <th>1908</th>\n",
       "      <td>33.897436</td>\n",
       "      <td>26.858268</td>\n",
       "      <td>NaN</td>\n",
       "      <td>NaN</td>\n",
       "    </tr>\n",
       "    <tr>\n",
       "      <th>1912</th>\n",
       "      <td>22.379310</td>\n",
       "      <td>27.656834</td>\n",
       "      <td>NaN</td>\n",
       "      <td>NaN</td>\n",
       "    </tr>\n",
       "    <tr>\n",
       "      <th>1920</th>\n",
       "      <td>24.409836</td>\n",
       "      <td>29.470075</td>\n",
       "      <td>NaN</td>\n",
       "      <td>NaN</td>\n",
       "    </tr>\n",
       "    <tr>\n",
       "      <th>1924</th>\n",
       "      <td>26.421053</td>\n",
       "      <td>28.546741</td>\n",
       "      <td>25.625000</td>\n",
       "      <td>27.671835</td>\n",
       "    </tr>\n",
       "    <tr>\n",
       "      <th>1928</th>\n",
       "      <td>23.510264</td>\n",
       "      <td>29.947856</td>\n",
       "      <td>26.178571</td>\n",
       "      <td>26.605603</td>\n",
       "    </tr>\n",
       "    <tr>\n",
       "      <th>1932</th>\n",
       "      <td>29.664557</td>\n",
       "      <td>33.961637</td>\n",
       "      <td>22.571429</td>\n",
       "      <td>25.750000</td>\n",
       "    </tr>\n",
       "    <tr>\n",
       "      <th>1936</th>\n",
       "      <td>23.253363</td>\n",
       "      <td>28.230454</td>\n",
       "      <td>22.802469</td>\n",
       "      <td>25.275218</td>\n",
       "    </tr>\n",
       "    <tr>\n",
       "      <th>1948</th>\n",
       "      <td>26.122558</td>\n",
       "      <td>29.689227</td>\n",
       "      <td>22.834586</td>\n",
       "      <td>26.721748</td>\n",
       "    </tr>\n",
       "    <tr>\n",
       "      <th>1952</th>\n",
       "      <td>22.906658</td>\n",
       "      <td>27.011177</td>\n",
       "      <td>22.670270</td>\n",
       "      <td>26.015504</td>\n",
       "    </tr>\n",
       "    <tr>\n",
       "      <th>1956</th>\n",
       "      <td>22.361176</td>\n",
       "      <td>26.877968</td>\n",
       "      <td>22.817073</td>\n",
       "      <td>26.198842</td>\n",
       "    </tr>\n",
       "    <tr>\n",
       "      <th>1960</th>\n",
       "      <td>21.871938</td>\n",
       "      <td>26.044808</td>\n",
       "      <td>22.000000</td>\n",
       "      <td>25.055351</td>\n",
       "    </tr>\n",
       "    <tr>\n",
       "      <th>1964</th>\n",
       "      <td>21.736647</td>\n",
       "      <td>25.776264</td>\n",
       "      <td>22.633663</td>\n",
       "      <td>24.950037</td>\n",
       "    </tr>\n",
       "    <tr>\n",
       "      <th>1968</th>\n",
       "      <td>20.514366</td>\n",
       "      <td>25.242844</td>\n",
       "      <td>22.091346</td>\n",
       "      <td>24.822802</td>\n",
       "    </tr>\n",
       "    <tr>\n",
       "      <th>1972</th>\n",
       "      <td>20.529277</td>\n",
       "      <td>25.386247</td>\n",
       "      <td>21.910843</td>\n",
       "      <td>24.844786</td>\n",
       "    </tr>\n",
       "    <tr>\n",
       "      <th>1976</th>\n",
       "      <td>20.702815</td>\n",
       "      <td>24.929227</td>\n",
       "      <td>21.246544</td>\n",
       "      <td>24.503531</td>\n",
       "    </tr>\n",
       "    <tr>\n",
       "      <th>1980</th>\n",
       "      <td>20.987305</td>\n",
       "      <td>24.597496</td>\n",
       "      <td>21.665116</td>\n",
       "      <td>24.307224</td>\n",
       "    </tr>\n",
       "    <tr>\n",
       "      <th>1984</th>\n",
       "      <td>21.891260</td>\n",
       "      <td>24.768608</td>\n",
       "      <td>22.268657</td>\n",
       "      <td>23.839950</td>\n",
       "    </tr>\n",
       "    <tr>\n",
       "      <th>1988</th>\n",
       "      <td>22.395138</td>\n",
       "      <td>24.873058</td>\n",
       "      <td>22.466176</td>\n",
       "      <td>24.318670</td>\n",
       "    </tr>\n",
       "    <tr>\n",
       "      <th>1992</th>\n",
       "      <td>22.928101</td>\n",
       "      <td>25.092791</td>\n",
       "      <td>23.092979</td>\n",
       "      <td>24.441831</td>\n",
       "    </tr>\n",
       "    <tr>\n",
       "      <th>1994</th>\n",
       "      <td>NaN</td>\n",
       "      <td>NaN</td>\n",
       "      <td>23.465158</td>\n",
       "      <td>24.937165</td>\n",
       "    </tr>\n",
       "    <tr>\n",
       "      <th>1996</th>\n",
       "      <td>23.660128</td>\n",
       "      <td>25.649582</td>\n",
       "      <td>NaN</td>\n",
       "      <td>NaN</td>\n",
       "    </tr>\n",
       "    <tr>\n",
       "      <th>1998</th>\n",
       "      <td>NaN</td>\n",
       "      <td>NaN</td>\n",
       "      <td>24.353324</td>\n",
       "      <td>25.668319</td>\n",
       "    </tr>\n",
       "    <tr>\n",
       "      <th>2000</th>\n",
       "      <td>24.488647</td>\n",
       "      <td>26.037828</td>\n",
       "      <td>NaN</td>\n",
       "      <td>NaN</td>\n",
       "    </tr>\n",
       "    <tr>\n",
       "      <th>2002</th>\n",
       "      <td>NaN</td>\n",
       "      <td>NaN</td>\n",
       "      <td>25.128951</td>\n",
       "      <td>26.409181</td>\n",
       "    </tr>\n",
       "    <tr>\n",
       "      <th>2004</th>\n",
       "      <td>24.782499</td>\n",
       "      <td>26.243093</td>\n",
       "      <td>NaN</td>\n",
       "      <td>NaN</td>\n",
       "    </tr>\n",
       "    <tr>\n",
       "      <th>2006</th>\n",
       "      <td>NaN</td>\n",
       "      <td>NaN</td>\n",
       "      <td>25.190666</td>\n",
       "      <td>26.473524</td>\n",
       "    </tr>\n",
       "    <tr>\n",
       "      <th>2008</th>\n",
       "      <td>24.889138</td>\n",
       "      <td>26.376946</td>\n",
       "      <td>NaN</td>\n",
       "      <td>NaN</td>\n",
       "    </tr>\n",
       "    <tr>\n",
       "      <th>2010</th>\n",
       "      <td>NaN</td>\n",
       "      <td>NaN</td>\n",
       "      <td>25.300487</td>\n",
       "      <td>26.719765</td>\n",
       "    </tr>\n",
       "    <tr>\n",
       "      <th>2012</th>\n",
       "      <td>25.168192</td>\n",
       "      <td>26.621740</td>\n",
       "      <td>NaN</td>\n",
       "      <td>NaN</td>\n",
       "    </tr>\n",
       "    <tr>\n",
       "      <th>2014</th>\n",
       "      <td>NaN</td>\n",
       "      <td>NaN</td>\n",
       "      <td>25.334652</td>\n",
       "      <td>26.447699</td>\n",
       "    </tr>\n",
       "    <tr>\n",
       "      <th>2016</th>\n",
       "      <td>25.573916</td>\n",
       "      <td>26.743325</td>\n",
       "      <td>NaN</td>\n",
       "      <td>NaN</td>\n",
       "    </tr>\n",
       "  </tbody>\n",
       "</table>\n",
       "</div>"
      ],
      "text/plain": [
       "Season     Summer                Winter           \n",
       "Sex             F          M          F          M\n",
       "Year                                              \n",
       "1896          NaN  23.580645        NaN        NaN\n",
       "1900    29.791667  29.017825        NaN        NaN\n",
       "1904    50.230769  26.396450        NaN        NaN\n",
       "1906    23.500000  27.139959        NaN        NaN\n",
       "1908    33.897436  26.858268        NaN        NaN\n",
       "1912    22.379310  27.656834        NaN        NaN\n",
       "1920    24.409836  29.470075        NaN        NaN\n",
       "1924    26.421053  28.546741  25.625000  27.671835\n",
       "1928    23.510264  29.947856  26.178571  26.605603\n",
       "1932    29.664557  33.961637  22.571429  25.750000\n",
       "1936    23.253363  28.230454  22.802469  25.275218\n",
       "1948    26.122558  29.689227  22.834586  26.721748\n",
       "1952    22.906658  27.011177  22.670270  26.015504\n",
       "1956    22.361176  26.877968  22.817073  26.198842\n",
       "1960    21.871938  26.044808  22.000000  25.055351\n",
       "1964    21.736647  25.776264  22.633663  24.950037\n",
       "1968    20.514366  25.242844  22.091346  24.822802\n",
       "1972    20.529277  25.386247  21.910843  24.844786\n",
       "1976    20.702815  24.929227  21.246544  24.503531\n",
       "1980    20.987305  24.597496  21.665116  24.307224\n",
       "1984    21.891260  24.768608  22.268657  23.839950\n",
       "1988    22.395138  24.873058  22.466176  24.318670\n",
       "1992    22.928101  25.092791  23.092979  24.441831\n",
       "1994          NaN        NaN  23.465158  24.937165\n",
       "1996    23.660128  25.649582        NaN        NaN\n",
       "1998          NaN        NaN  24.353324  25.668319\n",
       "2000    24.488647  26.037828        NaN        NaN\n",
       "2002          NaN        NaN  25.128951  26.409181\n",
       "2004    24.782499  26.243093        NaN        NaN\n",
       "2006          NaN        NaN  25.190666  26.473524\n",
       "2008    24.889138  26.376946        NaN        NaN\n",
       "2010          NaN        NaN  25.300487  26.719765\n",
       "2012    25.168192  26.621740        NaN        NaN\n",
       "2014          NaN        NaN  25.334652  26.447699\n",
       "2016    25.573916  26.743325        NaN        NaN"
      ]
     },
     "execution_count": 12,
     "metadata": {},
     "output_type": "execute_result"
    }
   ],
   "source": [
    "#mean participants' age\n",
    "mean_age = df.pivot_table('Age', index='Year', columns=['Season', 'Sex'], aggfunc='mean')\n",
    "mean_age"
   ]
  },
  {
   "cell_type": "markdown",
   "metadata": {},
   "source": [
    "The 1992 Winter Games were the last to be held in the same year as the Summer Games. So, start from 1992 we have empty values for Summer Games in year when was Winter Game and vice versa.\n",
    "We can fill empty values by values from previous games (using method 'ffill') or we can separate data to Winter and Summer Games. "
   ]
  },
  {
   "cell_type": "code",
   "execution_count": 13,
   "metadata": {},
   "outputs": [],
   "source": [
    "mean_age.fillna(method='ffill', inplace=True) #fill empty values "
   ]
  },
  {
   "cell_type": "code",
   "execution_count": 14,
   "metadata": {},
   "outputs": [],
   "source": [
    "#separate by sex\n",
    "female_age = mean_age.xs('F', level=1, axis=1)\n",
    "male_age = mean_age.xs('M', level=1, axis=1)"
   ]
  },
  {
   "cell_type": "code",
   "execution_count": 15,
   "metadata": {},
   "outputs": [
    {
     "data": {
      "image/png": "[encoded data removed]",
      "text/plain": [
       "<Figure size 720x576 with 2 Axes>"
      ]
     },
     "metadata": {
      "needs_background": "light"
     },
     "output_type": "display_data"
    }
   ],
   "source": [
    "fig = plt.figure(figsize=(10, 8))\n",
    "\n",
    "ax1 = fig.add_subplot(2, 1, 1)\n",
    "ax2 = fig.add_subplot(2, 1, 2)\n",
    "\n",
    "female_age.plot(ax=ax1, sharex=True, grid=True, linewidth=3)\n",
    "ax1.set_title('Female mean age', size=14)\n",
    "\n",
    "male_age.plot(ax=ax2, grid=True, linewidth=3)\n",
    "ax2.set_title('Male mean age', size=14)\n",
    "ax2.set_xlabel('Year', size=12)\n",
    "fig.text(0.05, 0.52, 'Age', va='center', rotation='vertical', size=14);"
   ]
  },
  {
   "cell_type": "code",
   "execution_count": 16,
   "metadata": {},
   "outputs": [],
   "source": [
    "#separate by season\n",
    "winter_age = mean_age['Winter']\n",
    "summer_age = mean_age['Summer']"
   ]
  },
  {
   "cell_type": "code",
   "execution_count": 17,
   "metadata": {},
   "outputs": [
    {
     "data": {
      "image/png": "[encoded data removed]",
      "text/plain": [
       "<Figure size 720x576 with 2 Axes>"
      ]
     },
     "metadata": {
      "needs_background": "light"
     },
     "output_type": "display_data"
    }
   ],
   "source": [
    "fig = plt.figure(figsize=(10, 8))\n",
    "\n",
    "ax1 = fig.add_subplot(2, 1, 1)\n",
    "ax2 = fig.add_subplot(2, 1, 2)\n",
    "\n",
    "winter_age.plot(ax=ax1, sharex=True, grid=True, linewidth=3)\n",
    "ax1.set_title(\"Winter's games mean age\", size=14)\n",
    "ax1.legend(title='Sex', loc='upper right');\n",
    "\n",
    "\n",
    "summer_age.plot(ax=ax2, grid=True, linewidth=3)\n",
    "ax2.set_title(\"Summer's games mean age\", size=14)\n",
    "ax2.set_xlabel('Year', size=12)\n",
    "fig.text(0.04, 0.52, 'Age', va='center', rotation='vertical', size=14);"
   ]
  },
  {
   "cell_type": "markdown",
   "metadata": {},
   "source": [
    "So, we can make conclusion, that generally male participants a little bit older than female. Also, we can notice\n",
    "downtrend for winter games and after 1964 for male and 1984 for female it's changed to uptrend.<br>\n",
    "\n",
    "Now let's see on the youngest and the oldest members."
   ]
  },
  {
   "cell_type": "code",
   "execution_count": 18,
   "metadata": {},
   "outputs": [],
   "source": [
    "def min_max_age(group):\n",
    "    \"Add min and max age for each group\"\n",
    "    group['min_age'] = group['Age'].min()\n",
    "    group['max_age'] = group['Age'].max()\n",
    "    return group"
   ]
  },
  {
   "cell_type": "code",
   "execution_count": 19,
   "metadata": {},
   "outputs": [],
   "source": [
    "age_range = df.groupby(['Year', 'Sex']).apply(min_max_age) #add min, max age"
   ]
  },
  {
   "cell_type": "code",
   "execution_count": 20,
   "metadata": {},
   "outputs": [
    {
     "data": {
      "text/html": [
       "<div>\n",
       "<style scoped>\n",
       "    .dataframe tbody tr th:only-of-type {\n",
       "        vertical-align: middle;\n",
       "    }\n",
       "\n",
       "    .dataframe tbody tr th {\n",
       "        vertical-align: top;\n",
       "    }\n",
       "\n",
       "    .dataframe thead tr th {\n",
       "        text-align: left;\n",
       "    }\n",
       "\n",
       "    .dataframe thead tr:last-of-type th {\n",
       "        text-align: right;\n",
       "    }\n",
       "</style>\n",
       "<table border=\"1\" class=\"dataframe\">\n",
       "  <thead>\n",
       "    <tr>\n",
       "      <th></th>\n",
       "      <th colspan=\"2\" halign=\"left\">min_age</th>\n",
       "      <th colspan=\"2\" halign=\"left\">max_age</th>\n",
       "    </tr>\n",
       "    <tr>\n",
       "      <th>Sex</th>\n",
       "      <th>F</th>\n",
       "      <th>M</th>\n",
       "      <th>F</th>\n",
       "      <th>M</th>\n",
       "    </tr>\n",
       "    <tr>\n",
       "      <th>Year</th>\n",
       "      <th></th>\n",
       "      <th></th>\n",
       "      <th></th>\n",
       "      <th></th>\n",
       "    </tr>\n",
       "  </thead>\n",
       "  <tbody>\n",
       "    <tr>\n",
       "      <th>1896</th>\n",
       "      <td>NaN</td>\n",
       "      <td>10.0</td>\n",
       "      <td>NaN</td>\n",
       "      <td>40.0</td>\n",
       "    </tr>\n",
       "    <tr>\n",
       "      <th>1900</th>\n",
       "      <td>13.0</td>\n",
       "      <td>15.0</td>\n",
       "      <td>46.0</td>\n",
       "      <td>71.0</td>\n",
       "    </tr>\n",
       "    <tr>\n",
       "      <th>1904</th>\n",
       "      <td>24.0</td>\n",
       "      <td>14.0</td>\n",
       "      <td>63.0</td>\n",
       "      <td>71.0</td>\n",
       "    </tr>\n",
       "    <tr>\n",
       "      <th>1906</th>\n",
       "      <td>21.0</td>\n",
       "      <td>13.0</td>\n",
       "      <td>26.0</td>\n",
       "      <td>54.0</td>\n",
       "    </tr>\n",
       "    <tr>\n",
       "      <th>1908</th>\n",
       "      <td>21.0</td>\n",
       "      <td>14.0</td>\n",
       "      <td>54.0</td>\n",
       "      <td>61.0</td>\n",
       "    </tr>\n",
       "    <tr>\n",
       "      <th>1912</th>\n",
       "      <td>13.0</td>\n",
       "      <td>15.0</td>\n",
       "      <td>45.0</td>\n",
       "      <td>67.0</td>\n",
       "    </tr>\n",
       "    <tr>\n",
       "      <th>1920</th>\n",
       "      <td>13.0</td>\n",
       "      <td>13.0</td>\n",
       "      <td>42.0</td>\n",
       "      <td>72.0</td>\n",
       "    </tr>\n",
       "    <tr>\n",
       "      <th>1924</th>\n",
       "      <td>11.0</td>\n",
       "      <td>14.0</td>\n",
       "      <td>74.0</td>\n",
       "      <td>81.0</td>\n",
       "    </tr>\n",
       "    <tr>\n",
       "      <th>1928</th>\n",
       "      <td>11.0</td>\n",
       "      <td>13.0</td>\n",
       "      <td>67.0</td>\n",
       "      <td>97.0</td>\n",
       "    </tr>\n",
       "    <tr>\n",
       "      <th>1932</th>\n",
       "      <td>11.0</td>\n",
       "      <td>13.0</td>\n",
       "      <td>69.0</td>\n",
       "      <td>96.0</td>\n",
       "    </tr>\n",
       "    <tr>\n",
       "      <th>1936</th>\n",
       "      <td>11.0</td>\n",
       "      <td>12.0</td>\n",
       "      <td>73.0</td>\n",
       "      <td>74.0</td>\n",
       "    </tr>\n",
       "    <tr>\n",
       "      <th>1948</th>\n",
       "      <td>12.0</td>\n",
       "      <td>13.0</td>\n",
       "      <td>72.0</td>\n",
       "      <td>84.0</td>\n",
       "    </tr>\n",
       "    <tr>\n",
       "      <th>1952</th>\n",
       "      <td>13.0</td>\n",
       "      <td>12.0</td>\n",
       "      <td>45.0</td>\n",
       "      <td>65.0</td>\n",
       "    </tr>\n",
       "    <tr>\n",
       "      <th>1956</th>\n",
       "      <td>12.0</td>\n",
       "      <td>13.0</td>\n",
       "      <td>61.0</td>\n",
       "      <td>67.0</td>\n",
       "    </tr>\n",
       "    <tr>\n",
       "      <th>1960</th>\n",
       "      <td>11.0</td>\n",
       "      <td>13.0</td>\n",
       "      <td>65.0</td>\n",
       "      <td>64.0</td>\n",
       "    </tr>\n",
       "    <tr>\n",
       "      <th>1964</th>\n",
       "      <td>12.0</td>\n",
       "      <td>13.0</td>\n",
       "      <td>43.0</td>\n",
       "      <td>60.0</td>\n",
       "    </tr>\n",
       "    <tr>\n",
       "      <th>1968</th>\n",
       "      <td>11.0</td>\n",
       "      <td>12.0</td>\n",
       "      <td>66.0</td>\n",
       "      <td>68.0</td>\n",
       "    </tr>\n",
       "    <tr>\n",
       "      <th>1972</th>\n",
       "      <td>13.0</td>\n",
       "      <td>12.0</td>\n",
       "      <td>69.0</td>\n",
       "      <td>66.0</td>\n",
       "    </tr>\n",
       "    <tr>\n",
       "      <th>1976</th>\n",
       "      <td>12.0</td>\n",
       "      <td>14.0</td>\n",
       "      <td>48.0</td>\n",
       "      <td>70.0</td>\n",
       "    </tr>\n",
       "    <tr>\n",
       "      <th>1980</th>\n",
       "      <td>13.0</td>\n",
       "      <td>13.0</td>\n",
       "      <td>49.0</td>\n",
       "      <td>70.0</td>\n",
       "    </tr>\n",
       "    <tr>\n",
       "      <th>1984</th>\n",
       "      <td>13.0</td>\n",
       "      <td>12.0</td>\n",
       "      <td>52.0</td>\n",
       "      <td>60.0</td>\n",
       "    </tr>\n",
       "    <tr>\n",
       "      <th>1988</th>\n",
       "      <td>11.0</td>\n",
       "      <td>12.0</td>\n",
       "      <td>63.0</td>\n",
       "      <td>70.0</td>\n",
       "    </tr>\n",
       "    <tr>\n",
       "      <th>1992</th>\n",
       "      <td>12.0</td>\n",
       "      <td>11.0</td>\n",
       "      <td>53.0</td>\n",
       "      <td>62.0</td>\n",
       "    </tr>\n",
       "    <tr>\n",
       "      <th>1994</th>\n",
       "      <td>13.0</td>\n",
       "      <td>15.0</td>\n",
       "      <td>40.0</td>\n",
       "      <td>46.0</td>\n",
       "    </tr>\n",
       "    <tr>\n",
       "      <th>1996</th>\n",
       "      <td>12.0</td>\n",
       "      <td>14.0</td>\n",
       "      <td>58.0</td>\n",
       "      <td>63.0</td>\n",
       "    </tr>\n",
       "    <tr>\n",
       "      <th>1998</th>\n",
       "      <td>15.0</td>\n",
       "      <td>14.0</td>\n",
       "      <td>44.0</td>\n",
       "      <td>50.0</td>\n",
       "    </tr>\n",
       "    <tr>\n",
       "      <th>2000</th>\n",
       "      <td>13.0</td>\n",
       "      <td>14.0</td>\n",
       "      <td>53.0</td>\n",
       "      <td>63.0</td>\n",
       "    </tr>\n",
       "    <tr>\n",
       "      <th>2002</th>\n",
       "      <td>15.0</td>\n",
       "      <td>15.0</td>\n",
       "      <td>48.0</td>\n",
       "      <td>48.0</td>\n",
       "    </tr>\n",
       "    <tr>\n",
       "      <th>2004</th>\n",
       "      <td>13.0</td>\n",
       "      <td>14.0</td>\n",
       "      <td>56.0</td>\n",
       "      <td>57.0</td>\n",
       "    </tr>\n",
       "    <tr>\n",
       "      <th>2006</th>\n",
       "      <td>14.0</td>\n",
       "      <td>15.0</td>\n",
       "      <td>44.0</td>\n",
       "      <td>52.0</td>\n",
       "    </tr>\n",
       "    <tr>\n",
       "      <th>2008</th>\n",
       "      <td>12.0</td>\n",
       "      <td>13.0</td>\n",
       "      <td>58.0</td>\n",
       "      <td>67.0</td>\n",
       "    </tr>\n",
       "    <tr>\n",
       "      <th>2010</th>\n",
       "      <td>15.0</td>\n",
       "      <td>15.0</td>\n",
       "      <td>46.0</td>\n",
       "      <td>51.0</td>\n",
       "    </tr>\n",
       "    <tr>\n",
       "      <th>2012</th>\n",
       "      <td>13.0</td>\n",
       "      <td>15.0</td>\n",
       "      <td>57.0</td>\n",
       "      <td>71.0</td>\n",
       "    </tr>\n",
       "    <tr>\n",
       "      <th>2014</th>\n",
       "      <td>15.0</td>\n",
       "      <td>15.0</td>\n",
       "      <td>45.0</td>\n",
       "      <td>55.0</td>\n",
       "    </tr>\n",
       "    <tr>\n",
       "      <th>2016</th>\n",
       "      <td>13.0</td>\n",
       "      <td>14.0</td>\n",
       "      <td>62.0</td>\n",
       "      <td>60.0</td>\n",
       "    </tr>\n",
       "  </tbody>\n",
       "</table>\n",
       "</div>"
      ],
      "text/plain": [
       "     min_age       max_age      \n",
       "Sex        F     M       F     M\n",
       "Year                            \n",
       "1896     NaN  10.0     NaN  40.0\n",
       "1900    13.0  15.0    46.0  71.0\n",
       "1904    24.0  14.0    63.0  71.0\n",
       "1906    21.0  13.0    26.0  54.0\n",
       "1908    21.0  14.0    54.0  61.0\n",
       "1912    13.0  15.0    45.0  67.0\n",
       "1920    13.0  13.0    42.0  72.0\n",
       "1924    11.0  14.0    74.0  81.0\n",
       "1928    11.0  13.0    67.0  97.0\n",
       "1932    11.0  13.0    69.0  96.0\n",
       "1936    11.0  12.0    73.0  74.0\n",
       "1948    12.0  13.0    72.0  84.0\n",
       "1952    13.0  12.0    45.0  65.0\n",
       "1956    12.0  13.0    61.0  67.0\n",
       "1960    11.0  13.0    65.0  64.0\n",
       "1964    12.0  13.0    43.0  60.0\n",
       "1968    11.0  12.0    66.0  68.0\n",
       "1972    13.0  12.0    69.0  66.0\n",
       "1976    12.0  14.0    48.0  70.0\n",
       "1980    13.0  13.0    49.0  70.0\n",
       "1984    13.0  12.0    52.0  60.0\n",
       "1988    11.0  12.0    63.0  70.0\n",
       "1992    12.0  11.0    53.0  62.0\n",
       "1994    13.0  15.0    40.0  46.0\n",
       "1996    12.0  14.0    58.0  63.0\n",
       "1998    15.0  14.0    44.0  50.0\n",
       "2000    13.0  14.0    53.0  63.0\n",
       "2002    15.0  15.0    48.0  48.0\n",
       "2004    13.0  14.0    56.0  57.0\n",
       "2006    14.0  15.0    44.0  52.0\n",
       "2008    12.0  13.0    58.0  67.0\n",
       "2010    15.0  15.0    46.0  51.0\n",
       "2012    13.0  15.0    57.0  71.0\n",
       "2014    15.0  15.0    45.0  55.0\n",
       "2016    13.0  14.0    62.0  60.0"
      ]
     },
     "execution_count": 20,
     "metadata": {},
     "output_type": "execute_result"
    }
   ],
   "source": [
    "age_range = age_range.groupby(['Year', 'Sex'])['min_age', 'max_age'].mean().unstack()\n",
    "age_range"
   ]
  },
  {
   "cell_type": "code",
   "execution_count": 21,
   "metadata": {},
   "outputs": [],
   "source": [
    "#separate age range by sex\n",
    "range_male = age_range.xs('M', level=1, axis=1)\n",
    "range_female = age_range.xs('F', level=1, axis=1)"
   ]
  },
  {
   "cell_type": "code",
   "execution_count": 22,
   "metadata": {},
   "outputs": [
    {
     "data": {
      "image/png": "[encoded data removed]",
      "text/plain": [
       "<Figure size 576x432 with 1 Axes>"
      ]
     },
     "metadata": {
      "needs_background": "light"
     },
     "output_type": "display_data"
    }
   ],
   "source": [
    "range_male.plot(figsize=(8, 6), linewidth=2.5)\n",
    "\n",
    "plt.title('The youngest and the oldest male members', size=14)\n",
    "plt.ylabel('Age', size=12)\n",
    "\n",
    "plt.fill_between(range_male.index, range_male['min_age'], range_male['max_age'], alpha=0.3);"
   ]
  },
  {
   "cell_type": "code",
   "execution_count": 23,
   "metadata": {},
   "outputs": [
    {
     "data": {
      "image/png": "[encoded data removed]",
      "text/plain": [
       "<Figure size 576x432 with 1 Axes>"
      ]
     },
     "metadata": {
      "needs_background": "light"
     },
     "output_type": "display_data"
    }
   ],
   "source": [
    "range_female.plot(figsize=(8, 6), linewidth=2.5)\n",
    "\n",
    "plt.title('The youngest and the oldest female members', size=14)\n",
    "plt.ylabel('Age', size=12)\n",
    "\n",
    "plt.fill_between(range_female.index, range_female['min_age'], range_female['max_age'], alpha=0.3);"
   ]
  },
  {
   "cell_type": "markdown",
   "metadata": {},
   "source": [
    "It seems like we have some couple of sportsmen older than 60 and even 80. And the youngest participants are at 12-14 years. <br>\n",
    "\n",
    "I want to know in which sports they attended."
   ]
  },
  {
   "cell_type": "code",
   "execution_count": 24,
   "metadata": {},
   "outputs": [
    {
     "data": {
      "text/plain": [
       "Art Competitions    463\n",
       "Shooting             35\n",
       "Equestrianism        31\n",
       "Archery              19\n",
       "Sailing              18\n",
       "Fencing               3\n",
       "Roque                 1\n",
       "Name: Sport, dtype: int64"
      ]
     },
     "execution_count": 24,
     "metadata": {},
     "output_type": "execute_result"
    }
   ],
   "source": [
    "df[df['Age'] > 60]['Sport'].value_counts()"
   ]
  },
  {
   "cell_type": "code",
   "execution_count": 25,
   "metadata": {},
   "outputs": [
    {
     "data": {
      "text/plain": [
       "Swimming                     129\n",
       "Gymnastics                    41\n",
       "Figure Skating                26\n",
       "Rowing                        17\n",
       "Diving                        10\n",
       "Athletics                      4\n",
       "Speed Skating                  2\n",
       "Sailing                        1\n",
       "Rhythmic Gymnastics            1\n",
       "Freestyle Skiing               1\n",
       "Short Track Speed Skating      1\n",
       "Tennis                         1\n",
       "Name: Sport, dtype: int64"
      ]
     },
     "execution_count": 25,
     "metadata": {},
     "output_type": "execute_result"
    }
   ],
   "source": [
    "df[df['Age'] < 14]['Sport'].value_counts()"
   ]
  },
  {
   "cell_type": "markdown",
   "metadata": {},
   "source": [
    "So, the most popular sport for people after 60 it's 'Art Competitions'. I never heard what is 'Art Competitions', but after little research I found that: <br> \n",
    "\n",
    "_\"Art competitions formed part of the modern Olympic Games during its early years, from 1912 to 1948. Medals were awarded for works of art inspired by sport, divided into five categories: architecture, literature, music, painting, and sculpture.\"_ <br>\n",
    "\n",
    "Also, they attend in shooting, archery and equestrianism.\n",
    "\n",
    "And younger olympians attends in swimming, gymnastics and figure skating."
   ]
  },
  {
   "cell_type": "markdown",
   "metadata": {},
   "source": [
    "## Medals"
   ]
  },
  {
   "cell_type": "markdown",
   "metadata": {},
   "source": [
    "Ok, we got some information about participants, but how about medals? Which country has a better sportsmen? Who got the most medals and in which sport? \n"
   ]
  },
  {
   "cell_type": "code",
   "execution_count": 26,
   "metadata": {},
   "outputs": [
    {
     "data": {
      "text/plain": [
       "Gold      13371\n",
       "Bronze    13291\n",
       "Silver    13112\n",
       "Name: Medal, dtype: int64"
      ]
     },
     "execution_count": 26,
     "metadata": {},
     "output_type": "execute_result"
    }
   ],
   "source": [
    "df['Medal'].value_counts()"
   ]
  },
  {
   "cell_type": "code",
   "execution_count": 27,
   "metadata": {},
   "outputs": [
    {
     "data": {
      "image/png": "[encoded data removed]",
      "text/plain": [
       "<Figure size 864x432 with 1 Axes>"
      ]
     },
     "metadata": {
      "needs_background": "light"
     },
     "output_type": "display_data"
    }
   ],
   "source": [
    "df.groupby(['Year', 'Medal'])['Age'].mean().unstack().plot(figsize=(12, 6), linewidth=2.5);"
   ]
  },
  {
   "cell_type": "markdown",
   "metadata": {},
   "source": [
    "Which countries got the most medals."
   ]
  },
  {
   "cell_type": "code",
   "execution_count": 28,
   "metadata": {},
   "outputs": [],
   "source": [
    "medals_count = df.groupby(['region', 'Medal'])['Medal'].count().unstack()"
   ]
  },
  {
   "cell_type": "code",
   "execution_count": 29,
   "metadata": {},
   "outputs": [],
   "source": [
    "indexer = medals_count.sum(1).argsort() #ranking by sum of medals"
   ]
  },
  {
   "cell_type": "code",
   "execution_count": 30,
   "metadata": {},
   "outputs": [
    {
     "data": {
      "text/html": [
       "<div>\n",
       "<style scoped>\n",
       "    .dataframe tbody tr th:only-of-type {\n",
       "        vertical-align: middle;\n",
       "    }\n",
       "\n",
       "    .dataframe tbody tr th {\n",
       "        vertical-align: top;\n",
       "    }\n",
       "\n",
       "    .dataframe thead th {\n",
       "        text-align: right;\n",
       "    }\n",
       "</style>\n",
       "<table border=\"1\" class=\"dataframe\">\n",
       "  <thead>\n",
       "    <tr style=\"text-align: right;\">\n",
       "      <th>Medal</th>\n",
       "      <th>Bronze</th>\n",
       "      <th>Gold</th>\n",
       "      <th>Silver</th>\n",
       "    </tr>\n",
       "    <tr>\n",
       "      <th>region</th>\n",
       "      <th></th>\n",
       "      <th></th>\n",
       "      <th></th>\n",
       "    </tr>\n",
       "  </thead>\n",
       "  <tbody>\n",
       "    <tr>\n",
       "      <th>USA</th>\n",
       "      <td>1358.0</td>\n",
       "      <td>2638.0</td>\n",
       "      <td>1641.0</td>\n",
       "    </tr>\n",
       "    <tr>\n",
       "      <th>Russia</th>\n",
       "      <td>1178.0</td>\n",
       "      <td>1599.0</td>\n",
       "      <td>1170.0</td>\n",
       "    </tr>\n",
       "    <tr>\n",
       "      <th>Germany</th>\n",
       "      <td>1260.0</td>\n",
       "      <td>1301.0</td>\n",
       "      <td>1195.0</td>\n",
       "    </tr>\n",
       "    <tr>\n",
       "      <th>UK</th>\n",
       "      <td>651.0</td>\n",
       "      <td>678.0</td>\n",
       "      <td>739.0</td>\n",
       "    </tr>\n",
       "    <tr>\n",
       "      <th>France</th>\n",
       "      <td>666.0</td>\n",
       "      <td>501.0</td>\n",
       "      <td>610.0</td>\n",
       "    </tr>\n",
       "    <tr>\n",
       "      <th>Italy</th>\n",
       "      <td>531.0</td>\n",
       "      <td>575.0</td>\n",
       "      <td>531.0</td>\n",
       "    </tr>\n",
       "    <tr>\n",
       "      <th>Sweden</th>\n",
       "      <td>535.0</td>\n",
       "      <td>479.0</td>\n",
       "      <td>522.0</td>\n",
       "    </tr>\n",
       "    <tr>\n",
       "      <th>Canada</th>\n",
       "      <td>451.0</td>\n",
       "      <td>463.0</td>\n",
       "      <td>438.0</td>\n",
       "    </tr>\n",
       "    <tr>\n",
       "      <th>Australia</th>\n",
       "      <td>522.0</td>\n",
       "      <td>368.0</td>\n",
       "      <td>459.0</td>\n",
       "    </tr>\n",
       "    <tr>\n",
       "      <th>Hungary</th>\n",
       "      <td>371.0</td>\n",
       "      <td>432.0</td>\n",
       "      <td>332.0</td>\n",
       "    </tr>\n",
       "  </tbody>\n",
       "</table>\n",
       "</div>"
      ],
      "text/plain": [
       "Medal      Bronze    Gold  Silver\n",
       "region                           \n",
       "USA        1358.0  2638.0  1641.0\n",
       "Russia     1178.0  1599.0  1170.0\n",
       "Germany    1260.0  1301.0  1195.0\n",
       "UK          651.0   678.0   739.0\n",
       "France      666.0   501.0   610.0\n",
       "Italy       531.0   575.0   531.0\n",
       "Sweden      535.0   479.0   522.0\n",
       "Canada      451.0   463.0   438.0\n",
       "Australia   522.0   368.0   459.0\n",
       "Hungary     371.0   432.0   332.0"
      ]
     },
     "execution_count": 30,
     "metadata": {},
     "output_type": "execute_result"
    }
   ],
   "source": [
    "top10_medals = medals_count.take(indexer[-10:])[::-1]\n",
    "top10_medals"
   ]
  },
  {
   "cell_type": "code",
   "execution_count": 31,
   "metadata": {},
   "outputs": [],
   "source": [
    "top10_medals = top10_medals.stack()\n",
    "top10_medals.name = 'Total'\n",
    "top10_medals = top10_medals.reset_index()"
   ]
  },
  {
   "cell_type": "code",
   "execution_count": 32,
   "metadata": {},
   "outputs": [
    {
     "data": {
      "image/png": "[encoded data removed]",
      "text/plain": [
       "<Figure size 864x576 with 1 Axes>"
      ]
     },
     "metadata": {
      "needs_background": "light"
     },
     "output_type": "display_data"
    }
   ],
   "source": [
    "plt.figure(figsize=(12, 8))\n",
    "plt.title('Top10 countries with the largest number of medals', size=16)\n",
    "\n",
    "plt.xticks(fontsize=12)\n",
    "plt.yticks(fontsize=12)\n",
    "\n",
    "sns.barplot(x='Total', y='region', hue='Medal', data=top10_medals,\n",
    "           color='b', palette='Blues_d')\n",
    "\n",
    "plt.xlabel('Total', fontsize=13)\n",
    "plt.ylabel('Country', fontsize=13)\n",
    "\n",
    "plt.legend(fontsize=13);"
   ]
  },
  {
   "cell_type": "markdown",
   "metadata": {},
   "source": [
    "United States won more medals than other countries. Let's see in which sports they feel the most confident. "
   ]
  },
  {
   "cell_type": "code",
   "execution_count": 33,
   "metadata": {},
   "outputs": [],
   "source": [
    "usa_gold_medals = df[(df['region'] == 'USA') & (df['Medal'] == 'Gold')]"
   ]
  },
  {
   "cell_type": "code",
   "execution_count": 34,
   "metadata": {},
   "outputs": [
    {
     "data": {
      "image/png": "[encoded data removed]",
      "text/plain": [
       "<Figure size 1152x576 with 1 Axes>"
      ]
     },
     "metadata": {
      "needs_background": "light"
     },
     "output_type": "display_data"
    }
   ],
   "source": [
    "plt.figure(figsize=(16, 8))\n",
    "plt.xticks(rotation=90)\n",
    "sns.countplot(x='Sport', data=usa_gold_medals);"
   ]
  },
  {
   "cell_type": "markdown",
   "metadata": {},
   "source": [
    "So, United States pretty well in swimmings, athletics and basketball. <br>\n",
    "\n",
    "Now, let's explore which sportsmen got the most medals in Olympic history."
   ]
  },
  {
   "cell_type": "code",
   "execution_count": 35,
   "metadata": {},
   "outputs": [],
   "source": [
    "#use ID for avoid duplicates in names\n",
    "top_medalists = df.groupby(['ID', 'Name', 'Sport', 'Medal'])['Medal'].count().unstack() "
   ]
  },
  {
   "cell_type": "code",
   "execution_count": 36,
   "metadata": {},
   "outputs": [],
   "source": [
    "indexer = top_medalists.sum(1).argsort() #ranking by sum of medals"
   ]
  },
  {
   "cell_type": "code",
   "execution_count": 37,
   "metadata": {},
   "outputs": [],
   "source": [
    "top15_medalist = top_medalists.take(indexer[-15:])[::-1]"
   ]
  },
  {
   "cell_type": "code",
   "execution_count": 38,
   "metadata": {},
   "outputs": [],
   "source": [
    "top15_medalist['Total'] = top15_medalist.sum(1)"
   ]
  },
  {
   "cell_type": "code",
   "execution_count": 39,
   "metadata": {},
   "outputs": [],
   "source": [
    "top15_medalist.reset_index(inplace=True)\n",
    "top15_medalist = top15_medalist.reindex(columns=['Name', 'Sport', 'Gold', 'Silver', 'Bronze', 'Total']) #set in convenient order\n",
    "top15_medalist.set_index(['Name'], inplace=True)\n",
    "top15_medalist.rename_axis(None, axis=1, inplace=True) #remove axis1 name 'Medal'"
   ]
  },
  {
   "cell_type": "code",
   "execution_count": 40,
   "metadata": {},
   "outputs": [
    {
     "data": {
      "text/html": [
       "<div>\n",
       "<style scoped>\n",
       "    .dataframe tbody tr th:only-of-type {\n",
       "        vertical-align: middle;\n",
       "    }\n",
       "\n",
       "    .dataframe tbody tr th {\n",
       "        vertical-align: top;\n",
       "    }\n",
       "\n",
       "    .dataframe thead th {\n",
       "        text-align: right;\n",
       "    }\n",
       "</style>\n",
       "<table border=\"1\" class=\"dataframe\">\n",
       "  <thead>\n",
       "    <tr style=\"text-align: right;\">\n",
       "      <th></th>\n",
       "      <th>Sport</th>\n",
       "      <th>Gold</th>\n",
       "      <th>Silver</th>\n",
       "      <th>Bronze</th>\n",
       "      <th>Total</th>\n",
       "    </tr>\n",
       "    <tr>\n",
       "      <th>Name</th>\n",
       "      <th></th>\n",
       "      <th></th>\n",
       "      <th></th>\n",
       "      <th></th>\n",
       "      <th></th>\n",
       "    </tr>\n",
       "  </thead>\n",
       "  <tbody>\n",
       "    <tr>\n",
       "      <th>Michael Fred Phelps, II</th>\n",
       "      <td>Swimming</td>\n",
       "      <td>23.0</td>\n",
       "      <td>3.0</td>\n",
       "      <td>2.0</td>\n",
       "      <td>28.0</td>\n",
       "    </tr>\n",
       "    <tr>\n",
       "      <th>Larysa Semenivna Latynina (Diriy-)</th>\n",
       "      <td>Gymnastics</td>\n",
       "      <td>9.0</td>\n",
       "      <td>5.0</td>\n",
       "      <td>4.0</td>\n",
       "      <td>18.0</td>\n",
       "    </tr>\n",
       "    <tr>\n",
       "      <th>Nikolay Yefimovich Andrianov</th>\n",
       "      <td>Gymnastics</td>\n",
       "      <td>7.0</td>\n",
       "      <td>5.0</td>\n",
       "      <td>3.0</td>\n",
       "      <td>15.0</td>\n",
       "    </tr>\n",
       "    <tr>\n",
       "      <th>Ole Einar Bjrndalen</th>\n",
       "      <td>Biathlon</td>\n",
       "      <td>8.0</td>\n",
       "      <td>4.0</td>\n",
       "      <td>1.0</td>\n",
       "      <td>13.0</td>\n",
       "    </tr>\n",
       "    <tr>\n",
       "      <th>Edoardo Mangiarotti</th>\n",
       "      <td>Fencing</td>\n",
       "      <td>6.0</td>\n",
       "      <td>5.0</td>\n",
       "      <td>2.0</td>\n",
       "      <td>13.0</td>\n",
       "    </tr>\n",
       "    <tr>\n",
       "      <th>Borys Anfiyanovych Shakhlin</th>\n",
       "      <td>Gymnastics</td>\n",
       "      <td>7.0</td>\n",
       "      <td>4.0</td>\n",
       "      <td>2.0</td>\n",
       "      <td>13.0</td>\n",
       "    </tr>\n",
       "    <tr>\n",
       "      <th>Takashi Ono</th>\n",
       "      <td>Gymnastics</td>\n",
       "      <td>5.0</td>\n",
       "      <td>4.0</td>\n",
       "      <td>4.0</td>\n",
       "      <td>13.0</td>\n",
       "    </tr>\n",
       "    <tr>\n",
       "      <th>Sawao Kato</th>\n",
       "      <td>Gymnastics</td>\n",
       "      <td>8.0</td>\n",
       "      <td>3.0</td>\n",
       "      <td>1.0</td>\n",
       "      <td>12.0</td>\n",
       "    </tr>\n",
       "    <tr>\n",
       "      <th>Dara Grace Torres (-Hoffman, -Minas)</th>\n",
       "      <td>Swimming</td>\n",
       "      <td>4.0</td>\n",
       "      <td>4.0</td>\n",
       "      <td>4.0</td>\n",
       "      <td>12.0</td>\n",
       "    </tr>\n",
       "    <tr>\n",
       "      <th>Birgit Fischer-Schmidt</th>\n",
       "      <td>Canoeing</td>\n",
       "      <td>8.0</td>\n",
       "      <td>4.0</td>\n",
       "      <td>NaN</td>\n",
       "      <td>12.0</td>\n",
       "    </tr>\n",
       "    <tr>\n",
       "      <th>Paavo Johannes Nurmi</th>\n",
       "      <td>Athletics</td>\n",
       "      <td>9.0</td>\n",
       "      <td>3.0</td>\n",
       "      <td>NaN</td>\n",
       "      <td>12.0</td>\n",
       "    </tr>\n",
       "    <tr>\n",
       "      <th>Natalie Anne Coughlin (-Hall)</th>\n",
       "      <td>Swimming</td>\n",
       "      <td>3.0</td>\n",
       "      <td>4.0</td>\n",
       "      <td>5.0</td>\n",
       "      <td>12.0</td>\n",
       "    </tr>\n",
       "    <tr>\n",
       "      <th>Aleksey Yuryevich Nemov</th>\n",
       "      <td>Gymnastics</td>\n",
       "      <td>4.0</td>\n",
       "      <td>2.0</td>\n",
       "      <td>6.0</td>\n",
       "      <td>12.0</td>\n",
       "    </tr>\n",
       "    <tr>\n",
       "      <th>Ryan Steven Lochte</th>\n",
       "      <td>Swimming</td>\n",
       "      <td>6.0</td>\n",
       "      <td>3.0</td>\n",
       "      <td>3.0</td>\n",
       "      <td>12.0</td>\n",
       "    </tr>\n",
       "    <tr>\n",
       "      <th>Jennifer Elisabeth \"Jenny\" Thompson (-Cumpelik)</th>\n",
       "      <td>Swimming</td>\n",
       "      <td>8.0</td>\n",
       "      <td>3.0</td>\n",
       "      <td>1.0</td>\n",
       "      <td>12.0</td>\n",
       "    </tr>\n",
       "  </tbody>\n",
       "</table>\n",
       "</div>"
      ],
      "text/plain": [
       "                                                      Sport  Gold  Silver  \\\n",
       "Name                                                                        \n",
       "Michael Fred Phelps, II                            Swimming  23.0     3.0   \n",
       "Larysa Semenivna Latynina (Diriy-)               Gymnastics   9.0     5.0   \n",
       "Nikolay Yefimovich Andrianov                     Gymnastics   7.0     5.0   \n",
       "Ole Einar Bjrndalen                                Biathlon   8.0     4.0   \n",
       "Edoardo Mangiarotti                                 Fencing   6.0     5.0   \n",
       "Borys Anfiyanovych Shakhlin                      Gymnastics   7.0     4.0   \n",
       "Takashi Ono                                      Gymnastics   5.0     4.0   \n",
       "Sawao Kato                                       Gymnastics   8.0     3.0   \n",
       "Dara Grace Torres (-Hoffman, -Minas)               Swimming   4.0     4.0   \n",
       "Birgit Fischer-Schmidt                             Canoeing   8.0     4.0   \n",
       "Paavo Johannes Nurmi                              Athletics   9.0     3.0   \n",
       "Natalie Anne Coughlin (-Hall)                      Swimming   3.0     4.0   \n",
       "Aleksey Yuryevich Nemov                          Gymnastics   4.0     2.0   \n",
       "Ryan Steven Lochte                                 Swimming   6.0     3.0   \n",
       "Jennifer Elisabeth \"Jenny\" Thompson (-Cumpelik)    Swimming   8.0     3.0   \n",
       "\n",
       "                                                 Bronze  Total  \n",
       "Name                                                            \n",
       "Michael Fred Phelps, II                             2.0   28.0  \n",
       "Larysa Semenivna Latynina (Diriy-)                  4.0   18.0  \n",
       "Nikolay Yefimovich Andrianov                        3.0   15.0  \n",
       "Ole Einar Bjrndalen                                 1.0   13.0  \n",
       "Edoardo Mangiarotti                                 2.0   13.0  \n",
       "Borys Anfiyanovych Shakhlin                         2.0   13.0  \n",
       "Takashi Ono                                         4.0   13.0  \n",
       "Sawao Kato                                          1.0   12.0  \n",
       "Dara Grace Torres (-Hoffman, -Minas)                4.0   12.0  \n",
       "Birgit Fischer-Schmidt                              NaN   12.0  \n",
       "Paavo Johannes Nurmi                                NaN   12.0  \n",
       "Natalie Anne Coughlin (-Hall)                       5.0   12.0  \n",
       "Aleksey Yuryevich Nemov                             6.0   12.0  \n",
       "Ryan Steven Lochte                                  3.0   12.0  \n",
       "Jennifer Elisabeth \"Jenny\" Thompson (-Cumpelik)     1.0   12.0  "
      ]
     },
     "execution_count": 40,
     "metadata": {},
     "output_type": "execute_result"
    }
   ],
   "source": [
    "top15_medalist"
   ]
  },
  {
   "cell_type": "markdown",
   "metadata": {},
   "source": [
    "Ok, Michael Fred Phelps II won 28 medals in swimming (include 23 gold medals!). Let's see on this man a little bit closer."
   ]
  },
  {
   "cell_type": "code",
   "execution_count": 41,
   "metadata": {},
   "outputs": [],
   "source": [
    "best_sportsman = df[df['Name'] == 'Michael Fred Phelps, II']"
   ]
  },
  {
   "cell_type": "code",
   "execution_count": 42,
   "metadata": {},
   "outputs": [
    {
     "data": {
      "text/html": [
       "<div>\n",
       "<style scoped>\n",
       "    .dataframe tbody tr th:only-of-type {\n",
       "        vertical-align: middle;\n",
       "    }\n",
       "\n",
       "    .dataframe tbody tr th {\n",
       "        vertical-align: top;\n",
       "    }\n",
       "\n",
       "    .dataframe thead th {\n",
       "        text-align: right;\n",
       "    }\n",
       "</style>\n",
       "<table border=\"1\" class=\"dataframe\">\n",
       "  <thead>\n",
       "    <tr style=\"text-align: right;\">\n",
       "      <th></th>\n",
       "      <th>ID</th>\n",
       "      <th>Name</th>\n",
       "      <th>Sex</th>\n",
       "      <th>Age</th>\n",
       "      <th>Height</th>\n",
       "      <th>Weight</th>\n",
       "      <th>Team</th>\n",
       "      <th>NOC</th>\n",
       "      <th>Games</th>\n",
       "      <th>Year</th>\n",
       "      <th>Season</th>\n",
       "      <th>City</th>\n",
       "      <th>Sport</th>\n",
       "      <th>Event</th>\n",
       "      <th>Medal</th>\n",
       "      <th>region</th>\n",
       "      <th>notes</th>\n",
       "    </tr>\n",
       "  </thead>\n",
       "  <tbody>\n",
       "    <tr>\n",
       "      <th>27748</th>\n",
       "      <td>94406</td>\n",
       "      <td>Michael Fred Phelps, II</td>\n",
       "      <td>M</td>\n",
       "      <td>15.0</td>\n",
       "      <td>193.0</td>\n",
       "      <td>91.0</td>\n",
       "      <td>United States</td>\n",
       "      <td>USA</td>\n",
       "      <td>2000 Summer</td>\n",
       "      <td>2000</td>\n",
       "      <td>Summer</td>\n",
       "      <td>Sydney</td>\n",
       "      <td>Swimming</td>\n",
       "      <td>Swimming Men's 200 metres Butterfly</td>\n",
       "      <td>NaN</td>\n",
       "      <td>USA</td>\n",
       "      <td>NaN</td>\n",
       "    </tr>\n",
       "    <tr>\n",
       "      <th>27749</th>\n",
       "      <td>94406</td>\n",
       "      <td>Michael Fred Phelps, II</td>\n",
       "      <td>M</td>\n",
       "      <td>19.0</td>\n",
       "      <td>193.0</td>\n",
       "      <td>91.0</td>\n",
       "      <td>United States</td>\n",
       "      <td>USA</td>\n",
       "      <td>2004 Summer</td>\n",
       "      <td>2004</td>\n",
       "      <td>Summer</td>\n",
       "      <td>Athina</td>\n",
       "      <td>Swimming</td>\n",
       "      <td>Swimming Men's 200 metres Freestyle</td>\n",
       "      <td>Bronze</td>\n",
       "      <td>USA</td>\n",
       "      <td>NaN</td>\n",
       "    </tr>\n",
       "    <tr>\n",
       "      <th>27750</th>\n",
       "      <td>94406</td>\n",
       "      <td>Michael Fred Phelps, II</td>\n",
       "      <td>M</td>\n",
       "      <td>19.0</td>\n",
       "      <td>193.0</td>\n",
       "      <td>91.0</td>\n",
       "      <td>United States</td>\n",
       "      <td>USA</td>\n",
       "      <td>2004 Summer</td>\n",
       "      <td>2004</td>\n",
       "      <td>Summer</td>\n",
       "      <td>Athina</td>\n",
       "      <td>Swimming</td>\n",
       "      <td>Swimming Men's 4 x 100 metres Freestyle Relay</td>\n",
       "      <td>Bronze</td>\n",
       "      <td>USA</td>\n",
       "      <td>NaN</td>\n",
       "    </tr>\n",
       "    <tr>\n",
       "      <th>27751</th>\n",
       "      <td>94406</td>\n",
       "      <td>Michael Fred Phelps, II</td>\n",
       "      <td>M</td>\n",
       "      <td>19.0</td>\n",
       "      <td>193.0</td>\n",
       "      <td>91.0</td>\n",
       "      <td>United States</td>\n",
       "      <td>USA</td>\n",
       "      <td>2004 Summer</td>\n",
       "      <td>2004</td>\n",
       "      <td>Summer</td>\n",
       "      <td>Athina</td>\n",
       "      <td>Swimming</td>\n",
       "      <td>Swimming Men's 4 x 200 metres Freestyle Relay</td>\n",
       "      <td>Gold</td>\n",
       "      <td>USA</td>\n",
       "      <td>NaN</td>\n",
       "    </tr>\n",
       "    <tr>\n",
       "      <th>27752</th>\n",
       "      <td>94406</td>\n",
       "      <td>Michael Fred Phelps, II</td>\n",
       "      <td>M</td>\n",
       "      <td>19.0</td>\n",
       "      <td>193.0</td>\n",
       "      <td>91.0</td>\n",
       "      <td>United States</td>\n",
       "      <td>USA</td>\n",
       "      <td>2004 Summer</td>\n",
       "      <td>2004</td>\n",
       "      <td>Summer</td>\n",
       "      <td>Athina</td>\n",
       "      <td>Swimming</td>\n",
       "      <td>Swimming Men's 100 metres Butterfly</td>\n",
       "      <td>Gold</td>\n",
       "      <td>USA</td>\n",
       "      <td>NaN</td>\n",
       "    </tr>\n",
       "  </tbody>\n",
       "</table>\n",
       "</div>"
      ],
      "text/plain": [
       "          ID                     Name Sex   Age  Height  Weight  \\\n",
       "27748  94406  Michael Fred Phelps, II   M  15.0   193.0    91.0   \n",
       "27749  94406  Michael Fred Phelps, II   M  19.0   193.0    91.0   \n",
       "27750  94406  Michael Fred Phelps, II   M  19.0   193.0    91.0   \n",
       "27751  94406  Michael Fred Phelps, II   M  19.0   193.0    91.0   \n",
       "27752  94406  Michael Fred Phelps, II   M  19.0   193.0    91.0   \n",
       "\n",
       "                Team  NOC        Games  Year  Season    City     Sport  \\\n",
       "27748  United States  USA  2000 Summer  2000  Summer  Sydney  Swimming   \n",
       "27749  United States  USA  2004 Summer  2004  Summer  Athina  Swimming   \n",
       "27750  United States  USA  2004 Summer  2004  Summer  Athina  Swimming   \n",
       "27751  United States  USA  2004 Summer  2004  Summer  Athina  Swimming   \n",
       "27752  United States  USA  2004 Summer  2004  Summer  Athina  Swimming   \n",
       "\n",
       "                                               Event   Medal region notes  \n",
       "27748            Swimming Men's 200 metres Butterfly     NaN    USA   NaN  \n",
       "27749            Swimming Men's 200 metres Freestyle  Bronze    USA   NaN  \n",
       "27750  Swimming Men's 4 x 100 metres Freestyle Relay  Bronze    USA   NaN  \n",
       "27751  Swimming Men's 4 x 200 metres Freestyle Relay    Gold    USA   NaN  \n",
       "27752            Swimming Men's 100 metres Butterfly    Gold    USA   NaN  "
      ]
     },
     "execution_count": 42,
     "metadata": {},
     "output_type": "execute_result"
    }
   ],
   "source": [
    "best_sportsman.head()"
   ]
  },
  {
   "cell_type": "code",
   "execution_count": 43,
   "metadata": {},
   "outputs": [
    {
     "data": {
      "text/plain": [
       "Age   Year\n",
       "15.0  2000    0\n",
       "19.0  2004    8\n",
       "23.0  2008    8\n",
       "27.0  2012    6\n",
       "31.0  2016    6\n",
       "Name: Medal, dtype: int64"
      ]
     },
     "execution_count": 43,
     "metadata": {},
     "output_type": "execute_result"
    }
   ],
   "source": [
    "best_sportsman.groupby(['Age', 'Year'])['Medal'].count()"
   ]
  },
  {
   "cell_type": "code",
   "execution_count": 44,
   "metadata": {},
   "outputs": [],
   "source": [
    "event_year_table = best_sportsman.pivot_table('Medal', index=['Year'], columns='Event', aggfunc='sum')"
   ]
  },
  {
   "cell_type": "code",
   "execution_count": 45,
   "metadata": {},
   "outputs": [],
   "source": [
    "event_year_table.replace({0: None}, inplace=True)"
   ]
  },
  {
   "cell_type": "code",
   "execution_count": 46,
   "metadata": {},
   "outputs": [],
   "source": [
    "event_year_table['Total'] = event_year_table.count(1)\n",
    "event_year_table.loc['Total'] = event_year_table.count()\n",
    "event_year_table.loc['Total', 'Total'] = event_year_table['Total'][:-1].sum()"
   ]
  },
  {
   "cell_type": "code",
   "execution_count": 47,
   "metadata": {},
   "outputs": [
    {
     "data": {
      "text/html": [
       "<div>\n",
       "<style scoped>\n",
       "    .dataframe tbody tr th:only-of-type {\n",
       "        vertical-align: middle;\n",
       "    }\n",
       "\n",
       "    .dataframe tbody tr th {\n",
       "        vertical-align: top;\n",
       "    }\n",
       "\n",
       "    .dataframe thead th {\n",
       "        text-align: right;\n",
       "    }\n",
       "</style>\n",
       "<table border=\"1\" class=\"dataframe\">\n",
       "  <thead>\n",
       "    <tr style=\"text-align: right;\">\n",
       "      <th>Event</th>\n",
       "      <th>Swimming Men's 100 metres Butterfly</th>\n",
       "      <th>Swimming Men's 200 metres Butterfly</th>\n",
       "      <th>Swimming Men's 200 metres Freestyle</th>\n",
       "      <th>Swimming Men's 200 metres Individual Medley</th>\n",
       "      <th>Swimming Men's 4 x 100 metres Freestyle Relay</th>\n",
       "      <th>Swimming Men's 4 x 100 metres Medley Relay</th>\n",
       "      <th>Swimming Men's 4 x 200 metres Freestyle Relay</th>\n",
       "      <th>Swimming Men's 400 metres Individual Medley</th>\n",
       "      <th>Total</th>\n",
       "    </tr>\n",
       "    <tr>\n",
       "      <th>Year</th>\n",
       "      <th></th>\n",
       "      <th></th>\n",
       "      <th></th>\n",
       "      <th></th>\n",
       "      <th></th>\n",
       "      <th></th>\n",
       "      <th></th>\n",
       "      <th></th>\n",
       "      <th></th>\n",
       "    </tr>\n",
       "  </thead>\n",
       "  <tbody>\n",
       "    <tr>\n",
       "      <th>2000</th>\n",
       "      <td>None</td>\n",
       "      <td>None</td>\n",
       "      <td>None</td>\n",
       "      <td>None</td>\n",
       "      <td>None</td>\n",
       "      <td>None</td>\n",
       "      <td>None</td>\n",
       "      <td>None</td>\n",
       "      <td>0</td>\n",
       "    </tr>\n",
       "    <tr>\n",
       "      <th>2004</th>\n",
       "      <td>Gold</td>\n",
       "      <td>Gold</td>\n",
       "      <td>Bronze</td>\n",
       "      <td>Gold</td>\n",
       "      <td>Bronze</td>\n",
       "      <td>Gold</td>\n",
       "      <td>Gold</td>\n",
       "      <td>Gold</td>\n",
       "      <td>8</td>\n",
       "    </tr>\n",
       "    <tr>\n",
       "      <th>2008</th>\n",
       "      <td>Gold</td>\n",
       "      <td>Gold</td>\n",
       "      <td>Gold</td>\n",
       "      <td>Gold</td>\n",
       "      <td>Gold</td>\n",
       "      <td>Gold</td>\n",
       "      <td>Gold</td>\n",
       "      <td>Gold</td>\n",
       "      <td>8</td>\n",
       "    </tr>\n",
       "    <tr>\n",
       "      <th>2012</th>\n",
       "      <td>Gold</td>\n",
       "      <td>Silver</td>\n",
       "      <td>None</td>\n",
       "      <td>Gold</td>\n",
       "      <td>Silver</td>\n",
       "      <td>Gold</td>\n",
       "      <td>Gold</td>\n",
       "      <td>None</td>\n",
       "      <td>6</td>\n",
       "    </tr>\n",
       "    <tr>\n",
       "      <th>2016</th>\n",
       "      <td>Silver</td>\n",
       "      <td>Gold</td>\n",
       "      <td>None</td>\n",
       "      <td>Gold</td>\n",
       "      <td>Gold</td>\n",
       "      <td>Gold</td>\n",
       "      <td>Gold</td>\n",
       "      <td>None</td>\n",
       "      <td>6</td>\n",
       "    </tr>\n",
       "    <tr>\n",
       "      <th>Total</th>\n",
       "      <td>4</td>\n",
       "      <td>4</td>\n",
       "      <td>2</td>\n",
       "      <td>4</td>\n",
       "      <td>4</td>\n",
       "      <td>4</td>\n",
       "      <td>4</td>\n",
       "      <td>2</td>\n",
       "      <td>28</td>\n",
       "    </tr>\n",
       "  </tbody>\n",
       "</table>\n",
       "</div>"
      ],
      "text/plain": [
       "Event Swimming Men's 100 metres Butterfly Swimming Men's 200 metres Butterfly  \\\n",
       "Year                                                                            \n",
       "2000                                 None                                None   \n",
       "2004                                 Gold                                Gold   \n",
       "2008                                 Gold                                Gold   \n",
       "2012                                 Gold                              Silver   \n",
       "2016                               Silver                                Gold   \n",
       "Total                                   4                                   4   \n",
       "\n",
       "Event Swimming Men's 200 metres Freestyle  \\\n",
       "Year                                        \n",
       "2000                                 None   \n",
       "2004                               Bronze   \n",
       "2008                                 Gold   \n",
       "2012                                 None   \n",
       "2016                                 None   \n",
       "Total                                   2   \n",
       "\n",
       "Event Swimming Men's 200 metres Individual Medley  \\\n",
       "Year                                                \n",
       "2000                                         None   \n",
       "2004                                         Gold   \n",
       "2008                                         Gold   \n",
       "2012                                         Gold   \n",
       "2016                                         Gold   \n",
       "Total                                           4   \n",
       "\n",
       "Event Swimming Men's 4 x 100 metres Freestyle Relay  \\\n",
       "Year                                                  \n",
       "2000                                           None   \n",
       "2004                                         Bronze   \n",
       "2008                                           Gold   \n",
       "2012                                         Silver   \n",
       "2016                                           Gold   \n",
       "Total                                             4   \n",
       "\n",
       "Event Swimming Men's 4 x 100 metres Medley Relay  \\\n",
       "Year                                               \n",
       "2000                                        None   \n",
       "2004                                        Gold   \n",
       "2008                                        Gold   \n",
       "2012                                        Gold   \n",
       "2016                                        Gold   \n",
       "Total                                          4   \n",
       "\n",
       "Event Swimming Men's 4 x 200 metres Freestyle Relay  \\\n",
       "Year                                                  \n",
       "2000                                           None   \n",
       "2004                                           Gold   \n",
       "2008                                           Gold   \n",
       "2012                                           Gold   \n",
       "2016                                           Gold   \n",
       "Total                                             4   \n",
       "\n",
       "Event Swimming Men's 400 metres Individual Medley  Total  \n",
       "Year                                                      \n",
       "2000                                         None      0  \n",
       "2004                                         Gold      8  \n",
       "2008                                         Gold      8  \n",
       "2012                                         None      6  \n",
       "2016                                         None      6  \n",
       "Total                                           2     28  "
      ]
     },
     "execution_count": 47,
     "metadata": {},
     "output_type": "execute_result"
    }
   ],
   "source": [
    "event_year_table"
   ]
  },
  {
   "cell_type": "code",
   "execution_count": 48,
   "metadata": {},
   "outputs": [
    {
     "data": {
      "image/png": "[encoded data removed]",
      "text/plain": [
       "<Figure size 432x288 with 1 Axes>"
      ]
     },
     "metadata": {
      "needs_background": "light"
     },
     "output_type": "display_data"
    }
   ],
   "source": [
    "sns.countplot('Year', data=best_sportsman[['Medal', 'Year']].dropna());"
   ]
  },
  {
   "cell_type": "markdown",
   "metadata": {},
   "source": [
    "Michael Fred Phelps II is swimmer from USA, his first start was in 2000, he was 15 years old and unfortunately in this year he didn't win any medals. But from 2004 to 2016 he has been winning 6-8 medals in each Olympiads in different swimming styles. "
   ]
  },
  {
   "cell_type": "markdown",
   "metadata": {},
   "source": [
    "## Sports"
   ]
  },
  {
   "cell_type": "markdown",
   "metadata": {},
   "source": [
    "Now let's get some information about some kinds of sports."
   ]
  },
  {
   "cell_type": "code",
   "execution_count": 49,
   "metadata": {},
   "outputs": [
    {
     "data": {
      "text/plain": [
       "66"
      ]
     },
     "execution_count": 49,
     "metadata": {},
     "output_type": "execute_result"
    }
   ],
   "source": [
    "df['Sport'].nunique()"
   ]
  },
  {
   "cell_type": "code",
   "execution_count": 50,
   "metadata": {},
   "outputs": [
    {
     "data": {
      "text/plain": [
       "array(['Basketball', 'Judo', 'Boxing', 'Wrestling', 'Swimming',\n",
       "       'Speed Skating', 'Short Track Speed Skating', 'Softball', 'Hockey',\n",
       "       'Curling', 'Archery', 'Triathlon', 'Football',\n",
       "       'Rhythmic Gymnastics', 'Athletics', 'Badminton', 'Fencing',\n",
       "       'Figure Skating', 'Gymnastics', 'Volleyball', 'Baseball',\n",
       "       'Water Polo', 'Snowboarding', 'Shooting', 'Weightlifting',\n",
       "       'Cycling', 'Rowing', 'Sailing', 'Diving', 'Modern Pentathlon',\n",
       "       'Art Competitions', 'Synchronized Swimming', 'Handball',\n",
       "       'Canoeing', 'Cross Country Skiing', 'Table Tennis', 'Ice Hockey',\n",
       "       'Tennis', 'Taekwondo', 'Freestyle Skiing', 'Beach Volleyball',\n",
       "       'Trampolining', 'Alpine Skiing', 'Golf', 'Biathlon',\n",
       "       'Equestrianism', 'Ski Jumping', 'Tug-Of-War', 'Bobsleigh',\n",
       "       'Nordic Combined', 'Polo', 'Skeleton', 'Rugby Sevens', 'Luge',\n",
       "       'Roque', 'Rugby', 'Lacrosse', 'Jeu De Paume',\n",
       "       'Military Ski Patrol', 'Cricket', 'Croquet', 'Motorboating',\n",
       "       'Basque Pelota', 'Alpinism', 'Aeronautics', 'Racquets'],\n",
       "      dtype=object)"
      ]
     },
     "execution_count": 50,
     "metadata": {},
     "output_type": "execute_result"
    }
   ],
   "source": [
    "df['Sport'].unique()"
   ]
  },
  {
   "cell_type": "code",
   "execution_count": 51,
   "metadata": {},
   "outputs": [
    {
     "data": {
      "text/plain": [
       "765"
      ]
     },
     "execution_count": 51,
     "metadata": {},
     "output_type": "execute_result"
    }
   ],
   "source": [
    "df['Event'].nunique()"
   ]
  },
  {
   "cell_type": "code",
   "execution_count": 52,
   "metadata": {},
   "outputs": [],
   "source": [
    "def number_of_year(group):\n",
    "    \"Add how many times sport included in olympic games\"\n",
    "    group['Times'] = len(group.groupby(['Year']))\n",
    "    return group"
   ]
  },
  {
   "cell_type": "code",
   "execution_count": 53,
   "metadata": {},
   "outputs": [],
   "source": [
    "sports = df.groupby(['Sport']).apply(number_of_year)\n",
    "sports = sports.groupby(['Sport', 'Year'])['Times'].mean()"
   ]
  },
  {
   "cell_type": "code",
   "execution_count": 54,
   "metadata": {},
   "outputs": [],
   "source": [
    "sports.name = 'Times'\n",
    "sports = sports.reset_index()\n",
    "sports.sort_values(by='Times', inplace=True)"
   ]
  },
  {
   "cell_type": "code",
   "execution_count": 55,
   "metadata": {},
   "outputs": [
    {
     "data": {
      "text/plain": [
       "Swimming                     29\n",
       "Cycling                      29\n",
       "Fencing                      29\n",
       "Athletics                    29\n",
       "Gymnastics                   29\n",
       "Rowing                       28\n",
       "Wrestling                    28\n",
       "Diving                       27\n",
       "Water Polo                   27\n",
       "Football                     27\n",
       "Shooting                     27\n",
       "Weightlifting                26\n",
       "Sailing                      26\n",
       "Equestrianism                25\n",
       "Boxing                       25\n",
       "Figure Skating               24\n",
       "Modern Pentathlon            24\n",
       "Ice Hockey                   23\n",
       "Hockey                       23\n",
       "Cross Country Skiing         22\n",
       "Nordic Combined              22\n",
       "Ski Jumping                  22\n",
       "Speed Skating                22\n",
       "Bobsleigh                    21\n",
       "Canoeing                     19\n",
       "Basketball                   19\n",
       "Alpine Skiing                19\n",
       "Tennis                       16\n",
       "Archery                      16\n",
       "Biathlon                     15\n",
       "                             ..\n",
       "Table Tennis                  8\n",
       "Short Track Speed Skating     7\n",
       "Badminton                     7\n",
       "Freestyle Skiing              7\n",
       "Art Competitions              7\n",
       "Curling                       6\n",
       "Beach Volleyball              6\n",
       "Skeleton                      6\n",
       "Tug-Of-War                    6\n",
       "Trampolining                  5\n",
       "Snowboarding                  5\n",
       "Taekwondo                     5\n",
       "Baseball                      5\n",
       "Polo                          5\n",
       "Triathlon                     5\n",
       "Rugby                         4\n",
       "Softball                      4\n",
       "Alpinism                      3\n",
       "Golf                          3\n",
       "Lacrosse                      2\n",
       "Racquets                      1\n",
       "Basque Pelota                 1\n",
       "Roque                         1\n",
       "Motorboating                  1\n",
       "Rugby Sevens                  1\n",
       "Cricket                       1\n",
       "Croquet                       1\n",
       "Jeu De Paume                  1\n",
       "Military Ski Patrol           1\n",
       "Aeronautics                   1\n",
       "Name: Sport, Length: 66, dtype: int64"
      ]
     },
     "execution_count": 55,
     "metadata": {},
     "output_type": "execute_result"
    }
   ],
   "source": [
    "sports['Sport'].value_counts()"
   ]
  },
  {
   "cell_type": "code",
   "execution_count": 56,
   "metadata": {},
   "outputs": [
    {
     "data": {
      "image/png": "[encoded data removed]",
      "text/plain": [
       "<Figure size 1008x1152 with 1 Axes>"
      ]
     },
     "metadata": {
      "needs_background": "light"
     },
     "output_type": "display_data"
    }
   ],
   "source": [
    "plt.figure(figsize=(14, 16))\n",
    "\n",
    "plt.title('How many times sports included in the Olympic Games', size=16)\n",
    "plt.xlabel('Year', size=14)\n",
    "plt.ylabel('Sport', size=14)\n",
    "\n",
    "plt.xticks(range(1896, 2020, 4), rotation=90)\n",
    "\n",
    "sns.scatterplot(x='Year', y='Sport', data=sports);"
   ]
  },
  {
   "cell_type": "markdown",
   "metadata": {},
   "source": [
    "Now we can notice some sports were included in Games only once or twice. Also, we can see that some sports had a \"break\", like Golf, Tennis or Curling. And we can see some new sports, that were added in last time. And, of course we can see \"leaders\" - sports were in all The Olympic Games history."
   ]
  },
  {
   "cell_type": "markdown",
   "metadata": {},
   "source": [
    "Let's see a little bit closer on the oldest member - 'Gymnastics'. "
   ]
  },
  {
   "cell_type": "code",
   "execution_count": 57,
   "metadata": {},
   "outputs": [],
   "source": [
    "golds_in_gymnastics = df[(df['Sport'] == 'Gymnastics') & (df['Medal'] == 'Gold')]"
   ]
  },
  {
   "cell_type": "code",
   "execution_count": 58,
   "metadata": {},
   "outputs": [
    {
     "data": {
      "image/png": "[encoded data removed]",
      "text/plain": [
       "<Figure size 1008x576 with 1 Axes>"
      ]
     },
     "metadata": {
      "needs_background": "light"
     },
     "output_type": "display_data"
    }
   ],
   "source": [
    "plt.figure(figsize=(14, 8))\n",
    "sns.countplot(x = 'Age', data=golds_in_gymnastics)\n",
    "plt.title('Distribution of Gold Medals in Gymnastics', size=14);"
   ]
  },
  {
   "cell_type": "markdown",
   "metadata": {},
   "source": [
    "Most of medals were winning by people in age range from 19 to 29. Let's see who got the most medals in this sport."
   ]
  },
  {
   "cell_type": "code",
   "execution_count": 59,
   "metadata": {},
   "outputs": [],
   "source": [
    "top_gymnastic_athlets = golds_in_gymnastics['Name'].value_counts()"
   ]
  },
  {
   "cell_type": "code",
   "execution_count": 60,
   "metadata": {},
   "outputs": [
    {
     "data": {
      "text/plain": [
       "Larysa Semenivna Latynina (Diriy-)    9\n",
       "Sawao Kato                            8\n",
       "Borys Anfiyanovych Shakhlin           7\n",
       "Nikolay Yefimovich Andrianov          7\n",
       "Viktor Ivanovych Chukarin             7\n",
       "Name: Name, dtype: int64"
      ]
     },
     "execution_count": 60,
     "metadata": {},
     "output_type": "execute_result"
    }
   ],
   "source": [
    "top_gymnastic_athlets.head()"
   ]
  },
  {
   "cell_type": "code",
   "execution_count": 61,
   "metadata": {},
   "outputs": [
    {
     "data": {
      "text/html": [
       "<div>\n",
       "<style scoped>\n",
       "    .dataframe tbody tr th:only-of-type {\n",
       "        vertical-align: middle;\n",
       "    }\n",
       "\n",
       "    .dataframe tbody tr th {\n",
       "        vertical-align: top;\n",
       "    }\n",
       "\n",
       "    .dataframe thead th {\n",
       "        text-align: right;\n",
       "    }\n",
       "</style>\n",
       "<table border=\"1\" class=\"dataframe\">\n",
       "  <thead>\n",
       "    <tr style=\"text-align: right;\">\n",
       "      <th></th>\n",
       "      <th>Sport</th>\n",
       "      <th>Gold</th>\n",
       "      <th>Silver</th>\n",
       "      <th>Bronze</th>\n",
       "      <th>Total</th>\n",
       "    </tr>\n",
       "  </thead>\n",
       "  <tbody>\n",
       "    <tr>\n",
       "      <th>Larysa Semenivna Latynina (Diriy-)</th>\n",
       "      <td>Gymnastics</td>\n",
       "      <td>9.0</td>\n",
       "      <td>5.0</td>\n",
       "      <td>4.0</td>\n",
       "      <td>18.0</td>\n",
       "    </tr>\n",
       "    <tr>\n",
       "      <th>Sawao Kato</th>\n",
       "      <td>Gymnastics</td>\n",
       "      <td>8.0</td>\n",
       "      <td>3.0</td>\n",
       "      <td>1.0</td>\n",
       "      <td>12.0</td>\n",
       "    </tr>\n",
       "    <tr>\n",
       "      <th>Borys Anfiyanovych Shakhlin</th>\n",
       "      <td>Gymnastics</td>\n",
       "      <td>7.0</td>\n",
       "      <td>4.0</td>\n",
       "      <td>2.0</td>\n",
       "      <td>13.0</td>\n",
       "    </tr>\n",
       "  </tbody>\n",
       "</table>\n",
       "</div>"
      ],
      "text/plain": [
       "                                         Sport  Gold  Silver  Bronze  Total\n",
       "Larysa Semenivna Latynina (Diriy-)  Gymnastics   9.0     5.0     4.0   18.0\n",
       "Sawao Kato                          Gymnastics   8.0     3.0     1.0   12.0\n",
       "Borys Anfiyanovych Shakhlin         Gymnastics   7.0     4.0     2.0   13.0"
      ]
     },
     "execution_count": 61,
     "metadata": {},
     "output_type": "execute_result"
    }
   ],
   "source": [
    "top15_medalist.loc[top_gymnastic_athlets.index[:3], :]"
   ]
  },
  {
   "cell_type": "markdown",
   "metadata": {},
   "source": [
    "So, out top 3 athletes in gymnastics are in top 15 the most successful athletes ranking as well. They won not only gold medals, but a few silver and bronze, too. <br>\n",
    "\n",
    "How about opposition? Sport which included only in 2016 - 'Rugby sevens'."
   ]
  },
  {
   "cell_type": "code",
   "execution_count": 62,
   "metadata": {},
   "outputs": [
    {
     "data": {
      "text/html": [
       "<div>\n",
       "<style scoped>\n",
       "    .dataframe tbody tr th:only-of-type {\n",
       "        vertical-align: middle;\n",
       "    }\n",
       "\n",
       "    .dataframe tbody tr th {\n",
       "        vertical-align: top;\n",
       "    }\n",
       "\n",
       "    .dataframe thead th {\n",
       "        text-align: right;\n",
       "    }\n",
       "</style>\n",
       "<table border=\"1\" class=\"dataframe\">\n",
       "  <thead>\n",
       "    <tr style=\"text-align: right;\">\n",
       "      <th></th>\n",
       "      <th>ID</th>\n",
       "      <th>Name</th>\n",
       "      <th>Sex</th>\n",
       "      <th>Age</th>\n",
       "      <th>Height</th>\n",
       "      <th>Weight</th>\n",
       "      <th>Team</th>\n",
       "      <th>NOC</th>\n",
       "      <th>Games</th>\n",
       "      <th>Year</th>\n",
       "      <th>Season</th>\n",
       "      <th>City</th>\n",
       "      <th>Sport</th>\n",
       "      <th>Event</th>\n",
       "      <th>Medal</th>\n",
       "      <th>region</th>\n",
       "      <th>notes</th>\n",
       "    </tr>\n",
       "  </thead>\n",
       "  <tbody>\n",
       "    <tr>\n",
       "      <th>15163</th>\n",
       "      <td>7030</td>\n",
       "      <td>Perry Baker</td>\n",
       "      <td>M</td>\n",
       "      <td>30.0</td>\n",
       "      <td>185.0</td>\n",
       "      <td>82.0</td>\n",
       "      <td>United States</td>\n",
       "      <td>USA</td>\n",
       "      <td>2016 Summer</td>\n",
       "      <td>2016</td>\n",
       "      <td>Summer</td>\n",
       "      <td>Rio de Janeiro</td>\n",
       "      <td>Rugby Sevens</td>\n",
       "      <td>Rugby Sevens Men's Rugby Sevens</td>\n",
       "      <td>NaN</td>\n",
       "      <td>USA</td>\n",
       "      <td>NaN</td>\n",
       "    </tr>\n",
       "    <tr>\n",
       "      <th>15251</th>\n",
       "      <td>7705</td>\n",
       "      <td>Akalaini \"Bui\" Baravilala</td>\n",
       "      <td>F</td>\n",
       "      <td>25.0</td>\n",
       "      <td>168.0</td>\n",
       "      <td>75.0</td>\n",
       "      <td>United States</td>\n",
       "      <td>USA</td>\n",
       "      <td>2016 Summer</td>\n",
       "      <td>2016</td>\n",
       "      <td>Summer</td>\n",
       "      <td>Rio de Janeiro</td>\n",
       "      <td>Rugby Sevens</td>\n",
       "      <td>Rugby Sevens Women's Rugby Sevens</td>\n",
       "      <td>NaN</td>\n",
       "      <td>USA</td>\n",
       "      <td>NaN</td>\n",
       "    </tr>\n",
       "    <tr>\n",
       "      <th>15319</th>\n",
       "      <td>8093</td>\n",
       "      <td>Danny Barrett</td>\n",
       "      <td>M</td>\n",
       "      <td>26.0</td>\n",
       "      <td>188.0</td>\n",
       "      <td>102.0</td>\n",
       "      <td>United States</td>\n",
       "      <td>USA</td>\n",
       "      <td>2016 Summer</td>\n",
       "      <td>2016</td>\n",
       "      <td>Summer</td>\n",
       "      <td>Rio de Janeiro</td>\n",
       "      <td>Rugby Sevens</td>\n",
       "      <td>Rugby Sevens Men's Rugby Sevens</td>\n",
       "      <td>NaN</td>\n",
       "      <td>USA</td>\n",
       "      <td>NaN</td>\n",
       "    </tr>\n",
       "    <tr>\n",
       "      <th>15643</th>\n",
       "      <td>9988</td>\n",
       "      <td>Garrett Bender</td>\n",
       "      <td>M</td>\n",
       "      <td>24.0</td>\n",
       "      <td>193.0</td>\n",
       "      <td>105.0</td>\n",
       "      <td>United States</td>\n",
       "      <td>USA</td>\n",
       "      <td>2016 Summer</td>\n",
       "      <td>2016</td>\n",
       "      <td>Summer</td>\n",
       "      <td>Rio de Janeiro</td>\n",
       "      <td>Rugby Sevens</td>\n",
       "      <td>Rugby Sevens Men's Rugby Sevens</td>\n",
       "      <td>NaN</td>\n",
       "      <td>USA</td>\n",
       "      <td>NaN</td>\n",
       "    </tr>\n",
       "    <tr>\n",
       "      <th>16983</th>\n",
       "      <td>18354</td>\n",
       "      <td>Ryan Carlyle</td>\n",
       "      <td>F</td>\n",
       "      <td>26.0</td>\n",
       "      <td>168.0</td>\n",
       "      <td>66.0</td>\n",
       "      <td>United States</td>\n",
       "      <td>USA</td>\n",
       "      <td>2016 Summer</td>\n",
       "      <td>2016</td>\n",
       "      <td>Summer</td>\n",
       "      <td>Rio de Janeiro</td>\n",
       "      <td>Rugby Sevens</td>\n",
       "      <td>Rugby Sevens Women's Rugby Sevens</td>\n",
       "      <td>NaN</td>\n",
       "      <td>USA</td>\n",
       "      <td>NaN</td>\n",
       "    </tr>\n",
       "  </tbody>\n",
       "</table>\n",
       "</div>"
      ],
      "text/plain": [
       "          ID                       Name Sex   Age  Height  Weight  \\\n",
       "15163   7030                Perry Baker   M  30.0   185.0    82.0   \n",
       "15251   7705  Akalaini \"Bui\" Baravilala   F  25.0   168.0    75.0   \n",
       "15319   8093              Danny Barrett   M  26.0   188.0   102.0   \n",
       "15643   9988             Garrett Bender   M  24.0   193.0   105.0   \n",
       "16983  18354               Ryan Carlyle   F  26.0   168.0    66.0   \n",
       "\n",
       "                Team  NOC        Games  Year  Season            City  \\\n",
       "15163  United States  USA  2016 Summer  2016  Summer  Rio de Janeiro   \n",
       "15251  United States  USA  2016 Summer  2016  Summer  Rio de Janeiro   \n",
       "15319  United States  USA  2016 Summer  2016  Summer  Rio de Janeiro   \n",
       "15643  United States  USA  2016 Summer  2016  Summer  Rio de Janeiro   \n",
       "16983  United States  USA  2016 Summer  2016  Summer  Rio de Janeiro   \n",
       "\n",
       "              Sport                              Event Medal region notes  \n",
       "15163  Rugby Sevens    Rugby Sevens Men's Rugby Sevens   NaN    USA   NaN  \n",
       "15251  Rugby Sevens  Rugby Sevens Women's Rugby Sevens   NaN    USA   NaN  \n",
       "15319  Rugby Sevens    Rugby Sevens Men's Rugby Sevens   NaN    USA   NaN  \n",
       "15643  Rugby Sevens    Rugby Sevens Men's Rugby Sevens   NaN    USA   NaN  \n",
       "16983  Rugby Sevens  Rugby Sevens Women's Rugby Sevens   NaN    USA   NaN  "
      ]
     },
     "execution_count": 62,
     "metadata": {},
     "output_type": "execute_result"
    }
   ],
   "source": [
    "rugby_sevens = df[df['Sport'] == 'Rugby Sevens']\n",
    "rugby_sevens.head()"
   ]
  },
  {
   "cell_type": "code",
   "execution_count": 63,
   "metadata": {},
   "outputs": [
    {
     "data": {
      "text/plain": [
       "Event                              region      \n",
       "Rugby Sevens Men's Rugby Sevens    Argentina       13\n",
       "                                   Australia       13\n",
       "                                   Brazil          12\n",
       "                                   Fiji            13\n",
       "                                   France          12\n",
       "                                   Japan           12\n",
       "                                   Kenya           12\n",
       "                                   New Zealand     13\n",
       "                                   South Africa    13\n",
       "                                   Spain           13\n",
       "                                   UK              12\n",
       "                                   USA             13\n",
       "Rugby Sevens Women's Rugby Sevens  Australia       12\n",
       "                                   Brazil          13\n",
       "                                   Canada          12\n",
       "                                   Colombia        12\n",
       "                                   Fiji            13\n",
       "                                   France          13\n",
       "                                   Japan           13\n",
       "                                   Kenya           12\n",
       "                                   New Zealand     12\n",
       "                                   Spain           12\n",
       "                                   UK              12\n",
       "                                   USA             12\n",
       "dtype: int64"
      ]
     },
     "execution_count": 63,
     "metadata": {},
     "output_type": "execute_result"
    }
   ],
   "source": [
    "rugby_sevens.groupby(['Event', 'region']).size()"
   ]
  },
  {
   "cell_type": "code",
   "execution_count": 64,
   "metadata": {},
   "outputs": [
    {
     "data": {
      "text/plain": [
       "24"
      ]
     },
     "execution_count": 64,
     "metadata": {},
     "output_type": "execute_result"
    }
   ],
   "source": [
    "len(rugby_sevens.groupby(['Event', 'region'])) "
   ]
  },
  {
   "cell_type": "code",
   "execution_count": 65,
   "metadata": {},
   "outputs": [
    {
     "data": {
      "text/plain": [
       "Event                              Medal   region      \n",
       "Rugby Sevens Men's Rugby Sevens    Bronze  South Africa    13\n",
       "                                   Gold    Fiji            13\n",
       "                                   Silver  UK              12\n",
       "Rugby Sevens Women's Rugby Sevens  Bronze  Canada          12\n",
       "                                   Gold    Australia       12\n",
       "                                   Silver  New Zealand     12\n",
       "dtype: int64"
      ]
     },
     "execution_count": 65,
     "metadata": {},
     "output_type": "execute_result"
    }
   ],
   "source": [
    "rugby_sevens.groupby(['Event', 'Medal', 'region']).size()"
   ]
  },
  {
   "cell_type": "markdown",
   "metadata": {},
   "source": [
    "So, rugby sevens it's a team sport, 12 teams for men's and women's event. The men's gold won team from Fiji, let's see on physique of this guys."
   ]
  },
  {
   "cell_type": "code",
   "execution_count": 66,
   "metadata": {},
   "outputs": [],
   "source": [
    "rugby_men_gold = rugby_sevens[(rugby_sevens['Sex'] == 'M') & (rugby_sevens['Medal'] == 'Gold')]"
   ]
  },
  {
   "cell_type": "code",
   "execution_count": 67,
   "metadata": {},
   "outputs": [
    {
     "data": {
      "text/html": [
       "<div>\n",
       "<style scoped>\n",
       "    .dataframe tbody tr th:only-of-type {\n",
       "        vertical-align: middle;\n",
       "    }\n",
       "\n",
       "    .dataframe tbody tr th {\n",
       "        vertical-align: top;\n",
       "    }\n",
       "\n",
       "    .dataframe thead th {\n",
       "        text-align: right;\n",
       "    }\n",
       "</style>\n",
       "<table border=\"1\" class=\"dataframe\">\n",
       "  <thead>\n",
       "    <tr style=\"text-align: right;\">\n",
       "      <th></th>\n",
       "      <th>Weight</th>\n",
       "    </tr>\n",
       "  </thead>\n",
       "  <tbody>\n",
       "    <tr>\n",
       "      <th>count</th>\n",
       "      <td>13.000000</td>\n",
       "    </tr>\n",
       "    <tr>\n",
       "      <th>mean</th>\n",
       "      <td>96.461538</td>\n",
       "    </tr>\n",
       "    <tr>\n",
       "      <th>std</th>\n",
       "      <td>10.063261</td>\n",
       "    </tr>\n",
       "    <tr>\n",
       "      <th>min</th>\n",
       "      <td>81.000000</td>\n",
       "    </tr>\n",
       "    <tr>\n",
       "      <th>25%</th>\n",
       "      <td>88.000000</td>\n",
       "    </tr>\n",
       "    <tr>\n",
       "      <th>50%</th>\n",
       "      <td>98.000000</td>\n",
       "    </tr>\n",
       "    <tr>\n",
       "      <th>75%</th>\n",
       "      <td>105.000000</td>\n",
       "    </tr>\n",
       "    <tr>\n",
       "      <th>max</th>\n",
       "      <td>109.000000</td>\n",
       "    </tr>\n",
       "  </tbody>\n",
       "</table>\n",
       "</div>"
      ],
      "text/plain": [
       "           Weight\n",
       "count   13.000000\n",
       "mean    96.461538\n",
       "std     10.063261\n",
       "min     81.000000\n",
       "25%     88.000000\n",
       "50%     98.000000\n",
       "75%    105.000000\n",
       "max    109.000000"
      ]
     },
     "execution_count": 67,
     "metadata": {},
     "output_type": "execute_result"
    }
   ],
   "source": [
    "rugby_men_gold[['Weight']].describe()"
   ]
  },
  {
   "cell_type": "code",
   "execution_count": 68,
   "metadata": {},
   "outputs": [
    {
     "data": {
      "image/png": "[encoded data removed]",
      "text/plain": [
       "<Figure size 216x360 with 1 Axes>"
      ]
     },
     "metadata": {
      "needs_background": "light"
     },
     "output_type": "display_data"
    }
   ],
   "source": [
    "plt.figure(figsize=(3, 5))\n",
    "sns.boxplot(rugby_men_gold['Weight'], orient='v', width=0.4);"
   ]
  },
  {
   "cell_type": "code",
   "execution_count": 69,
   "metadata": {},
   "outputs": [
    {
     "data": {
      "text/html": [
       "<div>\n",
       "<style scoped>\n",
       "    .dataframe tbody tr th:only-of-type {\n",
       "        vertical-align: middle;\n",
       "    }\n",
       "\n",
       "    .dataframe tbody tr th {\n",
       "        vertical-align: top;\n",
       "    }\n",
       "\n",
       "    .dataframe thead th {\n",
       "        text-align: right;\n",
       "    }\n",
       "</style>\n",
       "<table border=\"1\" class=\"dataframe\">\n",
       "  <thead>\n",
       "    <tr style=\"text-align: right;\">\n",
       "      <th></th>\n",
       "      <th>Height</th>\n",
       "    </tr>\n",
       "  </thead>\n",
       "  <tbody>\n",
       "    <tr>\n",
       "      <th>count</th>\n",
       "      <td>13.000000</td>\n",
       "    </tr>\n",
       "    <tr>\n",
       "      <th>mean</th>\n",
       "      <td>186.384615</td>\n",
       "    </tr>\n",
       "    <tr>\n",
       "      <th>std</th>\n",
       "      <td>8.986457</td>\n",
       "    </tr>\n",
       "    <tr>\n",
       "      <th>min</th>\n",
       "      <td>171.000000</td>\n",
       "    </tr>\n",
       "    <tr>\n",
       "      <th>25%</th>\n",
       "      <td>180.000000</td>\n",
       "    </tr>\n",
       "    <tr>\n",
       "      <th>50%</th>\n",
       "      <td>189.000000</td>\n",
       "    </tr>\n",
       "    <tr>\n",
       "      <th>75%</th>\n",
       "      <td>192.000000</td>\n",
       "    </tr>\n",
       "    <tr>\n",
       "      <th>max</th>\n",
       "      <td>198.000000</td>\n",
       "    </tr>\n",
       "  </tbody>\n",
       "</table>\n",
       "</div>"
      ],
      "text/plain": [
       "           Height\n",
       "count   13.000000\n",
       "mean   186.384615\n",
       "std      8.986457\n",
       "min    171.000000\n",
       "25%    180.000000\n",
       "50%    189.000000\n",
       "75%    192.000000\n",
       "max    198.000000"
      ]
     },
     "execution_count": 69,
     "metadata": {},
     "output_type": "execute_result"
    }
   ],
   "source": [
    "rugby_men_gold[['Height']].describe()"
   ]
  },
  {
   "cell_type": "code",
   "execution_count": 70,
   "metadata": {},
   "outputs": [
    {
     "data": {
      "image/png": "[encoded data removed]",
      "text/plain": [
       "<Figure size 216x360 with 1 Axes>"
      ]
     },
     "metadata": {
      "needs_background": "light"
     },
     "output_type": "display_data"
    }
   ],
   "source": [
    "plt.figure(figsize=(3, 5))\n",
    "sns.boxplot(rugby_men_gold['Height'], orient='v', width=0.4);"
   ]
  },
  {
   "cell_type": "markdown",
   "metadata": {},
   "source": [
    "It's seems like these guys are really big. Median of their height is 189 cm and median of their weight is 98 kg.  "
   ]
  }
 ],
 "metadata": {
  "kernelspec": {
   "display_name": "Python 3",
   "language": "python",
   "name": "python3"
  },
  "language_info": {
   "codemirror_mode": {
    "name": "ipython",
    "version": 3
   },
   "file_extension": ".py",
   "mimetype": "text/x-python",
   "name": "python",
   "nbconvert_exporter": "python",
   "pygments_lexer": "ipython3",
   "version": "3.6.8"
  }
 },
 "nbformat": 4,
 "nbformat_minor": 2
}
