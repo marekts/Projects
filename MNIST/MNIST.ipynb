{
 "cells": [
  {
   "cell_type": "code",
   "execution_count": 47,
   "metadata": {},
   "outputs": [],
   "source": [
    "import numpy as np\n",
    "import pandas as pd\n",
    "\n",
    "from sklearn.model_selection import train_test_split\n",
    "\n",
    "from keras.models import Sequential\n",
    "from keras.layers import Dense, Dropout, Flatten, Conv2D, MaxPool2D\n",
    "from keras.utils import np_utils\n",
    "from keras.callbacks import ModelCheckpoint, EarlyStopping, ReduceLROnPlateau\n",
    "\n",
    "import matplotlib.pyplot as plt\n",
    "%matplotlib inline"
   ]
  },
  {
   "cell_type": "code",
   "execution_count": 2,
   "metadata": {},
   "outputs": [
    {
     "name": "stdout",
     "output_type": "stream",
     "text": [
      "Train shape: (42000, 785), test shape: (28000, 784)\n"
     ]
    }
   ],
   "source": [
    "train_data = pd.read_csv('train.csv')\n",
    "test_data = pd.read_csv('test.csv')\n",
    "\n",
    "print('Train shape: {0}, test shape: {1}'.format(train_data.shape, test_data.shape))"
   ]
  },
  {
   "cell_type": "code",
   "execution_count": 3,
   "metadata": {},
   "outputs": [],
   "source": [
    "labels, data = train_data['label'].values, train_data.iloc[:, 1:].values"
   ]
  },
  {
   "cell_type": "code",
   "execution_count": 4,
   "metadata": {},
   "outputs": [
    {
     "name": "stdout",
     "output_type": "stream",
     "text": [
      "(42000, 784)\n",
      "0 255\n"
     ]
    }
   ],
   "source": [
    "print(data.shape)\n",
    "print(np.min(data), np.max(data))"
   ]
  },
  {
   "cell_type": "code",
   "execution_count": 5,
   "metadata": {
    "scrolled": true
   },
   "outputs": [
    {
     "data": {
      "image/png": "[encoded data removed]",
      "text/plain": [
       "<Figure size 1080x576 with 5 Axes>"
      ]
     },
     "metadata": {
      "needs_background": "light"
     },
     "output_type": "display_data"
    }
   ],
   "source": [
    "# Check a few digits\n",
    "\n",
    "sample_digits = np.random.randint(0, len(data), 5)\n",
    "\n",
    "fig = plt.figure(figsize=(15, 8))\n",
    "plt.subplots_adjust(0.)\n",
    "i = 1\n",
    "for x in sample_digits:\n",
    "    ax = fig.add_subplot(1, 5, i)\n",
    "    i += 1\n",
    "    ax.set_title('True value: {0}'.format(labels[x]))\n",
    "    digit = data[x].reshape(28, 28)\n",
    "    plt.imshow(digit, cmap = plt.cm.binary)"
   ]
  },
  {
   "cell_type": "code",
   "execution_count": 6,
   "metadata": {},
   "outputs": [],
   "source": [
    "# Scale train and test data from 1 to 0\n",
    "test = test_data.values\n",
    "\n",
    "if np.max(data) > 1: data = data / 255\n",
    "if np.max(test) > 1: test = test / 255\n",
    "    \n",
    "# Convert labels to categorical\n",
    "y = np_utils.to_categorical(labels)\n"
   ]
  },
  {
   "cell_type": "code",
   "execution_count": 7,
   "metadata": {},
   "outputs": [],
   "source": [
    "X_train, X_test, y_train, y_test = train_test_split(data, y, test_size=0.2, random_state=46)"
   ]
  },
  {
   "cell_type": "markdown",
   "metadata": {},
   "source": [
    "### Build  MLP models"
   ]
  },
  {
   "cell_type": "code",
   "execution_count": 8,
   "metadata": {},
   "outputs": [],
   "source": [
    "num_inputs = X_train.shape[1]\n",
    "num_outputs = y.shape[1]"
   ]
  },
  {
   "cell_type": "code",
   "execution_count": 16,
   "metadata": {
    "scrolled": false
   },
   "outputs": [
    {
     "name": "stdout",
     "output_type": "stream",
     "text": [
      "Model: \"sequential_4\"\n",
      "_________________________________________________________________\n",
      "Layer (type)                 Output Shape              Param #   \n",
      "=================================================================\n",
      "dense_10 (Dense)             (None, 512)               401920    \n",
      "_________________________________________________________________\n",
      "dense_11 (Dense)             (None, 256)               131328    \n",
      "_________________________________________________________________\n",
      "dense_12 (Dense)             (None, 10)                2570      \n",
      "=================================================================\n",
      "Total params: 535,818\n",
      "Trainable params: 535,818\n",
      "Non-trainable params: 0\n",
      "_________________________________________________________________\n"
     ]
    }
   ],
   "source": [
    "# MLP model 2 hidden layers\n",
    "first_mlp_model = Sequential([\n",
    "    Dense(512, input_dim=num_inputs, activation='relu'),\n",
    "    Dense(256, activation='relu'),\n",
    "    Dense(num_outputs, activation='softmax')\n",
    "])\n",
    "\n",
    "first_mlp_model.compile(loss='categorical_crossentropy', optimizer='adam', metrics=['accuracy'])\n",
    "first_mlp_model.summary()"
   ]
  },
  {
   "cell_type": "code",
   "execution_count": 18,
   "metadata": {},
   "outputs": [
    {
     "name": "stdout",
     "output_type": "stream",
     "text": [
      "Train on 33600 samples, validate on 8400 samples\n",
      "Epoch 1/12\n",
      " - 4s - loss: 0.0158 - accuracy: 0.9947 - val_loss: 0.1095 - val_accuracy: 0.9755\n",
      "Epoch 2/12\n",
      " - 4s - loss: 0.0066 - accuracy: 0.9980 - val_loss: 0.1039 - val_accuracy: 0.9764\n",
      "Epoch 3/12\n",
      " - 4s - loss: 0.0016 - accuracy: 0.9997 - val_loss: 0.1027 - val_accuracy: 0.9793\n",
      "Epoch 4/12\n",
      " - 4s - loss: 0.0022 - accuracy: 0.9994 - val_loss: 0.1065 - val_accuracy: 0.9782\n",
      "Epoch 5/12\n",
      " - 5s - loss: 0.0016 - accuracy: 0.9996 - val_loss: 0.0984 - val_accuracy: 0.9808\n",
      "Epoch 6/12\n",
      " - 5s - loss: 3.1465e-04 - accuracy: 1.0000 - val_loss: 0.1011 - val_accuracy: 0.9811\n",
      "Epoch 7/12\n",
      " - 5s - loss: 1.5549e-04 - accuracy: 1.0000 - val_loss: 0.1021 - val_accuracy: 0.9810\n",
      "Epoch 8/12\n",
      " - 5s - loss: 1.2341e-04 - accuracy: 1.0000 - val_loss: 0.1040 - val_accuracy: 0.9811\n",
      "Epoch 9/12\n",
      " - 5s - loss: 1.0491e-04 - accuracy: 1.0000 - val_loss: 0.1060 - val_accuracy: 0.9808\n",
      "Epoch 10/12\n",
      " - 5s - loss: 9.2128e-05 - accuracy: 1.0000 - val_loss: 0.1071 - val_accuracy: 0.9808\n",
      "Epoch 11/12\n",
      " - 5s - loss: 8.1379e-05 - accuracy: 1.0000 - val_loss: 0.1082 - val_accuracy: 0.9811\n",
      "Epoch 12/12\n",
      " - 5s - loss: 7.3365e-05 - accuracy: 1.0000 - val_loss: 0.1090 - val_accuracy: 0.9807\n"
     ]
    },
    {
     "data": {
      "text/plain": [
       "<keras.callbacks.callbacks.History at 0x1a94798150>"
      ]
     },
     "execution_count": 18,
     "metadata": {},
     "output_type": "execute_result"
    }
   ],
   "source": [
    "first_mlp_model.fit(X_train, y_train,\n",
    "         batch_size=256,\n",
    "         epochs=12,\n",
    "         verbose=2,\n",
    "         validation_data=(X_test, y_test))"
   ]
  },
  {
   "cell_type": "code",
   "execution_count": 36,
   "metadata": {},
   "outputs": [],
   "source": [
    "# MLP model 3 hidden layers and dropouts\n",
    "second_mlp_model = Sequential([\n",
    "    Dense(1024, input_dim=num_inputs, activation='relu'),\n",
    "    Dropout(0.5),\n",
    "    \n",
    "    Dense(512, activation='relu'),\n",
    "    Dropout(0.2),\n",
    "    \n",
    "    Dense(256, activation='relu'),\n",
    "    Dropout(0.2),\n",
    "    \n",
    "    Dense(num_outputs, activation='softmax')\n",
    "])\n",
    "\n",
    "second_mlp_model.compile(loss='categorical_crossentropy', optimizer='adam', metrics=['accuracy'])"
   ]
  },
  {
   "cell_type": "code",
   "execution_count": 37,
   "metadata": {},
   "outputs": [
    {
     "name": "stdout",
     "output_type": "stream",
     "text": [
      "Train on 33600 samples, validate on 8400 samples\n",
      "Epoch 1/12\n",
      " - 23s - loss: 0.4522 - accuracy: 0.8607 - val_loss: 0.1551 - val_accuracy: 0.9533\n",
      "Epoch 2/12\n",
      " - 15s - loss: 0.1743 - accuracy: 0.9460 - val_loss: 0.1116 - val_accuracy: 0.9664\n",
      "Epoch 3/12\n",
      " - 15s - loss: 0.1268 - accuracy: 0.9603 - val_loss: 0.0937 - val_accuracy: 0.9714\n",
      "Epoch 4/12\n",
      " - 15s - loss: 0.1044 - accuracy: 0.9676 - val_loss: 0.0816 - val_accuracy: 0.9758\n",
      "Epoch 5/12\n",
      " - 15s - loss: 0.0871 - accuracy: 0.9719 - val_loss: 0.0831 - val_accuracy: 0.9750\n",
      "Epoch 6/12\n",
      " - 14s - loss: 0.0745 - accuracy: 0.9754 - val_loss: 0.0823 - val_accuracy: 0.9771\n",
      "Epoch 7/12\n",
      " - 14s - loss: 0.0676 - accuracy: 0.9783 - val_loss: 0.0796 - val_accuracy: 0.9771\n",
      "Epoch 8/12\n",
      " - 14s - loss: 0.0583 - accuracy: 0.9806 - val_loss: 0.0791 - val_accuracy: 0.9769\n",
      "Epoch 9/12\n",
      " - 14s - loss: 0.0578 - accuracy: 0.9815 - val_loss: 0.0835 - val_accuracy: 0.9783\n",
      "Epoch 10/12\n",
      " - 14s - loss: 0.0497 - accuracy: 0.9835 - val_loss: 0.0777 - val_accuracy: 0.9798\n",
      "Epoch 11/12\n",
      " - 14s - loss: 0.0477 - accuracy: 0.9836 - val_loss: 0.0826 - val_accuracy: 0.9794\n",
      "Epoch 12/12\n",
      " - 14s - loss: 0.0428 - accuracy: 0.9858 - val_loss: 0.0749 - val_accuracy: 0.9811\n"
     ]
    },
    {
     "data": {
      "text/plain": [
       "<keras.callbacks.callbacks.History at 0x1a9c48ab10>"
      ]
     },
     "execution_count": 37,
     "metadata": {},
     "output_type": "execute_result"
    }
   ],
   "source": [
    "second_mlp_model.fit(X_train, y_train,\n",
    "         batch_size=256,\n",
    "         epochs=12,\n",
    "         verbose=2,\n",
    "         validation_data=(X_test, y_test))"
   ]
  },
  {
   "cell_type": "code",
   "execution_count": 38,
   "metadata": {},
   "outputs": [
    {
     "name": "stdout",
     "output_type": "stream",
     "text": [
      "8400/8400 [==============================] - 2s 235us/step\n",
      "Loss: 0.07485243178066975, Accuracy: 0.981071412563324\n"
     ]
    }
   ],
   "source": [
    "score = second_mlp_model.evaluate(X_test, y_test)\n",
    "print('Loss: {0}, Accuracy: {1}'.format(score[0], score[1]))"
   ]
  },
  {
   "cell_type": "markdown",
   "metadata": {},
   "source": [
    "### Build CNN models"
   ]
  },
  {
   "cell_type": "code",
   "execution_count": 9,
   "metadata": {},
   "outputs": [],
   "source": [
    "# Resize X and y for CNN\n",
    "X_train_resized = X_train.reshape(X_train.shape[0], 28, 28, 1)\n",
    "X_test_resized = X_test.reshape(X_test.shape[0], 28, 28, 1)\n",
    "\n",
    "input_shape = X_train_resized.shape[1:]\n"
   ]
  },
  {
   "cell_type": "code",
   "execution_count": 17,
   "metadata": {},
   "outputs": [
    {
     "name": "stdout",
     "output_type": "stream",
     "text": [
      "Test shape: (33600, 28, 28, 1), train shape: (8400, 28, 28, 1)\n"
     ]
    }
   ],
   "source": [
    "print('Test shape: {0}, train shape: {1}'.format(X_train_resized.shape, X_test_resized.shape))"
   ]
  },
  {
   "cell_type": "markdown",
   "metadata": {},
   "source": [
    "### Model 1"
   ]
  },
  {
   "cell_type": "code",
   "execution_count": 25,
   "metadata": {},
   "outputs": [
    {
     "name": "stdout",
     "output_type": "stream",
     "text": [
      "Model: \"sequential_2\"\n",
      "_________________________________________________________________\n",
      "Layer (type)                 Output Shape              Param #   \n",
      "=================================================================\n",
      "conv2d_5 (Conv2D)            (None, 26, 26, 32)        320       \n",
      "_________________________________________________________________\n",
      "max_pooling2d_3 (MaxPooling2 (None, 13, 13, 32)        0         \n",
      "_________________________________________________________________\n",
      "dropout_5 (Dropout)          (None, 13, 13, 32)        0         \n",
      "_________________________________________________________________\n",
      "conv2d_6 (Conv2D)            (None, 11, 11, 64)        18496     \n",
      "_________________________________________________________________\n",
      "max_pooling2d_4 (MaxPooling2 (None, 5, 5, 64)          0         \n",
      "_________________________________________________________________\n",
      "dropout_6 (Dropout)          (None, 5, 5, 64)          0         \n",
      "_________________________________________________________________\n",
      "flatten_2 (Flatten)          (None, 1600)              0         \n",
      "_________________________________________________________________\n",
      "dense_4 (Dense)              (None, 512)               819712    \n",
      "_________________________________________________________________\n",
      "dropout_7 (Dropout)          (None, 512)               0         \n",
      "_________________________________________________________________\n",
      "dense_5 (Dense)              (None, 10)                5130      \n",
      "=================================================================\n",
      "Total params: 843,658\n",
      "Trainable params: 843,658\n",
      "Non-trainable params: 0\n",
      "_________________________________________________________________\n"
     ]
    }
   ],
   "source": [
    "# Two conv layers\n",
    "simple_cnn = Sequential([\n",
    "    Conv2D(32, kernel_size=(3,3), input_shape=input_shape, activation='relu'),\n",
    "    MaxPool2D(pool_size=(2,2)),\n",
    "    Dropout(0.3),\n",
    "    \n",
    "    Conv2D(64, kernel_size=(3,3), activation='relu'),\n",
    "    MaxPool2D(pool_size=(2,2)),\n",
    "    Dropout(0.3),\n",
    "    \n",
    "    Flatten(),\n",
    "    \n",
    "    Dense(512, activation='relu'),\n",
    "    Dropout(0.3),\n",
    "    \n",
    "    Dense(num_outputs, activation='softmax')\n",
    "])\n",
    "\n",
    "simple_cnn.compile(loss='categorical_crossentropy', optimizer='adam', metrics=['accuracy'])\n",
    "simple_cnn.summary()\n"
   ]
  },
  {
   "cell_type": "code",
   "execution_count": 48,
   "metadata": {},
   "outputs": [
    {
     "name": "stdout",
     "output_type": "stream",
     "text": [
      "Train on 33600 samples, validate on 8400 samples\n",
      "Epoch 1/15\n",
      " - 70s - loss: 0.0081 - accuracy: 0.9975 - val_loss: 0.0258 - val_accuracy: 0.9940\n",
      "Epoch 2/15\n",
      " - 52s - loss: 0.0068 - accuracy: 0.9977 - val_loss: 0.0253 - val_accuracy: 0.9943\n",
      "Epoch 3/15\n",
      " - 55s - loss: 0.0059 - accuracy: 0.9978 - val_loss: 0.0264 - val_accuracy: 0.9938\n",
      "Epoch 4/15\n",
      " - 55s - loss: 0.0062 - accuracy: 0.9978 - val_loss: 0.0268 - val_accuracy: 0.9939\n",
      "Epoch 5/15\n",
      " - 55s - loss: 0.0057 - accuracy: 0.9981 - val_loss: 0.0288 - val_accuracy: 0.9942\n",
      "Epoch 6/15\n",
      " - 54s - loss: 0.0057 - accuracy: 0.9980 - val_loss: 0.0277 - val_accuracy: 0.9940\n",
      "Epoch 7/15\n",
      " - 54s - loss: 0.0054 - accuracy: 0.9980 - val_loss: 0.0271 - val_accuracy: 0.9937\n",
      "Epoch 8/15\n",
      " - 52s - loss: 0.0064 - accuracy: 0.9978 - val_loss: 0.0304 - val_accuracy: 0.9938\n",
      "Epoch 9/15\n",
      " - 55s - loss: 0.0058 - accuracy: 0.9979 - val_loss: 0.0325 - val_accuracy: 0.9935\n",
      "Epoch 10/15\n",
      " - 60s - loss: 0.0051 - accuracy: 0.9982 - val_loss: 0.0293 - val_accuracy: 0.9939\n",
      "Epoch 11/15\n",
      " - 55s - loss: 0.0061 - accuracy: 0.9979 - val_loss: 0.0279 - val_accuracy: 0.9931\n",
      "Epoch 12/15\n",
      " - 54s - loss: 0.0056 - accuracy: 0.9980 - val_loss: 0.0294 - val_accuracy: 0.9940\n",
      "Epoch 13/15\n",
      " - 53s - loss: 0.0055 - accuracy: 0.9980 - val_loss: 0.0327 - val_accuracy: 0.9940\n",
      "Epoch 14/15\n",
      " - 51s - loss: 0.0069 - accuracy: 0.9978 - val_loss: 0.0323 - val_accuracy: 0.9940\n",
      "Epoch 15/15\n",
      " - 51s - loss: 0.0052 - accuracy: 0.9982 - val_loss: 0.0329 - val_accuracy: 0.9935\n"
     ]
    },
    {
     "data": {
      "text/plain": [
       "<keras.callbacks.callbacks.History at 0x7fe4e5d97490>"
      ]
     },
     "execution_count": 48,
     "metadata": {},
     "output_type": "execute_result"
    }
   ],
   "source": [
    "simple_cnn.fit(X_train_resized, y_train,\n",
    "              batch_size=256,\n",
    "              epochs=15,\n",
    "              verbose=2,\n",
    "              validation_data=(X_test_resized, y_test))"
   ]
  },
  {
   "cell_type": "markdown",
   "metadata": {},
   "source": [
    "### Model 2"
   ]
  },
  {
   "cell_type": "code",
   "execution_count": 49,
   "metadata": {},
   "outputs": [
    {
     "name": "stdout",
     "output_type": "stream",
     "text": [
      "Model: \"sequential_6\"\n",
      "_________________________________________________________________\n",
      "Layer (type)                 Output Shape              Param #   \n",
      "=================================================================\n",
      "conv2d_21 (Conv2D)           (None, 26, 26, 32)        320       \n",
      "_________________________________________________________________\n",
      "max_pooling2d_11 (MaxPooling (None, 13, 13, 32)        0         \n",
      "_________________________________________________________________\n",
      "dropout_18 (Dropout)         (None, 13, 13, 32)        0         \n",
      "_________________________________________________________________\n",
      "conv2d_22 (Conv2D)           (None, 11, 11, 64)        18496     \n",
      "_________________________________________________________________\n",
      "max_pooling2d_12 (MaxPooling (None, 5, 5, 64)          0         \n",
      "_________________________________________________________________\n",
      "dropout_19 (Dropout)         (None, 5, 5, 64)          0         \n",
      "_________________________________________________________________\n",
      "conv2d_23 (Conv2D)           (None, 3, 3, 128)         73856     \n",
      "_________________________________________________________________\n",
      "max_pooling2d_13 (MaxPooling (None, 1, 1, 128)         0         \n",
      "_________________________________________________________________\n",
      "dropout_20 (Dropout)         (None, 1, 1, 128)         0         \n",
      "_________________________________________________________________\n",
      "flatten_6 (Flatten)          (None, 128)               0         \n",
      "_________________________________________________________________\n",
      "dense_13 (Dense)             (None, 1024)              132096    \n",
      "_________________________________________________________________\n",
      "dropout_21 (Dropout)         (None, 1024)              0         \n",
      "_________________________________________________________________\n",
      "dense_14 (Dense)             (None, 10)                10250     \n",
      "=================================================================\n",
      "Total params: 235,018\n",
      "Trainable params: 235,018\n",
      "Non-trainable params: 0\n",
      "_________________________________________________________________\n",
      "Train on 33600 samples, validate on 8400 samples\n",
      "Epoch 1/15\n",
      " - 56s - loss: 0.8721 - accuracy: 0.7073 - val_loss: 0.2085 - val_accuracy: 0.9373\n",
      "Epoch 2/15\n",
      " - 52s - loss: 0.2681 - accuracy: 0.9172 - val_loss: 0.1221 - val_accuracy: 0.9640\n",
      "Epoch 3/15\n",
      " - 51s - loss: 0.1914 - accuracy: 0.9415 - val_loss: 0.1021 - val_accuracy: 0.9670\n",
      "Epoch 4/15\n",
      " - 52s - loss: 0.1592 - accuracy: 0.9509 - val_loss: 0.0807 - val_accuracy: 0.9755\n",
      "Epoch 5/15\n",
      " - 50s - loss: 0.1370 - accuracy: 0.9572 - val_loss: 0.0736 - val_accuracy: 0.9768\n",
      "Epoch 6/15\n",
      " - 51s - loss: 0.1193 - accuracy: 0.9626 - val_loss: 0.0668 - val_accuracy: 0.9785\n",
      "Epoch 7/15\n",
      " - 50s - loss: 0.1146 - accuracy: 0.9648 - val_loss: 0.0603 - val_accuracy: 0.9806\n",
      "Epoch 8/15\n",
      " - 51s - loss: 0.1025 - accuracy: 0.9678 - val_loss: 0.0639 - val_accuracy: 0.9808\n",
      "Epoch 9/15\n",
      " - 51s - loss: 0.0921 - accuracy: 0.9722 - val_loss: 0.0601 - val_accuracy: 0.9819\n",
      "Epoch 10/15\n",
      " - 51s - loss: 0.0864 - accuracy: 0.9733 - val_loss: 0.0507 - val_accuracy: 0.9852\n",
      "Epoch 11/15\n",
      " - 51s - loss: 0.0826 - accuracy: 0.9740 - val_loss: 0.0536 - val_accuracy: 0.9843\n",
      "Epoch 12/15\n",
      " - 51s - loss: 0.0784 - accuracy: 0.9764 - val_loss: 0.0504 - val_accuracy: 0.9843\n",
      "Epoch 13/15\n",
      " - 51s - loss: 0.0764 - accuracy: 0.9765 - val_loss: 0.0508 - val_accuracy: 0.9845\n",
      "Epoch 14/15\n",
      " - 51s - loss: 0.0743 - accuracy: 0.9770 - val_loss: 0.0468 - val_accuracy: 0.9861\n",
      "Epoch 15/15\n",
      " - 50s - loss: 0.0677 - accuracy: 0.9779 - val_loss: 0.0487 - val_accuracy: 0.9850\n"
     ]
    },
    {
     "data": {
      "text/plain": [
       "<keras.callbacks.callbacks.History at 0x7fe4eb9ba550>"
      ]
     },
     "execution_count": 49,
     "metadata": {},
     "output_type": "execute_result"
    }
   ],
   "source": [
    "# Three conv layers\n",
    "three_conv = Sequential([\n",
    "    Conv2D(32, kernel_size=(3,3), input_shape=input_shape, activation='relu'),\n",
    "    MaxPool2D(pool_size=(2,2)),\n",
    "    Dropout(0.3),\n",
    "    \n",
    "    Conv2D(64, kernel_size=(3,3), activation='relu'),\n",
    "    MaxPool2D(pool_size=(2,2)),\n",
    "    Dropout(0.3),\n",
    "    \n",
    "    Conv2D(128, kernel_size=(3,3), activation='relu'),\n",
    "    MaxPool2D(pool_size=(2,2)),\n",
    "    Dropout(0.3),\n",
    "    \n",
    "    Flatten(),\n",
    "    \n",
    "    Dense(1024, activation='relu'),\n",
    "    Dropout(0.3),\n",
    "    \n",
    "    Dense(num_outputs, activation='softmax')\n",
    "])\n",
    "\n",
    "three_conv.compile(loss='categorical_crossentropy', optimizer='adam', metrics=['accuracy'])\n",
    "three_conv.summary()\n",
    "\n",
    "three_conv.fit(X_train_resized, y_train,\n",
    "              batch_size=256,\n",
    "              epochs=15,\n",
    "              verbose=2,\n",
    "              validation_data=(X_test_resized, y_test))\n"
   ]
  },
  {
   "cell_type": "markdown",
   "metadata": {},
   "source": [
    "### Model 3"
   ]
  },
  {
   "cell_type": "code",
   "execution_count": 50,
   "metadata": {},
   "outputs": [
    {
     "name": "stdout",
     "output_type": "stream",
     "text": [
      "Model: \"sequential_7\"\n",
      "_________________________________________________________________\n",
      "Layer (type)                 Output Shape              Param #   \n",
      "=================================================================\n",
      "conv2d_24 (Conv2D)           (None, 26, 26, 32)        320       \n",
      "_________________________________________________________________\n",
      "conv2d_25 (Conv2D)           (None, 24, 24, 32)        9248      \n",
      "_________________________________________________________________\n",
      "max_pooling2d_14 (MaxPooling (None, 12, 12, 32)        0         \n",
      "_________________________________________________________________\n",
      "dropout_22 (Dropout)         (None, 12, 12, 32)        0         \n",
      "_________________________________________________________________\n",
      "conv2d_26 (Conv2D)           (None, 12, 12, 64)        18496     \n",
      "_________________________________________________________________\n",
      "conv2d_27 (Conv2D)           (None, 10, 10, 64)        36928     \n",
      "_________________________________________________________________\n",
      "max_pooling2d_15 (MaxPooling (None, 5, 5, 64)          0         \n",
      "_________________________________________________________________\n",
      "dropout_23 (Dropout)         (None, 5, 5, 64)          0         \n",
      "_________________________________________________________________\n",
      "flatten_7 (Flatten)          (None, 1600)              0         \n",
      "_________________________________________________________________\n",
      "dense_15 (Dense)             (None, 1024)              1639424   \n",
      "_________________________________________________________________\n",
      "dropout_24 (Dropout)         (None, 1024)              0         \n",
      "_________________________________________________________________\n",
      "dense_16 (Dense)             (None, 10)                10250     \n",
      "=================================================================\n",
      "Total params: 1,714,666\n",
      "Trainable params: 1,714,666\n",
      "Non-trainable params: 0\n",
      "_________________________________________________________________\n"
     ]
    }
   ],
   "source": [
    "# Two double conv layers\n",
    "doubled_cnn = Sequential([\n",
    "    Conv2D(32, kernel_size=(3,3), input_shape=input_shape, activation='relu'),\n",
    "    Conv2D(32, kernel_size=(3,3), activation='relu'),\n",
    "    MaxPool2D(pool_size=(2,2)),\n",
    "    Dropout(0.5),\n",
    "    \n",
    "    Conv2D(64, kernel_size=(3,3), padding='same', activation='relu'),\n",
    "    Conv2D(64, kernel_size=(3,3), activation='relu'),\n",
    "    MaxPool2D(pool_size=(2,2)),\n",
    "    Dropout(0.3),\n",
    "    \n",
    "    Flatten(),\n",
    "    \n",
    "    Dense(1024, activation='relu'),\n",
    "    Dropout(0.3),\n",
    "    \n",
    "    Dense(num_outputs, activation='softmax')\n",
    "])\n",
    "\n",
    "doubled_cnn.compile(loss='categorical_crossentropy', optimizer='adam', metrics=['accuracy'])\n",
    "doubled_cnn.summary()\n"
   ]
  },
  {
   "cell_type": "code",
   "execution_count": 51,
   "metadata": {},
   "outputs": [
    {
     "name": "stdout",
     "output_type": "stream",
     "text": [
      "Train on 33600 samples, validate on 8400 samples\n",
      "Epoch 1/20\n",
      " - 91s - loss: 0.4221 - accuracy: 0.8636 - val_loss: 0.0872 - val_accuracy: 0.9724\n",
      "Epoch 2/20\n",
      " - 73s - loss: 0.0972 - accuracy: 0.9700 - val_loss: 0.0614 - val_accuracy: 0.9811\n",
      "Epoch 3/20\n",
      " - 72s - loss: 0.0653 - accuracy: 0.9797 - val_loss: 0.0449 - val_accuracy: 0.9869\n",
      "Epoch 4/20\n",
      " - 72s - loss: 0.0505 - accuracy: 0.9835 - val_loss: 0.0445 - val_accuracy: 0.9874\n",
      "Epoch 5/20\n",
      " - 73s - loss: 0.0440 - accuracy: 0.9858 - val_loss: 0.0437 - val_accuracy: 0.9860\n",
      "Epoch 6/20\n",
      " - 74s - loss: 0.0359 - accuracy: 0.9883 - val_loss: 0.0378 - val_accuracy: 0.9902\n",
      "Epoch 7/20\n",
      " - 72s - loss: 0.0316 - accuracy: 0.9898 - val_loss: 0.0386 - val_accuracy: 0.9885\n",
      "Epoch 8/20\n",
      " - 72s - loss: 0.0320 - accuracy: 0.9893 - val_loss: 0.0322 - val_accuracy: 0.9901\n",
      "Epoch 9/20\n",
      " - 72s - loss: 0.0260 - accuracy: 0.9920 - val_loss: 0.0296 - val_accuracy: 0.9907\n",
      "Epoch 10/20\n",
      " - 73s - loss: 0.0240 - accuracy: 0.9921 - val_loss: 0.0339 - val_accuracy: 0.9911\n",
      "Epoch 11/20\n",
      " - 72s - loss: 0.0257 - accuracy: 0.9918 - val_loss: 0.0307 - val_accuracy: 0.9913\n",
      "Epoch 12/20\n",
      " - 72s - loss: 0.0194 - accuracy: 0.9936 - val_loss: 0.0315 - val_accuracy: 0.9914\n",
      "Epoch 13/20\n",
      " - 73s - loss: 0.0210 - accuracy: 0.9934 - val_loss: 0.0303 - val_accuracy: 0.9927\n",
      "Epoch 14/20\n",
      " - 73s - loss: 0.0188 - accuracy: 0.9942 - val_loss: 0.0271 - val_accuracy: 0.9924\n",
      "Epoch 15/20\n",
      " - 105s - loss: 0.0181 - accuracy: 0.9944 - val_loss: 0.0270 - val_accuracy: 0.9915\n",
      "Epoch 16/20\n",
      " - 96s - loss: 0.0137 - accuracy: 0.9953 - val_loss: 0.0358 - val_accuracy: 0.9910\n",
      "Epoch 17/20\n",
      " - 92s - loss: 0.0157 - accuracy: 0.9954 - val_loss: 0.0317 - val_accuracy: 0.9905\n",
      "Epoch 18/20\n",
      " - 100s - loss: 0.0135 - accuracy: 0.9954 - val_loss: 0.0268 - val_accuracy: 0.9931\n",
      "Epoch 19/20\n",
      " - 102s - loss: 0.0139 - accuracy: 0.9952 - val_loss: 0.0334 - val_accuracy: 0.9912\n",
      "Epoch 20/20\n",
      " - 98s - loss: 0.0131 - accuracy: 0.9960 - val_loss: 0.0265 - val_accuracy: 0.9930\n"
     ]
    },
    {
     "data": {
      "text/plain": [
       "<keras.callbacks.callbacks.History at 0x7fe4ee8c1910>"
      ]
     },
     "execution_count": 51,
     "metadata": {},
     "output_type": "execute_result"
    }
   ],
   "source": [
    "doubled_cnn.fit(X_train_resized, y_train,\n",
    "              batch_size=256,\n",
    "              epochs=20,\n",
    "              verbose=2,\n",
    "              validation_data=(X_test_resized, y_test))"
   ]
  },
  {
   "cell_type": "markdown",
   "metadata": {},
   "source": [
    "### Model 4"
   ]
  },
  {
   "cell_type": "code",
   "execution_count": 52,
   "metadata": {},
   "outputs": [
    {
     "name": "stdout",
     "output_type": "stream",
     "text": [
      "Model: \"sequential_8\"\n",
      "_________________________________________________________________\n",
      "Layer (type)                 Output Shape              Param #   \n",
      "=================================================================\n",
      "conv2d_28 (Conv2D)           (None, 26, 26, 32)        320       \n",
      "_________________________________________________________________\n",
      "conv2d_29 (Conv2D)           (None, 24, 24, 32)        9248      \n",
      "_________________________________________________________________\n",
      "conv2d_30 (Conv2D)           (None, 22, 22, 32)        9248      \n",
      "_________________________________________________________________\n",
      "max_pooling2d_16 (MaxPooling (None, 11, 11, 32)        0         \n",
      "_________________________________________________________________\n",
      "dropout_25 (Dropout)         (None, 11, 11, 32)        0         \n",
      "_________________________________________________________________\n",
      "conv2d_31 (Conv2D)           (None, 11, 11, 64)        18496     \n",
      "_________________________________________________________________\n",
      "conv2d_32 (Conv2D)           (None, 9, 9, 64)          36928     \n",
      "_________________________________________________________________\n",
      "conv2d_33 (Conv2D)           (None, 7, 7, 64)          36928     \n",
      "_________________________________________________________________\n",
      "max_pooling2d_17 (MaxPooling (None, 3, 3, 64)          0         \n",
      "_________________________________________________________________\n",
      "dropout_26 (Dropout)         (None, 3, 3, 64)          0         \n",
      "_________________________________________________________________\n",
      "flatten_8 (Flatten)          (None, 576)               0         \n",
      "_________________________________________________________________\n",
      "dense_17 (Dense)             (None, 1024)              590848    \n",
      "_________________________________________________________________\n",
      "dropout_27 (Dropout)         (None, 1024)              0         \n",
      "_________________________________________________________________\n",
      "dense_18 (Dense)             (None, 10)                10250     \n",
      "=================================================================\n",
      "Total params: 712,266\n",
      "Trainable params: 712,266\n",
      "Non-trainable params: 0\n",
      "_________________________________________________________________\n"
     ]
    }
   ],
   "source": [
    "# Two triple conv layers\n",
    "triple_cnn = Sequential([\n",
    "    \n",
    "    Conv2D(32, kernel_size=(3,3), input_shape=input_shape, activation='relu'),\n",
    "    Conv2D(32, kernel_size=(3,3), activation='relu'),\n",
    "    Conv2D(32, kernel_size=(3,3), activation='relu'),\n",
    "    MaxPool2D(pool_size=(2,2)),\n",
    "    Dropout(0.5),\n",
    "    \n",
    "    Conv2D(64, kernel_size=(3,3), padding='same', activation='relu'),\n",
    "    Conv2D(64, kernel_size=(3,3), activation='relu'),\n",
    "    Conv2D(64, kernel_size=(3,3), activation='relu'),\n",
    "    MaxPool2D(pool_size=(2,2)),\n",
    "    Dropout(0.3),\n",
    "    \n",
    "    Flatten(),\n",
    "    \n",
    "    Dense(1024, activation='relu'),\n",
    "    Dropout(0.3),\n",
    "    \n",
    "    Dense(num_outputs, activation='softmax')\n",
    "])\n",
    "\n",
    "triple_cnn.compile(loss='categorical_crossentropy', optimizer='adam', metrics=['accuracy'])\n",
    "triple_cnn.summary()\n"
   ]
  },
  {
   "cell_type": "code",
   "execution_count": 53,
   "metadata": {},
   "outputs": [
    {
     "name": "stdout",
     "output_type": "stream",
     "text": [
      "Train on 33600 samples, validate on 8400 samples\n",
      "Epoch 1/15\n",
      " - 133s - loss: 0.4748 - accuracy: 0.8440 - val_loss: 0.1087 - val_accuracy: 0.9652\n",
      "Epoch 2/15\n",
      " - 104s - loss: 0.1127 - accuracy: 0.9650 - val_loss: 0.0521 - val_accuracy: 0.9837\n",
      "Epoch 3/15\n",
      " - 112s - loss: 0.0822 - accuracy: 0.9744 - val_loss: 0.0444 - val_accuracy: 0.9862\n",
      "Epoch 4/15\n",
      " - 102s - loss: 0.0601 - accuracy: 0.9813 - val_loss: 0.0385 - val_accuracy: 0.9875\n",
      "Epoch 5/15\n",
      " - 103s - loss: 0.0517 - accuracy: 0.9840 - val_loss: 0.0370 - val_accuracy: 0.9889\n",
      "Epoch 6/15\n",
      " - 103s - loss: 0.0465 - accuracy: 0.9855 - val_loss: 0.0333 - val_accuracy: 0.9900\n",
      "Epoch 7/15\n",
      " - 100s - loss: 0.0372 - accuracy: 0.9880 - val_loss: 0.0291 - val_accuracy: 0.9911\n",
      "Epoch 8/15\n",
      " - 88s - loss: 0.0386 - accuracy: 0.9880 - val_loss: 0.0299 - val_accuracy: 0.9917\n",
      "Epoch 9/15\n",
      " - 81s - loss: 0.0314 - accuracy: 0.9900 - val_loss: 0.0281 - val_accuracy: 0.9921\n",
      "Epoch 10/15\n",
      " - 95s - loss: 0.0305 - accuracy: 0.9895 - val_loss: 0.0311 - val_accuracy: 0.9917\n",
      "Epoch 11/15\n",
      " - 100s - loss: 0.0278 - accuracy: 0.9907 - val_loss: 0.0278 - val_accuracy: 0.9927\n",
      "Epoch 12/15\n",
      " - 102s - loss: 0.0272 - accuracy: 0.9915 - val_loss: 0.0298 - val_accuracy: 0.9913\n",
      "Epoch 13/15\n",
      " - 118s - loss: 0.0235 - accuracy: 0.9924 - val_loss: 0.0256 - val_accuracy: 0.9930\n",
      "Epoch 14/15\n",
      " - 97s - loss: 0.0245 - accuracy: 0.9918 - val_loss: 0.0351 - val_accuracy: 0.9907\n",
      "Epoch 15/15\n",
      " - 96s - loss: 0.0202 - accuracy: 0.9937 - val_loss: 0.0285 - val_accuracy: 0.9929\n"
     ]
    },
    {
     "data": {
      "text/plain": [
       "<keras.callbacks.callbacks.History at 0x7fe4f37a9ad0>"
      ]
     },
     "execution_count": 53,
     "metadata": {},
     "output_type": "execute_result"
    }
   ],
   "source": [
    "triple_cnn.fit(X_train_resized, y_train,\n",
    "              batch_size=256,\n",
    "              epochs=15,\n",
    "              verbose=2,\n",
    "              validation_data=(X_test_resized, y_test))"
   ]
  },
  {
   "cell_type": "markdown",
   "metadata": {},
   "source": [
    "### Data augmentation"
   ]
  },
  {
   "cell_type": "code",
   "execution_count": 34,
   "metadata": {},
   "outputs": [],
   "source": [
    "from scipy.ndimage import shift  \n",
    "\n",
    "def shift_image(data, direction):\n",
    "    new_data = []\n",
    "    for image in data:\n",
    "        image = shift(image.reshape(28, 28), direction).flatten()\n",
    "        new_data.append(image)\n",
    "    \n",
    "    return np.array(new_data)"
   ]
  },
  {
   "cell_type": "code",
   "execution_count": 35,
   "metadata": {},
   "outputs": [],
   "source": [
    "X_aug = []\n",
    "for direct in ([4, 0], [-4, 0], [0, 2], [0, -2], [3, 3], [-3, 3]):\n",
    "    new_digits = shift_image(X_train, direct)\n",
    "    X_aug.extend(new_digits)\n",
    "    \n",
    "X_aug = np.vstack((X_train, np.array(X_aug)))"
   ]
  },
  {
   "cell_type": "code",
   "execution_count": 36,
   "metadata": {},
   "outputs": [],
   "source": [
    "y_aug = np.array(list(y_train) * 7)"
   ]
  },
  {
   "cell_type": "code",
   "execution_count": 37,
   "metadata": {},
   "outputs": [],
   "source": [
    "X_aug_resized = X_aug.reshape(X_aug.shape[0], 28, 28, 1)"
   ]
  },
  {
   "cell_type": "code",
   "execution_count": 38,
   "metadata": {},
   "outputs": [
    {
     "data": {
      "text/plain": [
       "(235200, 28, 28, 1)"
      ]
     },
     "execution_count": 38,
     "metadata": {},
     "output_type": "execute_result"
    }
   ],
   "source": [
    "X_aug_resized.shape"
   ]
  },
  {
   "cell_type": "code",
   "execution_count": 29,
   "metadata": {},
   "outputs": [],
   "source": [
    "callbacks = [ EarlyStopping(patience=5), \n",
    "             ModelCheckpoint('mnist_best_model.hdf5', save_best_only=True),\n",
    "            ReduceLROnPlateau(patience=3)]"
   ]
  },
  {
   "cell_type": "code",
   "execution_count": 41,
   "metadata": {},
   "outputs": [
    {
     "name": "stdout",
     "output_type": "stream",
     "text": [
      "Train on 235200 samples, validate on 8400 samples\n",
      "Epoch 1/15\n",
      "235200/235200 [==============================] - 617s 3ms/step - loss: 0.1977 - accuracy: 0.9354 - val_loss: 0.0333 - val_accuracy: 0.9905\n",
      "Epoch 2/15\n",
      "235200/235200 [==============================] - 577s 2ms/step - loss: 0.0508 - accuracy: 0.9841 - val_loss: 0.0303 - val_accuracy: 0.9906\n",
      "Epoch 3/15\n",
      "235200/235200 [==============================] - 580s 2ms/step - loss: 0.0361 - accuracy: 0.9887 - val_loss: 0.0244 - val_accuracy: 0.9923\n",
      "Epoch 4/15\n",
      "235200/235200 [==============================] - 567s 2ms/step - loss: 0.0295 - accuracy: 0.9909 - val_loss: 0.0226 - val_accuracy: 0.9929\n",
      "Epoch 5/15\n",
      "235200/235200 [==============================] - 536s 2ms/step - loss: 0.0259 - accuracy: 0.9918 - val_loss: 0.0221 - val_accuracy: 0.9939\n",
      "Epoch 6/15\n",
      "235200/235200 [==============================] - 496s 2ms/step - loss: 0.0224 - accuracy: 0.9929 - val_loss: 0.0194 - val_accuracy: 0.9943\n",
      "Epoch 7/15\n",
      "235200/235200 [==============================] - 503s 2ms/step - loss: 0.0201 - accuracy: 0.9936 - val_loss: 0.0210 - val_accuracy: 0.9949\n",
      "Epoch 8/15\n",
      "235200/235200 [==============================] - 500s 2ms/step - loss: 0.0176 - accuracy: 0.9943 - val_loss: 0.0203 - val_accuracy: 0.9952\n",
      "Epoch 9/15\n",
      "235200/235200 [==============================] - 554s 2ms/step - loss: 0.0158 - accuracy: 0.9949 - val_loss: 0.0210 - val_accuracy: 0.9952\n",
      "Epoch 10/15\n",
      "235200/235200 [==============================] - 557s 2ms/step - loss: 0.0087 - accuracy: 0.9973 - val_loss: 0.0200 - val_accuracy: 0.9955\n",
      "Epoch 11/15\n",
      "235200/235200 [==============================] - 557s 2ms/step - loss: 0.0070 - accuracy: 0.9976 - val_loss: 0.0203 - val_accuracy: 0.9955\n"
     ]
    },
    {
     "data": {
      "text/plain": [
       "<keras.callbacks.callbacks.History at 0x7fe5a63e9510>"
      ]
     },
     "execution_count": 41,
     "metadata": {},
     "output_type": "execute_result"
    }
   ],
   "source": [
    "doubled_cnn.fit(X_aug_resized, y_aug,\n",
    "              batch_size=256,\n",
    "              epochs=15,\n",
    "              verbose=1,\n",
    "              callbacks=callbacks,\n",
    "              validation_data=(X_test_resized, y_test))"
   ]
  },
  {
   "cell_type": "code",
   "execution_count": 42,
   "metadata": {},
   "outputs": [
    {
     "name": "stdout",
     "output_type": "stream",
     "text": [
      "Train on 235200 samples, validate on 8400 samples\n",
      "Epoch 1/15\n",
      "235200/235200 [==============================] - 713s 3ms/step - loss: 0.0443 - accuracy: 0.9874 - val_loss: 0.0208 - val_accuracy: 0.9944\n",
      "Epoch 2/15\n",
      "235200/235200 [==============================] - 641s 3ms/step - loss: 0.0337 - accuracy: 0.9899 - val_loss: 0.0208 - val_accuracy: 0.9943\n",
      "Epoch 3/15\n",
      "235200/235200 [==============================] - 676s 3ms/step - loss: 0.0303 - accuracy: 0.9909 - val_loss: 0.0210 - val_accuracy: 0.9942\n",
      "Epoch 4/15\n",
      "235200/235200 [==============================] - 678s 3ms/step - loss: 0.0277 - accuracy: 0.9914 - val_loss: 0.0214 - val_accuracy: 0.9942\n",
      "Epoch 5/15\n",
      "235200/235200 [==============================] - 677s 3ms/step - loss: 0.0260 - accuracy: 0.9917 - val_loss: 0.0214 - val_accuracy: 0.9942\n",
      "Epoch 6/15\n",
      "235200/235200 [==============================] - 642s 3ms/step - loss: 0.0267 - accuracy: 0.9917 - val_loss: 0.0214 - val_accuracy: 0.9942\n",
      "Epoch 7/15\n",
      "235200/235200 [==============================] - 592s 3ms/step - loss: 0.0254 - accuracy: 0.9922 - val_loss: 0.0214 - val_accuracy: 0.9942\n"
     ]
    },
    {
     "data": {
      "text/plain": [
       "<keras.callbacks.callbacks.History at 0x7fe5a6552250>"
      ]
     },
     "execution_count": 42,
     "metadata": {},
     "output_type": "execute_result"
    }
   ],
   "source": [
    "triple_cnn.fit(X_aug_resized, y_aug,\n",
    "              batch_size=256,\n",
    "              epochs=15,\n",
    "              verbose=1,\n",
    "              callbacks=callbacks,\n",
    "              validation_data=(X_test_resized, y_test))"
   ]
  },
  {
   "cell_type": "code",
   "execution_count": 245,
   "metadata": {},
   "outputs": [
    {
     "name": "stdout",
     "output_type": "stream",
     "text": [
      "8400/8400 [==============================] - 9s 1ms/step\n",
      "Loss: 0.028446206388842776, Accuracy: 0.9936904907226562\n"
     ]
    }
   ],
   "source": [
    "cnn_score = doubled_cnn.evaluate(X_test_resized, y_test)\n",
    "print('Loss: {0}, Accuracy: {1}'.format(cnn_score[0], cnn_score[1]))"
   ]
  },
  {
   "cell_type": "code",
   "execution_count": 44,
   "metadata": {},
   "outputs": [],
   "source": [
    "# Prediction on test part and save results in csv\n",
    "test = test.reshape(test.shape[0], 28, 28, 1)\n",
    "y_pred = doubled_cnn.predict(test)"
   ]
  },
  {
   "cell_type": "code",
   "execution_count": 45,
   "metadata": {},
   "outputs": [],
   "source": [
    "label_id = np.arange(1, test.shape[0]+1)\n",
    "\n",
    "prediction = []\n",
    "for i in range(len(label_id)):\n",
    "    prediction.append(np.argmax(y_pred[i]))\n",
    "    \n",
    "submission = pd.DataFrame({'ImageId': label_id, 'Label': prediction})"
   ]
  },
  {
   "cell_type": "code",
   "execution_count": 46,
   "metadata": {},
   "outputs": [],
   "source": [
    "submission.to_csv('predict_digits.csv', index=False)"
   ]
  }
 ],
 "metadata": {
  "kernelspec": {
   "display_name": "Python 3",
   "language": "python",
   "name": "python3"
  },
  "language_info": {
   "codemirror_mode": {
    "name": "ipython",
    "version": 3
   },
   "file_extension": ".py",
   "mimetype": "text/x-python",
   "name": "python",
   "nbconvert_exporter": "python",
   "pygments_lexer": "ipython3",
   "version": "3.7.6"
  }
 },
 "nbformat": 4,
 "nbformat_minor": 2
}
